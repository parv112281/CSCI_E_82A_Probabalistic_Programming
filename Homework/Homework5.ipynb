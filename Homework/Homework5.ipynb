{
 "cells": [
  {
   "cell_type": "markdown",
   "metadata": {},
   "source": [
    "# Homework 5\n",
    "## CSCI E-82A\n",
    "\n",
    "## Background\n",
    "\n",
    "Robotics are becoming common place in many business situations. For example in retail sales robotics are used in warehouse management. Amazon is widely known to be a leader in this area. But, according to a recent Wall Street Journal article, UK online grocery retailer, Ocado, is rumored to have even more sophisticated order fulfilment robotics.\n",
    "\n",
    "https://www.wsj.com/articles/how-robots-and-drones-will-change-retail-forever-1539604800   \n",
    "\n",
    "Not surprisingly, companies like Amazon and Ocado do not disclose much information on their robotics. Nonetheless, we can be sure that sensor fusion is a significant problem. For example, sensor fusion is a significant issue with self driving cars. See for example:\n",
    "\n",
    "https://arxiv.org/ftp/arxiv/papers/0709/0709.1099.pdf  \n",
    "\n",
    "These types of complex robots require years, even decades, to develop and perfect. In reality, the processes used in such complex robots are decomposable into a large number of **simple single tasks**. The complete system then operates by integrating the many single tasks into a **multi-task** environment. To avoid this complexity (and finish the course in less than 10 years:) you will address a simple single task problem. "
   ]
  },
  {
   "cell_type": "markdown",
   "metadata": {},
   "source": [
    "\n",
    "## Scenario  \n",
    "\n",
    "Bob's Orchards is a premium seller of apples and pears. Bob's customers pay a substantial premium for superior fruit. To satisfy these customers, Bob's must ensure that the fruit delivered is correctly packed and perfectly ripe. \n",
    "\n",
    "Like many legacy industries requiring specialized human skills, Bob's is facing a talent problem. An expert human inspector will only pass fruit at the perfect ripeness, maximizing customer satisfaction and utility.   \n",
    "\n",
    "However, many of the human inspectors who expertly check each piece of fruit shipped for ripeness are approaching retirement age. Management's attempts to recruit younger people to apprentice as fruit inspectors have been, well, fruitless (oh, sorry!:). Therefore, it has become imperative to find some type of automated system which can reduce the workload on the diminishing number of human inspectors. To address this problem, Bob's is deploying technology from Robots R Us.\n",
    "\n",
    "The first robotic system to be deployed at Bob's uses a sensor array to determine if the fruit being shipped is at the correct ripeness. There are two sensors, a color vision system that examines the fruit to determine if it is ripe, and a smell sensor that determines if the fruit is not ripe enough or over ripe. If either sensor indicates the fruit is bad it is not shipped. In addition customers may reject even perfect fruit for no apparent reason, whereas others seem perfectly happy with less than perfect fruit.   \n",
    "\n",
    "The probability distributions, decisions and utilities of this system can be summarized as follows:\n",
    "1. The unconditional probability distribution of the ripeness of the fruit being packed is known.\n",
    "2. A conditional distribution for the visual color sensor reading conditioned on fruit quality. \n",
    "3. A conditional distribution for the smell sensor reading conditioned on fruit quality. \n",
    "4. A conditional probability distribution of shipping the fruit conditioned on the readings of both sensors. This can be thought of as classifying the fruit as good or bad based on the senor results. There is a decision variable associated with this CPD. The fruit is only shipped if both sensors read positive.  \n",
    "5. There is a conditional probability distribution of a customer accepting an order, or not, depending conditioned on CPD for the fruit classified for shipment and the actual fruit quality. \n",
    "6. There is a utility of the customer accepting or rejecting an order.  "
   ]
  },
  {
   "cell_type": "markdown",
   "metadata": {},
   "source": [
    "## Instructions\n",
    "\n",
    "You have been hired as a consultant to determine the optimal decision process for the ripeness testing robot. To perform this analysis you will do the following steps:\n",
    "\n",
    "1. Draw an influence diagram for the fruit inspection task. \n",
    "2. Use a combination of pgmy and Python with numpy, to compute and compare the utility for using robot aided inspection.\n",
    "3. Compare the utility of robot aided inspection to the current manual inspection process. "
   ]
  },
  {
   "cell_type": "markdown",
   "metadata": {},
   "source": [
    "### Influence Diagram\n",
    "\n",
    "Once you have completed your influence diagram, display it here by replacing the influence.jpg file. \n",
    "\n",
    "<img src=\"Influence.jpg\" alt=\"Drawing\" style=\"width:600px; height:400px\"/>\n",
    "<center> Your influence diagram must go here </center>\n",
    "\n",
    "\n",
    "> **Note:** You can save your figure as a file titled Influence.jpg in the same directory as your notebook. The figure should then be visible in the notebook and in the .html you will download. \n"
   ]
  },
  {
   "cell_type": "markdown",
   "metadata": {},
   "source": [
    "### Define the DAG   \n",
    "\n",
    "Before you proceed, execute the code in the cell below:"
   ]
  },
  {
   "cell_type": "code",
   "execution_count": null,
   "metadata": {},
   "outputs": [],
   "source": [
    "from pgmpy.models import BayesianModel\n",
    "from pgmpy.factors.discrete import TabularCPD\n",
    "from pgmpy.inference import VariableElimination\n",
    "import numpy as np"
   ]
  },
  {
   "cell_type": "markdown",
   "metadata": {},
   "source": [
    "As a next step, you will define the CPDs for the DAG.   \n",
    "\n",
    "**Fruit Quality**    \n",
    "\n",
    "The fruit quality arriving from the orchard is characterized by the unconditional probability distribution:     \n",
    "\n",
    "| Fruit Quality | Bad | Good |\n",
    "|----|----|----|\n",
    "|Probability | 0.3 | 0.7 |     \n",
    "\n",
    "**Color Sensor**    \n",
    "\n",
    "The color sensor determines fruit quality given the actual quality of the fruit. The sensor is not completely reliable. It will detect good fruit as bad and vice versa. The vendor has tuned the sensor to improve accuracy of bad fruit detection at the expense of good fruit detection accuracy. The CPD is as follows: \n",
    "\n",
    "| sensor reading | bad fruit | good fruit |\n",
    "|----|----|----|\n",
    "| Sensed as Bad | 0.9 | 0.20 |\n",
    "| Sensed as Good | 0.1 | 0.80 |\n",
    "\n",
    "**Smell Sensor**    \n",
    "\n",
    "The smell sensor determines fruit quality given the actual quality of the fruit. As with the color sensor, this sensor is not completely reliable. It will detect good fruit as bad and vice versa. The vendor has tuned the sensor to improve accuracy of bad fruit detection at the expense of good fruit detection accuracy. Overall, this sensor is less reliable than the color sensor. The CPD is as follows: \n",
    "\n",
    "| sensor reading | good fruit | bad fruit |\n",
    "|----|----|----|\n",
    "| Sensed as Bad | 0.8 | 0.30 |\n",
    "| Sensed as Good | 0.2 | 0.70 |\n",
    "\n",
    "**Fruit Classification**\n",
    "\n",
    "Bob's Fruit is quite particular about the quality of fruit shipped. An order will not be shipped unless both sensors agree that the fruit is good.  \n",
    "\n",
    "You must determine the values of this CPD and the evidence representing the decision process. This variable is conditioned on the two sensor CPDs. Keep in mind that as long as the probabilities in each column of the CPD adds to 1.0, this is a valid distribution. \n",
    "\n",
    "**Customer Satisfaction**\n",
    "\n",
    "The customer satisfaction is conditional on the actual fruit quality and the sensor classification of the shipment. Some customers will reject good shipments, whereas some customers will accept a bad shipment. This CPD is:\n",
    "\n",
    "| Conditional Variables | Bad sensors - Bad fruit | Bad sensors - Good fruit | Good sensors - Bad fruit | Good sensors - Good fruit |  \n",
    "|----|----|----|----|----|    \n",
    "| Not satisfied | 0.8 | 0.1 | 0.8 | 0.1 |    \n",
    "| Satisfied | 0.2 | 0.9 | 0.2 | 0.9 |  \n",
    "\n",
    "Define these CPDs in the cell below. "
   ]
  },
  {
   "cell_type": "code",
   "execution_count": null,
   "metadata": {},
   "outputs": [],
   "source": []
  },
  {
   "cell_type": "markdown",
   "metadata": {},
   "source": [
    "In the cell below do the following:\n",
    "\n",
    "1. Define the DAG model.\n",
    "2. Add the CPDs to the model.\n",
    "3. Check the model."
   ]
  },
  {
   "cell_type": "code",
   "execution_count": null,
   "metadata": {},
   "outputs": [],
   "source": []
  },
  {
   "cell_type": "markdown",
   "metadata": {},
   "source": [
    "### Inference and Utility Analysis\n",
    "\n",
    "Now, you will define the utility function of customer satisfaction. In the cell below define an array for the utility function as shown in the table:\n",
    "\n",
    "|  | Satisfied | Not Satisfied |\n",
    "|----|----|----|\n",
    "|Utility | 20 | -40 |"
   ]
  },
  {
   "cell_type": "code",
   "execution_count": null,
   "metadata": {},
   "outputs": [],
   "source": []
  },
  {
   "cell_type": "markdown",
   "metadata": {},
   "source": [
    "As a first step in this analysis, you will create baseline utility figures so that you can compare these to other utilities. Compute the utility for these cases:\n",
    "\n",
    "1. The fruit is shipped without inspection. The quality of the fruit will be determined by what comes from the orchard. \n",
    "2. The fruit is 100% manually inspected by the expert human inspector, so that fruit of perfect quality is shipped, keeping in mind that customers may reject perfectly good fruit. \n",
    "\n",
    "> **Hint:** You may wish to do these calculations using numpy, rather than pgmpy. "
   ]
  },
  {
   "cell_type": "code",
   "execution_count": null,
   "metadata": {},
   "outputs": [],
   "source": []
  },
  {
   "cell_type": "markdown",
   "metadata": {},
   "source": [
    "Does inspection of the fruit significantly improve customer satisfaction? "
   ]
  },
  {
   "cell_type": "markdown",
   "metadata": {},
   "source": [
    "ANS:  "
   ]
  },
  {
   "cell_type": "markdown",
   "metadata": {},
   "source": [
    "In the cell below define a function to compute the utility given a VariableEliminatiion object, a query variable, the utility function, and evidence dictionary. "
   ]
  },
  {
   "cell_type": "code",
   "execution_count": null,
   "metadata": {},
   "outputs": [],
   "source": []
  },
  {
   "cell_type": "markdown",
   "metadata": {},
   "source": [
    "In the cell below create a VariableElimination object using your model as an argument."
   ]
  },
  {
   "cell_type": "code",
   "execution_count": null,
   "metadata": {},
   "outputs": [],
   "source": []
  },
  {
   "cell_type": "markdown",
   "metadata": {},
   "source": [
    "Now, you are ready to do a query on your model and to compute utility of the robotic fruit inspection. In the cell below do the following:\n",
    "\n",
    "1. Compute and print the results of a query on the customer satisfaction variable, with decision variable (evidence) that only fruit determined good by both sensors is shipped, the decision variable. \n",
    "2. Compute and print the utility for customer satisfaction with decision variable (evidence) that only fruit determined good by both sensors is shipped, the decision variable. "
   ]
  },
  {
   "cell_type": "code",
   "execution_count": null,
   "metadata": {
    "scrolled": true
   },
   "outputs": [],
   "source": []
  },
  {
   "cell_type": "markdown",
   "metadata": {},
   "source": [
    "Examine the marginal distribution of the query variable. Is this distribution (done by sensors) close to the value of customer satisfaction with perfect fruit inspection (done by expert human inspectors)?    \n",
    "\n",
    "Next, compare the utility value of sensor inspection to the one found for perfect fruit inspection. Are the values similar? "
   ]
  },
  {
   "cell_type": "markdown",
   "metadata": {},
   "source": [
    "ANS 1:     \n",
    "\n",
    "ANS 2: "
   ]
  },
  {
   "cell_type": "markdown",
   "metadata": {},
   "source": [
    "The forgoing analysis assumes the cost of either automatic or human fruit inspection is zero. It is more realistic to consider the costs of the inspection when computing and comparing the total utility for the two scenarios. \n",
    "\n",
    "Assume the following utility functions for human and auto\n",
    "\n",
    "|  | No Inspection | Inspection |\n",
    "|----|----|----|\n",
    "|Human Inspection Utility | 0 | -5 |   \n",
    "\n",
    "|  | No Inspection | Inspection |\n",
    "|----|----|----|\n",
    "|Sensor Inspection Utility | 0 | -1 |\n",
    "\n",
    "Using these utility functions compute and compare the total utility for both scenarios and answer these questions. \n",
    "\n",
    "- What is the total utility for human inspected fruit?\n",
    "- What is the total utility for sensor inspected fruit?\n",
    "- Which process produces higher utility? "
   ]
  },
  {
   "cell_type": "markdown",
   "metadata": {},
   "source": [
    "ANS 1:    \n",
    "ANS 2:    \n",
    "ANS 3:   "
   ]
  },
  {
   "cell_type": "markdown",
   "metadata": {},
   "source": [
    "### Single Sensor \n",
    "\n",
    "Your foregoing analysis is based on a scenario with two sensors with **independent errors**. Now, you will investigate the value of using a single sensor verses using multiple sensors.   \n",
    "\n",
    "The color vision sensor is known to be more accurate, so the scenario is to use only this sensor. The DAG no longer needs a CPD for the smell sensor or a CPD for the classification of fruit quality, which integrated the output of the two sensors. Fruit determined to be good by the single sensor will be shipped. The decision variable (ship or not) is associated only with the single sensor CPD.     \n",
    "\n",
    "In the cell below you will do the following:\n",
    "\n",
    "1. Create a new CPD for customer satisfaction. The probability distribution is no different. However, this CPD is conditional on the color vision sensor CPD and actual fruit quality.  \n",
    "2. Define the edges of your DAG model with only the three remaining CPDs. Notice two CPDs are unchanged.   \n",
    "3. Add the CPDs to you new DAG model. \n",
    "4. Check you model!"
   ]
  },
  {
   "cell_type": "code",
   "execution_count": null,
   "metadata": {},
   "outputs": [],
   "source": []
  },
  {
   "cell_type": "markdown",
   "metadata": {},
   "source": [
    "Now, you are ready to do a query on your new model and to compute utility of the single sensor inspection. In the cell below do the following:\n",
    "\n",
    "1. Compute and print the results of a query on the customer satisfaction variable, with decision variable (evidence) that only fruit determined good by the color vision sensor is shipped, the decision variable. \n",
    "2. Compute and print the utility for customer satisfaction with decision variable (evidence) that only fruit determined good by the single sensors is shipped, the decision variable. "
   ]
  },
  {
   "cell_type": "code",
   "execution_count": null,
   "metadata": {},
   "outputs": [],
   "source": []
  },
  {
   "cell_type": "markdown",
   "metadata": {},
   "source": [
    "Examine the marginal distribution of the query variable. Is this distribution close to the value of customer satisfaction for fruit inspected by the two sensor array?    \n",
    "\n",
    "Next, compare the utility value to the one found for fruit inspected by the two sensor array. Are the values significantly different? Which method is superior? "
   ]
  },
  {
   "cell_type": "markdown",
   "metadata": {},
   "source": [
    "ANS 1:    \n",
    "\n",
    "ANS 2:   "
   ]
  },
  {
   "cell_type": "markdown",
   "metadata": {},
   "source": [
    "As with the first comparison of utilities the cost of inspection should be considered. However, this difference may not be that great, since much of fixtures and computer system required are the same as for single sensor inspection. The utility function for single sensor inspection is shown below. \n",
    "\n",
    "|  | No Inspection | Inspection |\n",
    "|----|----|----|\n",
    "|Sensor Inspection Utility | 0 | -0.8 |\n",
    "\n",
    "Using this utility function, compute the total utility of single sensor inspection and compare it to the total utility for multi-sensor inspection. \n",
    "\n",
    "- What is the total utility for single sensor inspected fruit?\n",
    "- Which process produces higher total utility?   \n",
    "- In understanding this difference how important do you think it is that the errors of the two sensors are independent? "
   ]
  },
  {
   "cell_type": "markdown",
   "metadata": {},
   "source": [
    "ANS 1:   \n",
    "ANS 2:   \n",
    "ANS 3:   "
   ]
  },
  {
   "cell_type": "code",
   "execution_count": null,
   "metadata": {},
   "outputs": [],
   "source": []
  }
 ],
 "metadata": {
  "kernelspec": {
   "display_name": "Python 3",
   "language": "python",
   "name": "python3"
  },
  "language_info": {
   "codemirror_mode": {
    "name": "ipython",
    "version": 3
   },
   "file_extension": ".py",
   "mimetype": "text/x-python",
   "name": "python",
   "nbconvert_exporter": "python",
   "pygments_lexer": "ipython3",
   "version": "3.7.3"
  }
 },
 "nbformat": 4,
 "nbformat_minor": 2
}
