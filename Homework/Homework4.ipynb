{
 "cells": [
  {
   "cell_type": "markdown",
   "metadata": {},
   "source": [
    "# Homework 4\n",
    "\n",
    "## Graphical Parameters and Model Structure\n",
    "\n",
    "In the previous homework, you performed queries on a graphical model of possible murders and murder weapons. Now, you will estimate model parameters and structure using data.   \n",
    "\n",
    "As a reminder, the joint probability distribution is:\n",
    "\n",
    "$$p(B,C,W,MO,M)$$     \n",
    "\n",
    "where the letters indicate the following variables;   \n",
    "$B = $ butler committed the crime, {not murderer, murderer},   \n",
    "$C = $ cook committed the crime, {not murderer, murderer},    \n",
    "$W = $ choice of weapon, {poison, knife}, conditional on butler and cook,  \n",
    "$MO = $motive for the murder, {no motive, has motive}, conditional on butler and cook,   \n",
    "$M = $ murderer {butler or cook, third party alone}.    \n",
    "\n",
    "We have determined that the joint distribution can be factored:\n",
    "\n",
    "$$p(B,C,W,MO,M) = p(B)\\ p(C)\\ p(W\\ |\\ B, C)\\ p(MO\\ |\\ B,C)\\ p(M\\ |\\ B,C,MO,W)$$  \n",
    "\n",
    "A graph of the model is shown below. \n",
    "\n",
    "<img src=\"MurderDirected.JPG\" alt=\"Drawing\" style=\"width:500px; height:300px\"/>\n",
    "<center> DAG for murder evidence </center>\n",
    "\n",
    "Notice that the skeleton of this graph does not have a tree structure. This fact will limit how well estimation algorithms will work, particularly for graph structure. Keep this fact in mind as you proceed. \n",
    "\n",
    "As a first step execute the code in the below to simulate the 25 cases from the Bayesian directed model you have previously created. Examine the code to see the CPD tables for this simulation. \n",
    "\n",
    "> **Note:** You must change the name of the pickled model file in the `open` statement to match the file name you are using. "
   ]
  },
  {
   "cell_type": "code",
   "execution_count": 1,
   "metadata": {
    "scrolled": false
   },
   "outputs": [
    {
     "name": "stdout",
     "output_type": "stream",
     "text": [
      "The model loaded correctly: True\n"
     ]
    },
    {
     "data": {
      "text/html": [
       "<div>\n",
       "<style scoped>\n",
       "    .dataframe tbody tr th:only-of-type {\n",
       "        vertical-align: middle;\n",
       "    }\n",
       "\n",
       "    .dataframe tbody tr th {\n",
       "        vertical-align: top;\n",
       "    }\n",
       "\n",
       "    .dataframe thead th {\n",
       "        text-align: right;\n",
       "    }\n",
       "</style>\n",
       "<table border=\"1\" class=\"dataframe\">\n",
       "  <thead>\n",
       "    <tr style=\"text-align: right;\">\n",
       "      <th></th>\n",
       "      <th>C</th>\n",
       "      <th>B</th>\n",
       "      <th>W</th>\n",
       "      <th>MO</th>\n",
       "      <th>M</th>\n",
       "    </tr>\n",
       "  </thead>\n",
       "  <tbody>\n",
       "    <tr>\n",
       "      <th>0</th>\n",
       "      <td>0</td>\n",
       "      <td>1</td>\n",
       "      <td>1</td>\n",
       "      <td>1</td>\n",
       "      <td>2</td>\n",
       "    </tr>\n",
       "    <tr>\n",
       "      <th>1</th>\n",
       "      <td>0</td>\n",
       "      <td>0</td>\n",
       "      <td>1</td>\n",
       "      <td>0</td>\n",
       "      <td>0</td>\n",
       "    </tr>\n",
       "    <tr>\n",
       "      <th>2</th>\n",
       "      <td>1</td>\n",
       "      <td>1</td>\n",
       "      <td>0</td>\n",
       "      <td>1</td>\n",
       "      <td>1</td>\n",
       "    </tr>\n",
       "    <tr>\n",
       "      <th>3</th>\n",
       "      <td>1</td>\n",
       "      <td>1</td>\n",
       "      <td>1</td>\n",
       "      <td>1</td>\n",
       "      <td>2</td>\n",
       "    </tr>\n",
       "    <tr>\n",
       "      <th>4</th>\n",
       "      <td>0</td>\n",
       "      <td>0</td>\n",
       "      <td>1</td>\n",
       "      <td>0</td>\n",
       "      <td>0</td>\n",
       "    </tr>\n",
       "    <tr>\n",
       "      <th>5</th>\n",
       "      <td>0</td>\n",
       "      <td>0</td>\n",
       "      <td>1</td>\n",
       "      <td>0</td>\n",
       "      <td>0</td>\n",
       "    </tr>\n",
       "    <tr>\n",
       "      <th>6</th>\n",
       "      <td>1</td>\n",
       "      <td>0</td>\n",
       "      <td>1</td>\n",
       "      <td>1</td>\n",
       "      <td>1</td>\n",
       "    </tr>\n",
       "    <tr>\n",
       "      <th>7</th>\n",
       "      <td>0</td>\n",
       "      <td>1</td>\n",
       "      <td>1</td>\n",
       "      <td>1</td>\n",
       "      <td>2</td>\n",
       "    </tr>\n",
       "    <tr>\n",
       "      <th>8</th>\n",
       "      <td>0</td>\n",
       "      <td>1</td>\n",
       "      <td>1</td>\n",
       "      <td>1</td>\n",
       "      <td>2</td>\n",
       "    </tr>\n",
       "    <tr>\n",
       "      <th>9</th>\n",
       "      <td>0</td>\n",
       "      <td>1</td>\n",
       "      <td>0</td>\n",
       "      <td>1</td>\n",
       "      <td>2</td>\n",
       "    </tr>\n",
       "    <tr>\n",
       "      <th>10</th>\n",
       "      <td>1</td>\n",
       "      <td>1</td>\n",
       "      <td>0</td>\n",
       "      <td>1</td>\n",
       "      <td>2</td>\n",
       "    </tr>\n",
       "    <tr>\n",
       "      <th>11</th>\n",
       "      <td>0</td>\n",
       "      <td>0</td>\n",
       "      <td>1</td>\n",
       "      <td>0</td>\n",
       "      <td>0</td>\n",
       "    </tr>\n",
       "    <tr>\n",
       "      <th>12</th>\n",
       "      <td>1</td>\n",
       "      <td>1</td>\n",
       "      <td>0</td>\n",
       "      <td>1</td>\n",
       "      <td>2</td>\n",
       "    </tr>\n",
       "    <tr>\n",
       "      <th>13</th>\n",
       "      <td>0</td>\n",
       "      <td>1</td>\n",
       "      <td>1</td>\n",
       "      <td>1</td>\n",
       "      <td>2</td>\n",
       "    </tr>\n",
       "    <tr>\n",
       "      <th>14</th>\n",
       "      <td>1</td>\n",
       "      <td>1</td>\n",
       "      <td>0</td>\n",
       "      <td>1</td>\n",
       "      <td>1</td>\n",
       "    </tr>\n",
       "    <tr>\n",
       "      <th>15</th>\n",
       "      <td>0</td>\n",
       "      <td>1</td>\n",
       "      <td>1</td>\n",
       "      <td>1</td>\n",
       "      <td>2</td>\n",
       "    </tr>\n",
       "    <tr>\n",
       "      <th>16</th>\n",
       "      <td>0</td>\n",
       "      <td>1</td>\n",
       "      <td>1</td>\n",
       "      <td>1</td>\n",
       "      <td>2</td>\n",
       "    </tr>\n",
       "    <tr>\n",
       "      <th>17</th>\n",
       "      <td>0</td>\n",
       "      <td>1</td>\n",
       "      <td>1</td>\n",
       "      <td>1</td>\n",
       "      <td>2</td>\n",
       "    </tr>\n",
       "    <tr>\n",
       "      <th>18</th>\n",
       "      <td>0</td>\n",
       "      <td>0</td>\n",
       "      <td>1</td>\n",
       "      <td>0</td>\n",
       "      <td>0</td>\n",
       "    </tr>\n",
       "    <tr>\n",
       "      <th>19</th>\n",
       "      <td>0</td>\n",
       "      <td>1</td>\n",
       "      <td>1</td>\n",
       "      <td>1</td>\n",
       "      <td>2</td>\n",
       "    </tr>\n",
       "    <tr>\n",
       "      <th>20</th>\n",
       "      <td>0</td>\n",
       "      <td>0</td>\n",
       "      <td>1</td>\n",
       "      <td>0</td>\n",
       "      <td>0</td>\n",
       "    </tr>\n",
       "    <tr>\n",
       "      <th>21</th>\n",
       "      <td>1</td>\n",
       "      <td>0</td>\n",
       "      <td>0</td>\n",
       "      <td>0</td>\n",
       "      <td>1</td>\n",
       "    </tr>\n",
       "    <tr>\n",
       "      <th>22</th>\n",
       "      <td>1</td>\n",
       "      <td>0</td>\n",
       "      <td>1</td>\n",
       "      <td>1</td>\n",
       "      <td>1</td>\n",
       "    </tr>\n",
       "    <tr>\n",
       "      <th>23</th>\n",
       "      <td>0</td>\n",
       "      <td>1</td>\n",
       "      <td>0</td>\n",
       "      <td>1</td>\n",
       "      <td>2</td>\n",
       "    </tr>\n",
       "    <tr>\n",
       "      <th>24</th>\n",
       "      <td>1</td>\n",
       "      <td>0</td>\n",
       "      <td>1</td>\n",
       "      <td>0</td>\n",
       "      <td>1</td>\n",
       "    </tr>\n",
       "  </tbody>\n",
       "</table>\n",
       "</div>"
      ],
      "text/plain": [
       "    C  B  W  MO  M\n",
       "0   0  1  1   1  2\n",
       "1   0  0  1   0  0\n",
       "2   1  1  0   1  1\n",
       "3   1  1  1   1  2\n",
       "4   0  0  1   0  0\n",
       "5   0  0  1   0  0\n",
       "6   1  0  1   1  1\n",
       "7   0  1  1   1  2\n",
       "8   0  1  1   1  2\n",
       "9   0  1  0   1  2\n",
       "10  1  1  0   1  2\n",
       "11  0  0  1   0  0\n",
       "12  1  1  0   1  2\n",
       "13  0  1  1   1  2\n",
       "14  1  1  0   1  1\n",
       "15  0  1  1   1  2\n",
       "16  0  1  1   1  2\n",
       "17  0  1  1   1  2\n",
       "18  0  0  1   0  0\n",
       "19  0  1  1   1  2\n",
       "20  0  0  1   0  0\n",
       "21  1  0  0   0  1\n",
       "22  1  0  1   1  1\n",
       "23  0  1  0   1  2\n",
       "24  1  0  1   0  1"
      ]
     },
     "execution_count": 1,
     "metadata": {},
     "output_type": "execute_result"
    }
   ],
   "source": [
    "## Simulate the binary tables\n",
    "import numpy as np\n",
    "import numpy.random as nr\n",
    "import numpy as np\n",
    "import pandas as pd\n",
    "from pgmpy.sampling import BayesianModelSampling\n",
    "from pgmpy.models import BayesianModel\n",
    "from pgmpy.estimators import MaximumLikelihoodEstimator, BayesianEstimator\n",
    "from pgmpy.inference import BeliefPropagation\n",
    "import pickle\n",
    "\n",
    "## Load the model from a file\n",
    "with open('murder_model.pkl', 'rb') as pkl:\n",
    "    murder_model = pickle.load(pkl)\n",
    "print('The model loaded correctly: {}'.format(murder_model.check_model()))\n",
    "\n",
    "## Simulate values from the DAG\n",
    "def simulate_from_DAG(model, nsamps = 25, set_seed = 234):\n",
    "    nr.seed(set_seed)\n",
    "    simulation = BayesianModelSampling(model)\n",
    "    return(simulation.forward_sample(size = nsamps, return_type='dataframe'))\n",
    "\n",
    "\n",
    "nsamps = 25\n",
    "samples_25 = simulate_from_DAG(murder_model, nsamps = nsamps)\n",
    "samples_25"
   ]
  },
  {
   "cell_type": "markdown",
   "metadata": {},
   "source": [
    "## Part 1: Parameter Estimation\n",
    "\n",
    "With the dataset generated you will now estimate the parameters of the graphical model using both maximum likelihood and Bayesian methods. \n",
    "\n",
    "As a first step execute the code in the cell below to load the packages you will need."
   ]
  },
  {
   "cell_type": "code",
   "execution_count": 2,
   "metadata": {},
   "outputs": [],
   "source": [
    "from pgmpy.models import BayesianModel\n",
    "from pgmpy.estimators import MaximumLikelihoodEstimator, BayesianEstimator\n",
    "from pgmpy.inference import BeliefPropagation\n",
    "from pgmpy.estimators import HillClimbSearch, BicScore, K2Score, StructureScore"
   ]
  },
  {
   "cell_type": "markdown",
   "metadata": {},
   "source": [
    "Now, create and execute the code in the cell below to estimate and display the parameters of the CPDs using the **maximum likelihood method** from the simulated graphy data."
   ]
  },
  {
   "cell_type": "code",
   "execution_count": 3,
   "metadata": {},
   "outputs": [
    {
     "name": "stdout",
     "output_type": "stream",
     "text": [
      "CPD of B:\n",
      "+------+-----+\n",
      "| B(0) | 0.4 |\n",
      "+------+-----+\n",
      "| B(1) | 0.6 |\n",
      "+------+-----+\n",
      "CPD of C:\n",
      "+------+------+\n",
      "| C(0) | 0.64 |\n",
      "+------+------+\n",
      "| C(1) | 0.36 |\n",
      "+------+------+\n",
      "CPD of M:\n",
      "+------+--------------------+-------+--------------------+--------------------+-------+-------+--------------------+-------+--------------------+--------------------+-------+-------+--------------------+--------------------+-------+-------+\n",
      "| B    | B(0)               | B(0)  | B(0)               | B(0)               | B(0)  | B(0)  | B(0)               | B(0)  | B(1)               | B(1)               | B(1)  | B(1)  | B(1)               | B(1)               | B(1)  | B(1)  |\n",
      "+------+--------------------+-------+--------------------+--------------------+-------+-------+--------------------+-------+--------------------+--------------------+-------+-------+--------------------+--------------------+-------+-------+\n",
      "| C    | C(0)               | C(0)  | C(0)               | C(0)               | C(1)  | C(1)  | C(1)               | C(1)  | C(0)               | C(0)               | C(0)  | C(0)  | C(1)               | C(1)               | C(1)  | C(1)  |\n",
      "+------+--------------------+-------+--------------------+--------------------+-------+-------+--------------------+-------+--------------------+--------------------+-------+-------+--------------------+--------------------+-------+-------+\n",
      "| MO   | MO(0)              | MO(0) | MO(1)              | MO(1)              | MO(0) | MO(0) | MO(1)              | MO(1) | MO(0)              | MO(0)              | MO(1) | MO(1) | MO(0)              | MO(0)              | MO(1) | MO(1) |\n",
      "+------+--------------------+-------+--------------------+--------------------+-------+-------+--------------------+-------+--------------------+--------------------+-------+-------+--------------------+--------------------+-------+-------+\n",
      "| W    | W(0)               | W(1)  | W(0)               | W(1)               | W(0)  | W(1)  | W(0)               | W(1)  | W(0)               | W(1)               | W(0)  | W(1)  | W(0)               | W(1)               | W(0)  | W(1)  |\n",
      "+------+--------------------+-------+--------------------+--------------------+-------+-------+--------------------+-------+--------------------+--------------------+-------+-------+--------------------+--------------------+-------+-------+\n",
      "| M(0) | 0.3333333333333333 | 1.0   | 0.3333333333333333 | 0.3333333333333333 | 0.0   | 0.0   | 0.3333333333333333 | 0.0   | 0.3333333333333333 | 0.3333333333333333 | 0.0   | 0.0   | 0.3333333333333333 | 0.3333333333333333 | 0.0   | 0.0   |\n",
      "+------+--------------------+-------+--------------------+--------------------+-------+-------+--------------------+-------+--------------------+--------------------+-------+-------+--------------------+--------------------+-------+-------+\n",
      "| M(1) | 0.3333333333333333 | 0.0   | 0.3333333333333333 | 0.3333333333333333 | 1.0   | 1.0   | 0.3333333333333333 | 1.0   | 0.3333333333333333 | 0.3333333333333333 | 0.0   | 0.0   | 0.3333333333333333 | 0.3333333333333333 | 0.5   | 0.0   |\n",
      "+------+--------------------+-------+--------------------+--------------------+-------+-------+--------------------+-------+--------------------+--------------------+-------+-------+--------------------+--------------------+-------+-------+\n",
      "| M(2) | 0.3333333333333333 | 0.0   | 0.3333333333333333 | 0.3333333333333333 | 0.0   | 0.0   | 0.3333333333333333 | 0.0   | 0.3333333333333333 | 0.3333333333333333 | 1.0   | 1.0   | 0.3333333333333333 | 0.3333333333333333 | 0.5   | 1.0   |\n",
      "+------+--------------------+-------+--------------------+--------------------+-------+-------+--------------------+-------+--------------------+--------------------+-------+-------+--------------------+--------------------+-------+-------+\n",
      "CPD of MO:\n",
      "+-------+------+------+------+------+\n",
      "| B     | B(0) | B(0) | B(1) | B(1) |\n",
      "+-------+------+------+------+------+\n",
      "| C     | C(0) | C(1) | C(0) | C(1) |\n",
      "+-------+------+------+------+------+\n",
      "| MO(0) | 1.0  | 0.5  | 0.0  | 0.0  |\n",
      "+-------+------+------+------+------+\n",
      "| MO(1) | 0.0  | 0.5  | 1.0  | 1.0  |\n",
      "+-------+------+------+------+------+\n",
      "CPD of W:\n",
      "+------+------+------+------+------+\n",
      "| B    | B(0) | B(0) | B(1) | B(1) |\n",
      "+------+------+------+------+------+\n",
      "| C    | C(0) | C(1) | C(0) | C(1) |\n",
      "+------+------+------+------+------+\n",
      "| W(0) | 0.0  | 0.25 | 0.2  | 0.8  |\n",
      "+------+------+------+------+------+\n",
      "| W(1) | 1.0  | 0.75 | 0.8  | 0.2  |\n",
      "+------+------+------+------+------+\n"
     ]
    }
   ],
   "source": [
    "m_model = BayesianModel([('B', 'MO'), ('B', 'W'), ('B', 'M'),('C', 'MO'), ('C', 'W'), ('C', 'M'), ('W', 'M'), ('MO', 'M')])\n",
    "m_model.fit(samples_25, estimator=MaximumLikelihoodEstimator)\n",
    "for cpd in m_model.get_cpds():\n",
    "    print(\"CPD of {variable}:\".format(variable=cpd.variable))\n",
    "    print(cpd)"
   ]
  },
  {
   "cell_type": "markdown",
   "metadata": {},
   "source": [
    "Examine these results and answer the following questions:\n",
    "1. How many parameters are there in the CPD tables?\n",
    "2. Keeping in mind that the probability of each column in a CPT must add to 1, how many free parameters must be fit for this model. \n",
    "3. Given the number of parameters, and the sample size of 25 cases, is this MLE problem under-determined and why? \n",
    "4. Notice the number of 0.0 and 1.0 parameter values. Is this evidence of an under-fit model, and why? "
   ]
  },
  {
   "cell_type": "markdown",
   "metadata": {},
   "source": [
    "ANS 1:  68    \n",
    "ANS 2:  42      \n",
    "ANS 3:  yes it is underdetermined, since there are more parameters than data points \n",
    "ANS 4:  yes, this is evidence of an underfit model since no outcome should be absolutely certain"
   ]
  },
  {
   "cell_type": "markdown",
   "metadata": {},
   "source": [
    "Next, you will estimate the CPD parameters using a **Bayesian estimator**. For this first estimate use the following moderately weak and uniform prior distributions (pseudo counts):\n",
    "\n",
    "- C: [3,3]\n",
    "- B: [3,3]\n",
    "- W: [[3,3,3,3], [3,3,3,3]]\n",
    "- MO: [[3,3,3,3], [3,3,3,3]]\n",
    "- M: [[2,2,2,2,2,2,2,2,2,2,2,2,2,2,2,2], [2,2,2,2,2,2,2,2,2,2,2,2,2,2,2,2], [2,2,2,2,2,2,2,2,2,2,2,2,2,2,2,2]]\n",
    "\n",
    "In the cell below create and execute the code to perform Bayes estimation and display the CPD parameters. "
   ]
  },
  {
   "cell_type": "code",
   "execution_count": 4,
   "metadata": {},
   "outputs": [
    {
     "name": "stdout",
     "output_type": "stream",
     "text": [
      "CPD of B:\n",
      "+------+----------+\n",
      "| B(0) | 0.419355 |\n",
      "+------+----------+\n",
      "| B(1) | 0.580645 |\n",
      "+------+----------+\n",
      "CPD of MO:\n",
      "+-------+------+------+--------+--------------------+\n",
      "| B     | B(0) | B(0) | B(1)   | B(1)               |\n",
      "+-------+------+------+--------+--------------------+\n",
      "| C     | C(0) | C(1) | C(0)   | C(1)               |\n",
      "+-------+------+------+--------+--------------------+\n",
      "| MO(0) | 0.75 | 0.5  | 0.1875 | 0.2727272727272727 |\n",
      "+-------+------+------+--------+--------------------+\n",
      "| MO(1) | 0.25 | 0.5  | 0.8125 | 0.7272727272727273 |\n",
      "+-------+------+------+--------+--------------------+\n",
      "CPD of W:\n",
      "+------+------+------+--------+---------------------+\n",
      "| B    | B(0) | B(0) | B(1)   | B(1)                |\n",
      "+------+------+------+--------+---------------------+\n",
      "| C    | C(0) | C(1) | C(0)   | C(1)                |\n",
      "+------+------+------+--------+---------------------+\n",
      "| W(0) | 0.25 | 0.4  | 0.3125 | 0.6363636363636364  |\n",
      "+------+------+------+--------+---------------------+\n",
      "| W(1) | 0.75 | 0.6  | 0.6875 | 0.36363636363636365 |\n",
      "+------+------+------+--------+---------------------+\n",
      "CPD of M:\n",
      "+------+--------------------+---------------------+--------------------+--------------------+---------------------+---------------------+--------------------+-------+--------------------+--------------------+-------+---------------------+--------------------+--------------------+-------+---------------------+\n",
      "| B    | B(0)               | B(0)                | B(0)               | B(0)               | B(0)                | B(0)                | B(0)               | B(0)  | B(1)               | B(1)               | B(1)  | B(1)                | B(1)               | B(1)               | B(1)  | B(1)                |\n",
      "+------+--------------------+---------------------+--------------------+--------------------+---------------------+---------------------+--------------------+-------+--------------------+--------------------+-------+---------------------+--------------------+--------------------+-------+---------------------+\n",
      "| C    | C(0)               | C(0)                | C(0)               | C(0)               | C(1)                | C(1)                | C(1)               | C(1)  | C(0)               | C(0)               | C(0)  | C(0)                | C(1)               | C(1)               | C(1)  | C(1)                |\n",
      "+------+--------------------+---------------------+--------------------+--------------------+---------------------+---------------------+--------------------+-------+--------------------+--------------------+-------+---------------------+--------------------+--------------------+-------+---------------------+\n",
      "| MO   | MO(0)              | MO(0)               | MO(1)              | MO(1)              | MO(0)               | MO(0)               | MO(1)              | MO(1) | MO(0)              | MO(0)              | MO(1) | MO(1)               | MO(0)              | MO(0)              | MO(1) | MO(1)               |\n",
      "+------+--------------------+---------------------+--------------------+--------------------+---------------------+---------------------+--------------------+-------+--------------------+--------------------+-------+---------------------+--------------------+--------------------+-------+---------------------+\n",
      "| W    | W(0)               | W(1)                | W(0)               | W(1)               | W(0)                | W(1)                | W(0)               | W(1)  | W(0)               | W(1)               | W(0)  | W(1)                | W(0)               | W(1)               | W(0)  | W(1)                |\n",
      "+------+--------------------+---------------------+--------------------+--------------------+---------------------+---------------------+--------------------+-------+--------------------+--------------------+-------+---------------------+--------------------+--------------------+-------+---------------------+\n",
      "| M(0) | 0.3333333333333333 | 0.6666666666666666  | 0.3333333333333333 | 0.3333333333333333 | 0.2857142857142857  | 0.2857142857142857  | 0.3333333333333333 | 0.25  | 0.3333333333333333 | 0.3333333333333333 | 0.25  | 0.14285714285714285 | 0.3333333333333333 | 0.3333333333333333 | 0.2   | 0.2857142857142857  |\n",
      "+------+--------------------+---------------------+--------------------+--------------------+---------------------+---------------------+--------------------+-------+--------------------+--------------------+-------+---------------------+--------------------+--------------------+-------+---------------------+\n",
      "| M(1) | 0.3333333333333333 | 0.16666666666666666 | 0.3333333333333333 | 0.3333333333333333 | 0.42857142857142855 | 0.42857142857142855 | 0.3333333333333333 | 0.5   | 0.3333333333333333 | 0.3333333333333333 | 0.25  | 0.14285714285714285 | 0.3333333333333333 | 0.3333333333333333 | 0.4   | 0.2857142857142857  |\n",
      "+------+--------------------+---------------------+--------------------+--------------------+---------------------+---------------------+--------------------+-------+--------------------+--------------------+-------+---------------------+--------------------+--------------------+-------+---------------------+\n",
      "| M(2) | 0.3333333333333333 | 0.16666666666666666 | 0.3333333333333333 | 0.3333333333333333 | 0.2857142857142857  | 0.2857142857142857  | 0.3333333333333333 | 0.25  | 0.3333333333333333 | 0.3333333333333333 | 0.5   | 0.7142857142857143  | 0.3333333333333333 | 0.3333333333333333 | 0.4   | 0.42857142857142855 |\n",
      "+------+--------------------+---------------------+--------------------+--------------------+---------------------+---------------------+--------------------+-------+--------------------+--------------------+-------+---------------------+--------------------+--------------------+-------+---------------------+\n",
      "CPD of C:\n",
      "+------+----------+\n",
      "| C(0) | 0.612903 |\n",
      "+------+----------+\n",
      "| C(1) | 0.387097 |\n",
      "+------+----------+\n"
     ]
    }
   ],
   "source": [
    "bayes_m_model = BayesianModel([('B', 'MO'), ('B', 'W'), ('B', 'M'),('C', 'MO'), ('C', 'W'), ('C', 'M'), ('W', 'M'), ('MO', 'M')])\n",
    "\n",
    "# Learing CPDs using Bayesian Estimators\n",
    "pseudo_counts = {'C': [[3],[3]], 'B':[[3],[3]], 'W':[[3,3,3,3],[3,3,3,3]], 'MO':[[3,3,3,3],[3,3,3,3]], 'M':[[2,2,2,2,2,2,2,2,2,2,2,2,2,2,2,2], [2,2,2,2,2,2,2,2,2,2,2,2,2,2,2,2], [2,2,2,2,2,2,2,2,2,2,2,2,2,2,2,2]]}\n",
    "bayes_m_model.fit(samples_25, estimator=BayesianEstimator, prior_type='dirichlet', pseudo_counts=pseudo_counts)\n",
    "for cpd in bayes_m_model.get_cpds():\n",
    "    print(\"CPD of {variable}:\".format(variable=cpd.variable))\n",
    "    print(cpd)"
   ]
  },
  {
   "cell_type": "markdown",
   "metadata": {},
   "source": [
    "Focus your attention on the M and W CPDs. In terms of extreme values, how does the table computed with the Bayesian method compare to the table computed with MLE? Is this behavior evidence of the regularization property of the Bayesian estimator. "
   ]
  },
  {
   "cell_type": "markdown",
   "metadata": {},
   "source": [
    "ANS 1: The tables generated by the bayesian method do not contain any extreme values such as 1 or 0 as compared to the tables generated with MLE method.     \n",
    "ANS 2: The Bayesian method avoids these extreme values by using regularization to constrain the probabilities."
   ]
  },
  {
   "cell_type": "markdown",
   "metadata": {},
   "source": [
    "Next verify that the independencies of all the variables in your model are correct using the `local_independencies` method. Create and execute the code in the cell below to display the independencies in the CPD. "
   ]
  },
  {
   "cell_type": "code",
   "execution_count": 5,
   "metadata": {},
   "outputs": [
    {
     "data": {
      "text/plain": [
       "(B _|_ C)\n",
       "(C _|_ B)\n",
       "(W _|_ MO | C, B)\n",
       "(MO _|_ W | C, B)"
      ]
     },
     "execution_count": 5,
     "metadata": {},
     "output_type": "execute_result"
    }
   ],
   "source": [
    "bayes_m_model.local_independencies(['B','C','W','MO','M'])"
   ]
  },
  {
   "cell_type": "markdown",
   "metadata": {},
   "source": [
    "**Question:** Is your graph an I-map of the factorized distribution and why?"
   ]
  },
  {
   "cell_type": "markdown",
   "metadata": {},
   "source": [
    "ANS: Yes, the graphical model is an I-map since all of the independencies depicted in the graphical model are also part of the original factorized distribution."
   ]
  },
  {
   "cell_type": "markdown",
   "metadata": {},
   "source": [
    "Now you are ready to perform inference on your model. Use the belief propagation method to query the M. "
   ]
  },
  {
   "cell_type": "code",
   "execution_count": 6,
   "metadata": {},
   "outputs": [
    {
     "name": "stdout",
     "output_type": "stream",
     "text": [
      "+-----+----------+\n",
      "| M   |   phi(M) |\n",
      "+=====+==========+\n",
      "| M_0 |   0.3115 |\n",
      "+-----+----------+\n",
      "| M_1 |   0.2838 |\n",
      "+-----+----------+\n",
      "| M_2 |   0.4047 |\n",
      "+-----+----------+\n"
     ]
    },
    {
     "name": "stderr",
     "output_type": "stream",
     "text": [
      "C:\\ProgramData\\Anaconda3\\lib\\site-packages\\pgmpy\\factors\\discrete\\DiscreteFactor.py:586: FutureWarning: Using a non-tuple sequence for multidimensional indexing is deprecated; use `arr[tuple(seq)]` instead of `arr[seq]`. In the future this will be interpreted as an array index, `arr[np.array(seq)]`, which will result either in an error or a different result.\n",
      "  phi.values = phi.values[slice_]\n",
      "C:\\ProgramData\\Anaconda3\\lib\\site-packages\\pgmpy\\factors\\discrete\\DiscreteFactor.py:598: FutureWarning: Using a non-tuple sequence for multidimensional indexing is deprecated; use `arr[tuple(seq)]` instead of `arr[seq]`. In the future this will be interpreted as an array index, `arr[np.array(seq)]`, which will result either in an error or a different result.\n",
      "  phi1.values = phi1.values[slice_]\n"
     ]
    }
   ],
   "source": [
    "from pgmpy.inference import BeliefPropagation\n",
    "m_belief = BeliefPropagation(bayes_m_model)\n",
    "m_b_prior_q = m_belief.query(variables=['M'])\n",
    "print(m_b_prior_q['M'])"
   ]
  },
  {
   "cell_type": "markdown",
   "metadata": {},
   "source": [
    "Compare this resulting marginal distribution to the marginal distribution you obtained for the same query in the previous homework using the CDP tables provided. How do these distribution differ?"
   ]
  },
  {
   "cell_type": "markdown",
   "metadata": {},
   "source": [
    "ANS: The original has higher probability for M_2 by more than .1, while the probabilties for M_0 and M_1 are lower in the original. The relative order of distribution is the same for both."
   ]
  },
  {
   "cell_type": "markdown",
   "metadata": {},
   "source": [
    "Next, you will estimate the CPD parameters using the Bayesian estimator with a moderately weak but biased prior distribution. Such a prior distribution can be constructed from some combination of data from previous murder cases and the opinions of several investigators (experts). For this first estimate use the following prior distributions (pseudo counts):\n",
    "\n",
    "- C: [[8], [2]]\n",
    "- B: [[2],[8]]\n",
    "- W: [[2,4,2,3], [4,2,4,3]]\n",
    "- MO: [[3,2,4,3], [3,4,2,3]]\n",
    "- M: [[1,1,1,1,4,4,4,4,1,1,1,1,2,2,2,2], [1,1,1,1,1,1,1,1,4,4,4,4,2,2,2,2], [4,4,4,4,1,1,1,1,1,1,1,1,1,1,1,1]]\n",
    "\n",
    "In the cell below create and execute the code to perform Bayes estimation and display the CPD parameters. "
   ]
  },
  {
   "cell_type": "code",
   "execution_count": 7,
   "metadata": {},
   "outputs": [
    {
     "name": "stdout",
     "output_type": "stream",
     "text": [
      "CPD of B:\n",
      "+------+----------+\n",
      "| B(0) | 0.342857 |\n",
      "+------+----------+\n",
      "| B(1) | 0.657143 |\n",
      "+------+----------+\n",
      "CPD of MO:\n",
      "+-------+------+------+------+--------------------+\n",
      "| B     | B(0) | B(0) | B(1) | B(1)               |\n",
      "+-------+------+------+------+--------------------+\n",
      "| C     | C(0) | C(1) | C(0) | C(1)               |\n",
      "+-------+------+------+------+--------------------+\n",
      "| MO(0) | 0.75 | 0.4  | 0.25 | 0.2727272727272727 |\n",
      "+-------+------+------+------+--------------------+\n",
      "| MO(1) | 0.25 | 0.6  | 0.75 | 0.7272727272727273 |\n",
      "+-------+------+------+------+--------------------+\n",
      "CPD of W:\n",
      "+------+---------------------+------+------+---------------------+\n",
      "| B    | B(0)                | B(0) | B(1) | B(1)                |\n",
      "+------+---------------------+------+------+---------------------+\n",
      "| C    | C(0)                | C(1) | C(0) | C(1)                |\n",
      "+------+---------------------+------+------+---------------------+\n",
      "| W(0) | 0.16666666666666666 | 0.5  | 0.25 | 0.6363636363636364  |\n",
      "+------+---------------------+------+------+---------------------+\n",
      "| W(1) | 0.8333333333333334  | 0.5  | 0.75 | 0.36363636363636365 |\n",
      "+------+---------------------+------+------+---------------------+\n",
      "CPD of M:\n",
      "+------+---------------------+---------------------+---------------------+---------------------+-------+---------------------+---------------------+-------+---------------------+---------------------+-------+---------------------+-------+-------+--------------------+--------------------+\n",
      "| B    | B(0)                | B(0)                | B(0)                | B(0)                | B(0)  | B(0)                | B(0)                | B(0)  | B(1)                | B(1)                | B(1)  | B(1)                | B(1)  | B(1)  | B(1)               | B(1)               |\n",
      "+------+---------------------+---------------------+---------------------+---------------------+-------+---------------------+---------------------+-------+---------------------+---------------------+-------+---------------------+-------+-------+--------------------+--------------------+\n",
      "| C    | C(0)                | C(0)                | C(0)                | C(0)                | C(1)  | C(1)                | C(1)                | C(1)  | C(0)                | C(0)                | C(0)  | C(0)                | C(1)  | C(1)  | C(1)               | C(1)               |\n",
      "+------+---------------------+---------------------+---------------------+---------------------+-------+---------------------+---------------------+-------+---------------------+---------------------+-------+---------------------+-------+-------+--------------------+--------------------+\n",
      "| MO   | MO(0)               | MO(0)               | MO(1)               | MO(1)               | MO(0) | MO(0)               | MO(1)               | MO(1) | MO(0)               | MO(0)               | MO(1) | MO(1)               | MO(0) | MO(0) | MO(1)              | MO(1)              |\n",
      "+------+---------------------+---------------------+---------------------+---------------------+-------+---------------------+---------------------+-------+---------------------+---------------------+-------+---------------------+-------+-------+--------------------+--------------------+\n",
      "| W    | W(0)                | W(1)                | W(0)                | W(1)                | W(0)  | W(1)                | W(0)                | W(1)  | W(0)                | W(1)                | W(0)  | W(1)                | W(0)  | W(1)  | W(0)               | W(1)               |\n",
      "+------+---------------------+---------------------+---------------------+---------------------+-------+---------------------+---------------------+-------+---------------------+---------------------+-------+---------------------+-------+-------+--------------------+--------------------+\n",
      "| M(0) | 0.16666666666666666 | 0.5833333333333334  | 0.16666666666666666 | 0.16666666666666666 | 0.4   | 0.5714285714285714  | 0.6666666666666666  | 0.5   | 0.16666666666666666 | 0.16666666666666666 | 0.125 | 0.07142857142857142 | 0.4   | 0.4   | 0.2222222222222222 | 0.3333333333333333 |\n",
      "+------+---------------------+---------------------+---------------------+---------------------+-------+---------------------+---------------------+-------+---------------------+---------------------+-------+---------------------+-------+-------+--------------------+--------------------+\n",
      "| M(1) | 0.16666666666666666 | 0.08333333333333333 | 0.16666666666666666 | 0.16666666666666666 | 0.2   | 0.2857142857142857  | 0.16666666666666666 | 0.375 | 0.6666666666666666  | 0.6666666666666666  | 0.5   | 0.2857142857142857  | 0.4   | 0.4   | 0.4444444444444444 | 0.3333333333333333 |\n",
      "+------+---------------------+---------------------+---------------------+---------------------+-------+---------------------+---------------------+-------+---------------------+---------------------+-------+---------------------+-------+-------+--------------------+--------------------+\n",
      "| M(2) | 0.6666666666666666  | 0.3333333333333333  | 0.6666666666666666  | 0.6666666666666666  | 0.4   | 0.14285714285714285 | 0.16666666666666666 | 0.125 | 0.16666666666666666 | 0.16666666666666666 | 0.375 | 0.6428571428571429  | 0.2   | 0.2   | 0.3333333333333333 | 0.3333333333333333 |\n",
      "+------+---------------------+---------------------+---------------------+---------------------+-------+---------------------+---------------------+-------+---------------------+---------------------+-------+---------------------+-------+-------+--------------------+--------------------+\n",
      "CPD of C:\n",
      "+------+----------+\n",
      "| C(0) | 0.685714 |\n",
      "+------+----------+\n",
      "| C(1) | 0.314286 |\n",
      "+------+----------+\n"
     ]
    }
   ],
   "source": [
    "bayes_m_model = BayesianModel([('B', 'MO'), ('B', 'W'), ('B', 'M'),('C', 'MO'), ('C', 'W'), ('C', 'M'), ('W', 'M'), ('MO', 'M')])\n",
    "\n",
    "# Learing CPDs using Bayesian Estimators\n",
    "pseudo_counts = {'C': [[8], [2]], 'B':[[2],[8]], 'W':[[2,4,2,3], [4,2,4,3]], 'MO': [[3,2,4,3], [3,4,2,3]], 'M':[[1,1,1,1,4,4,4,4,1,1,1,1,2,2,2,2], [1,1,1,1,1,1,1,1,4,4,4,4,2,2,2,2], [4,4,4,4,4,1,1,1,1,1,1,1,1,1,1,1]]}\n",
    "bayes_m_model.fit(samples_25, estimator=BayesianEstimator, prior_type='dirichlet', pseudo_counts=pseudo_counts)\n",
    "for cpd in bayes_m_model.get_cpds():\n",
    "    print(\"CPD of {variable}:\".format(variable=cpd.variable))\n",
    "    print(cpd)"
   ]
  },
  {
   "cell_type": "markdown",
   "metadata": {},
   "source": [
    "Compare the parameters tables computed with the biased prior to those estimated with a uniform prior. How are these different, and is this expected given the change in prior?"
   ]
  },
  {
   "cell_type": "markdown",
   "metadata": {},
   "source": [
    "ANS: The parameter tables computed with biased prior weigh the probabilities more heavily towards those parameter values with stronger priors as compared to the uniform priors."
   ]
  },
  {
   "cell_type": "markdown",
   "metadata": {},
   "source": [
    "But, how much does the prior matter in terms of inference? Use the belief propagation method to query the M variable and display the results.  "
   ]
  },
  {
   "cell_type": "code",
   "execution_count": 8,
   "metadata": {},
   "outputs": [
    {
     "name": "stdout",
     "output_type": "stream",
     "text": [
      "+-----+----------+\n",
      "| M   |   phi(M) |\n",
      "+=====+==========+\n",
      "| M_0 |   0.2685 |\n",
      "+-----+----------+\n",
      "| M_1 |   0.3279 |\n",
      "+-----+----------+\n",
      "| M_2 |   0.4036 |\n",
      "+-----+----------+\n"
     ]
    }
   ],
   "source": [
    "m_belief = BeliefPropagation(bayes_m_model)\n",
    "m_b_prior_q = m_belief.query(variables=['M'])\n",
    "print(m_b_prior_q['M'])"
   ]
  },
  {
   "cell_type": "markdown",
   "metadata": {},
   "source": [
    "Compare this marginal distribution to the one obtained with the a uniform prior. Would you say these differences are significant, and why?"
   ]
  },
  {
   "cell_type": "markdown",
   "metadata": {},
   "source": [
    "ANS:Numeric values are only slightly different between the two cases while maintaining the same order."
   ]
  },
  {
   "cell_type": "markdown",
   "metadata": {},
   "source": [
    "Perhaps more data will improve the estimation of the model parameters, particularly for the maximum likelihood method. In the cell below compute a new data set with 250 cases. Use a random seed value of 5678. Be sure to give your new data frame a different name. "
   ]
  },
  {
   "cell_type": "code",
   "execution_count": 9,
   "metadata": {},
   "outputs": [
    {
     "data": {
      "text/html": [
       "<div>\n",
       "<style scoped>\n",
       "    .dataframe tbody tr th:only-of-type {\n",
       "        vertical-align: middle;\n",
       "    }\n",
       "\n",
       "    .dataframe tbody tr th {\n",
       "        vertical-align: top;\n",
       "    }\n",
       "\n",
       "    .dataframe thead th {\n",
       "        text-align: right;\n",
       "    }\n",
       "</style>\n",
       "<table border=\"1\" class=\"dataframe\">\n",
       "  <thead>\n",
       "    <tr style=\"text-align: right;\">\n",
       "      <th></th>\n",
       "      <th>C</th>\n",
       "      <th>B</th>\n",
       "      <th>W</th>\n",
       "      <th>MO</th>\n",
       "      <th>M</th>\n",
       "    </tr>\n",
       "  </thead>\n",
       "  <tbody>\n",
       "    <tr>\n",
       "      <th>0</th>\n",
       "      <td>0</td>\n",
       "      <td>0</td>\n",
       "      <td>0</td>\n",
       "      <td>0</td>\n",
       "      <td>0</td>\n",
       "    </tr>\n",
       "    <tr>\n",
       "      <th>1</th>\n",
       "      <td>0</td>\n",
       "      <td>1</td>\n",
       "      <td>1</td>\n",
       "      <td>1</td>\n",
       "      <td>2</td>\n",
       "    </tr>\n",
       "    <tr>\n",
       "      <th>2</th>\n",
       "      <td>0</td>\n",
       "      <td>1</td>\n",
       "      <td>1</td>\n",
       "      <td>1</td>\n",
       "      <td>2</td>\n",
       "    </tr>\n",
       "    <tr>\n",
       "      <th>3</th>\n",
       "      <td>0</td>\n",
       "      <td>1</td>\n",
       "      <td>0</td>\n",
       "      <td>1</td>\n",
       "      <td>2</td>\n",
       "    </tr>\n",
       "    <tr>\n",
       "      <th>4</th>\n",
       "      <td>0</td>\n",
       "      <td>0</td>\n",
       "      <td>1</td>\n",
       "      <td>0</td>\n",
       "      <td>0</td>\n",
       "    </tr>\n",
       "    <tr>\n",
       "      <th>5</th>\n",
       "      <td>0</td>\n",
       "      <td>0</td>\n",
       "      <td>1</td>\n",
       "      <td>0</td>\n",
       "      <td>0</td>\n",
       "    </tr>\n",
       "    <tr>\n",
       "      <th>6</th>\n",
       "      <td>0</td>\n",
       "      <td>1</td>\n",
       "      <td>0</td>\n",
       "      <td>1</td>\n",
       "      <td>2</td>\n",
       "    </tr>\n",
       "    <tr>\n",
       "      <th>7</th>\n",
       "      <td>0</td>\n",
       "      <td>1</td>\n",
       "      <td>0</td>\n",
       "      <td>1</td>\n",
       "      <td>2</td>\n",
       "    </tr>\n",
       "    <tr>\n",
       "      <th>8</th>\n",
       "      <td>0</td>\n",
       "      <td>1</td>\n",
       "      <td>1</td>\n",
       "      <td>1</td>\n",
       "      <td>2</td>\n",
       "    </tr>\n",
       "    <tr>\n",
       "      <th>9</th>\n",
       "      <td>0</td>\n",
       "      <td>1</td>\n",
       "      <td>0</td>\n",
       "      <td>1</td>\n",
       "      <td>2</td>\n",
       "    </tr>\n",
       "    <tr>\n",
       "      <th>10</th>\n",
       "      <td>0</td>\n",
       "      <td>1</td>\n",
       "      <td>1</td>\n",
       "      <td>1</td>\n",
       "      <td>2</td>\n",
       "    </tr>\n",
       "    <tr>\n",
       "      <th>11</th>\n",
       "      <td>1</td>\n",
       "      <td>1</td>\n",
       "      <td>0</td>\n",
       "      <td>0</td>\n",
       "      <td>1</td>\n",
       "    </tr>\n",
       "    <tr>\n",
       "      <th>12</th>\n",
       "      <td>0</td>\n",
       "      <td>0</td>\n",
       "      <td>1</td>\n",
       "      <td>0</td>\n",
       "      <td>0</td>\n",
       "    </tr>\n",
       "    <tr>\n",
       "      <th>13</th>\n",
       "      <td>1</td>\n",
       "      <td>0</td>\n",
       "      <td>1</td>\n",
       "      <td>0</td>\n",
       "      <td>1</td>\n",
       "    </tr>\n",
       "    <tr>\n",
       "      <th>14</th>\n",
       "      <td>0</td>\n",
       "      <td>0</td>\n",
       "      <td>1</td>\n",
       "      <td>0</td>\n",
       "      <td>0</td>\n",
       "    </tr>\n",
       "    <tr>\n",
       "      <th>15</th>\n",
       "      <td>1</td>\n",
       "      <td>1</td>\n",
       "      <td>0</td>\n",
       "      <td>0</td>\n",
       "      <td>2</td>\n",
       "    </tr>\n",
       "    <tr>\n",
       "      <th>16</th>\n",
       "      <td>1</td>\n",
       "      <td>0</td>\n",
       "      <td>1</td>\n",
       "      <td>0</td>\n",
       "      <td>1</td>\n",
       "    </tr>\n",
       "    <tr>\n",
       "      <th>17</th>\n",
       "      <td>0</td>\n",
       "      <td>0</td>\n",
       "      <td>1</td>\n",
       "      <td>0</td>\n",
       "      <td>0</td>\n",
       "    </tr>\n",
       "    <tr>\n",
       "      <th>18</th>\n",
       "      <td>1</td>\n",
       "      <td>1</td>\n",
       "      <td>0</td>\n",
       "      <td>1</td>\n",
       "      <td>1</td>\n",
       "    </tr>\n",
       "    <tr>\n",
       "      <th>19</th>\n",
       "      <td>0</td>\n",
       "      <td>0</td>\n",
       "      <td>1</td>\n",
       "      <td>0</td>\n",
       "      <td>0</td>\n",
       "    </tr>\n",
       "    <tr>\n",
       "      <th>20</th>\n",
       "      <td>1</td>\n",
       "      <td>1</td>\n",
       "      <td>0</td>\n",
       "      <td>1</td>\n",
       "      <td>1</td>\n",
       "    </tr>\n",
       "    <tr>\n",
       "      <th>21</th>\n",
       "      <td>0</td>\n",
       "      <td>0</td>\n",
       "      <td>1</td>\n",
       "      <td>0</td>\n",
       "      <td>0</td>\n",
       "    </tr>\n",
       "    <tr>\n",
       "      <th>22</th>\n",
       "      <td>0</td>\n",
       "      <td>0</td>\n",
       "      <td>1</td>\n",
       "      <td>0</td>\n",
       "      <td>0</td>\n",
       "    </tr>\n",
       "    <tr>\n",
       "      <th>23</th>\n",
       "      <td>1</td>\n",
       "      <td>1</td>\n",
       "      <td>0</td>\n",
       "      <td>1</td>\n",
       "      <td>2</td>\n",
       "    </tr>\n",
       "    <tr>\n",
       "      <th>24</th>\n",
       "      <td>1</td>\n",
       "      <td>1</td>\n",
       "      <td>0</td>\n",
       "      <td>1</td>\n",
       "      <td>2</td>\n",
       "    </tr>\n",
       "    <tr>\n",
       "      <th>25</th>\n",
       "      <td>0</td>\n",
       "      <td>1</td>\n",
       "      <td>1</td>\n",
       "      <td>0</td>\n",
       "      <td>2</td>\n",
       "    </tr>\n",
       "    <tr>\n",
       "      <th>26</th>\n",
       "      <td>0</td>\n",
       "      <td>1</td>\n",
       "      <td>1</td>\n",
       "      <td>1</td>\n",
       "      <td>2</td>\n",
       "    </tr>\n",
       "    <tr>\n",
       "      <th>27</th>\n",
       "      <td>0</td>\n",
       "      <td>0</td>\n",
       "      <td>1</td>\n",
       "      <td>0</td>\n",
       "      <td>0</td>\n",
       "    </tr>\n",
       "    <tr>\n",
       "      <th>28</th>\n",
       "      <td>1</td>\n",
       "      <td>0</td>\n",
       "      <td>0</td>\n",
       "      <td>0</td>\n",
       "      <td>1</td>\n",
       "    </tr>\n",
       "    <tr>\n",
       "      <th>29</th>\n",
       "      <td>1</td>\n",
       "      <td>0</td>\n",
       "      <td>0</td>\n",
       "      <td>1</td>\n",
       "      <td>1</td>\n",
       "    </tr>\n",
       "    <tr>\n",
       "      <th>...</th>\n",
       "      <td>...</td>\n",
       "      <td>...</td>\n",
       "      <td>...</td>\n",
       "      <td>...</td>\n",
       "      <td>...</td>\n",
       "    </tr>\n",
       "    <tr>\n",
       "      <th>220</th>\n",
       "      <td>0</td>\n",
       "      <td>1</td>\n",
       "      <td>0</td>\n",
       "      <td>1</td>\n",
       "      <td>2</td>\n",
       "    </tr>\n",
       "    <tr>\n",
       "      <th>221</th>\n",
       "      <td>0</td>\n",
       "      <td>0</td>\n",
       "      <td>0</td>\n",
       "      <td>0</td>\n",
       "      <td>0</td>\n",
       "    </tr>\n",
       "    <tr>\n",
       "      <th>222</th>\n",
       "      <td>0</td>\n",
       "      <td>1</td>\n",
       "      <td>0</td>\n",
       "      <td>1</td>\n",
       "      <td>2</td>\n",
       "    </tr>\n",
       "    <tr>\n",
       "      <th>223</th>\n",
       "      <td>0</td>\n",
       "      <td>0</td>\n",
       "      <td>1</td>\n",
       "      <td>0</td>\n",
       "      <td>0</td>\n",
       "    </tr>\n",
       "    <tr>\n",
       "      <th>224</th>\n",
       "      <td>0</td>\n",
       "      <td>0</td>\n",
       "      <td>1</td>\n",
       "      <td>0</td>\n",
       "      <td>0</td>\n",
       "    </tr>\n",
       "    <tr>\n",
       "      <th>225</th>\n",
       "      <td>1</td>\n",
       "      <td>1</td>\n",
       "      <td>0</td>\n",
       "      <td>0</td>\n",
       "      <td>2</td>\n",
       "    </tr>\n",
       "    <tr>\n",
       "      <th>226</th>\n",
       "      <td>0</td>\n",
       "      <td>1</td>\n",
       "      <td>1</td>\n",
       "      <td>1</td>\n",
       "      <td>2</td>\n",
       "    </tr>\n",
       "    <tr>\n",
       "      <th>227</th>\n",
       "      <td>0</td>\n",
       "      <td>0</td>\n",
       "      <td>1</td>\n",
       "      <td>0</td>\n",
       "      <td>0</td>\n",
       "    </tr>\n",
       "    <tr>\n",
       "      <th>228</th>\n",
       "      <td>1</td>\n",
       "      <td>1</td>\n",
       "      <td>0</td>\n",
       "      <td>0</td>\n",
       "      <td>2</td>\n",
       "    </tr>\n",
       "    <tr>\n",
       "      <th>229</th>\n",
       "      <td>0</td>\n",
       "      <td>0</td>\n",
       "      <td>1</td>\n",
       "      <td>0</td>\n",
       "      <td>0</td>\n",
       "    </tr>\n",
       "    <tr>\n",
       "      <th>230</th>\n",
       "      <td>1</td>\n",
       "      <td>1</td>\n",
       "      <td>1</td>\n",
       "      <td>1</td>\n",
       "      <td>2</td>\n",
       "    </tr>\n",
       "    <tr>\n",
       "      <th>231</th>\n",
       "      <td>0</td>\n",
       "      <td>0</td>\n",
       "      <td>1</td>\n",
       "      <td>0</td>\n",
       "      <td>0</td>\n",
       "    </tr>\n",
       "    <tr>\n",
       "      <th>232</th>\n",
       "      <td>1</td>\n",
       "      <td>1</td>\n",
       "      <td>1</td>\n",
       "      <td>1</td>\n",
       "      <td>1</td>\n",
       "    </tr>\n",
       "    <tr>\n",
       "      <th>233</th>\n",
       "      <td>0</td>\n",
       "      <td>0</td>\n",
       "      <td>1</td>\n",
       "      <td>0</td>\n",
       "      <td>0</td>\n",
       "    </tr>\n",
       "    <tr>\n",
       "      <th>234</th>\n",
       "      <td>0</td>\n",
       "      <td>0</td>\n",
       "      <td>1</td>\n",
       "      <td>0</td>\n",
       "      <td>0</td>\n",
       "    </tr>\n",
       "    <tr>\n",
       "      <th>235</th>\n",
       "      <td>0</td>\n",
       "      <td>0</td>\n",
       "      <td>1</td>\n",
       "      <td>0</td>\n",
       "      <td>0</td>\n",
       "    </tr>\n",
       "    <tr>\n",
       "      <th>236</th>\n",
       "      <td>0</td>\n",
       "      <td>1</td>\n",
       "      <td>1</td>\n",
       "      <td>1</td>\n",
       "      <td>2</td>\n",
       "    </tr>\n",
       "    <tr>\n",
       "      <th>237</th>\n",
       "      <td>0</td>\n",
       "      <td>1</td>\n",
       "      <td>0</td>\n",
       "      <td>1</td>\n",
       "      <td>2</td>\n",
       "    </tr>\n",
       "    <tr>\n",
       "      <th>238</th>\n",
       "      <td>1</td>\n",
       "      <td>0</td>\n",
       "      <td>1</td>\n",
       "      <td>0</td>\n",
       "      <td>1</td>\n",
       "    </tr>\n",
       "    <tr>\n",
       "      <th>239</th>\n",
       "      <td>0</td>\n",
       "      <td>1</td>\n",
       "      <td>0</td>\n",
       "      <td>0</td>\n",
       "      <td>2</td>\n",
       "    </tr>\n",
       "    <tr>\n",
       "      <th>240</th>\n",
       "      <td>0</td>\n",
       "      <td>1</td>\n",
       "      <td>1</td>\n",
       "      <td>0</td>\n",
       "      <td>2</td>\n",
       "    </tr>\n",
       "    <tr>\n",
       "      <th>241</th>\n",
       "      <td>0</td>\n",
       "      <td>1</td>\n",
       "      <td>0</td>\n",
       "      <td>1</td>\n",
       "      <td>2</td>\n",
       "    </tr>\n",
       "    <tr>\n",
       "      <th>242</th>\n",
       "      <td>1</td>\n",
       "      <td>0</td>\n",
       "      <td>1</td>\n",
       "      <td>1</td>\n",
       "      <td>1</td>\n",
       "    </tr>\n",
       "    <tr>\n",
       "      <th>243</th>\n",
       "      <td>0</td>\n",
       "      <td>0</td>\n",
       "      <td>1</td>\n",
       "      <td>0</td>\n",
       "      <td>0</td>\n",
       "    </tr>\n",
       "    <tr>\n",
       "      <th>244</th>\n",
       "      <td>1</td>\n",
       "      <td>1</td>\n",
       "      <td>0</td>\n",
       "      <td>1</td>\n",
       "      <td>2</td>\n",
       "    </tr>\n",
       "    <tr>\n",
       "      <th>245</th>\n",
       "      <td>1</td>\n",
       "      <td>0</td>\n",
       "      <td>1</td>\n",
       "      <td>0</td>\n",
       "      <td>1</td>\n",
       "    </tr>\n",
       "    <tr>\n",
       "      <th>246</th>\n",
       "      <td>1</td>\n",
       "      <td>1</td>\n",
       "      <td>1</td>\n",
       "      <td>0</td>\n",
       "      <td>2</td>\n",
       "    </tr>\n",
       "    <tr>\n",
       "      <th>247</th>\n",
       "      <td>1</td>\n",
       "      <td>0</td>\n",
       "      <td>0</td>\n",
       "      <td>0</td>\n",
       "      <td>1</td>\n",
       "    </tr>\n",
       "    <tr>\n",
       "      <th>248</th>\n",
       "      <td>0</td>\n",
       "      <td>1</td>\n",
       "      <td>1</td>\n",
       "      <td>1</td>\n",
       "      <td>2</td>\n",
       "    </tr>\n",
       "    <tr>\n",
       "      <th>249</th>\n",
       "      <td>0</td>\n",
       "      <td>1</td>\n",
       "      <td>1</td>\n",
       "      <td>1</td>\n",
       "      <td>2</td>\n",
       "    </tr>\n",
       "  </tbody>\n",
       "</table>\n",
       "<p>250 rows × 5 columns</p>\n",
       "</div>"
      ],
      "text/plain": [
       "     C  B  W  MO  M\n",
       "0    0  0  0   0  0\n",
       "1    0  1  1   1  2\n",
       "2    0  1  1   1  2\n",
       "3    0  1  0   1  2\n",
       "4    0  0  1   0  0\n",
       "5    0  0  1   0  0\n",
       "6    0  1  0   1  2\n",
       "7    0  1  0   1  2\n",
       "8    0  1  1   1  2\n",
       "9    0  1  0   1  2\n",
       "10   0  1  1   1  2\n",
       "11   1  1  0   0  1\n",
       "12   0  0  1   0  0\n",
       "13   1  0  1   0  1\n",
       "14   0  0  1   0  0\n",
       "15   1  1  0   0  2\n",
       "16   1  0  1   0  1\n",
       "17   0  0  1   0  0\n",
       "18   1  1  0   1  1\n",
       "19   0  0  1   0  0\n",
       "20   1  1  0   1  1\n",
       "21   0  0  1   0  0\n",
       "22   0  0  1   0  0\n",
       "23   1  1  0   1  2\n",
       "24   1  1  0   1  2\n",
       "25   0  1  1   0  2\n",
       "26   0  1  1   1  2\n",
       "27   0  0  1   0  0\n",
       "28   1  0  0   0  1\n",
       "29   1  0  0   1  1\n",
       "..  .. .. ..  .. ..\n",
       "220  0  1  0   1  2\n",
       "221  0  0  0   0  0\n",
       "222  0  1  0   1  2\n",
       "223  0  0  1   0  0\n",
       "224  0  0  1   0  0\n",
       "225  1  1  0   0  2\n",
       "226  0  1  1   1  2\n",
       "227  0  0  1   0  0\n",
       "228  1  1  0   0  2\n",
       "229  0  0  1   0  0\n",
       "230  1  1  1   1  2\n",
       "231  0  0  1   0  0\n",
       "232  1  1  1   1  1\n",
       "233  0  0  1   0  0\n",
       "234  0  0  1   0  0\n",
       "235  0  0  1   0  0\n",
       "236  0  1  1   1  2\n",
       "237  0  1  0   1  2\n",
       "238  1  0  1   0  1\n",
       "239  0  1  0   0  2\n",
       "240  0  1  1   0  2\n",
       "241  0  1  0   1  2\n",
       "242  1  0  1   1  1\n",
       "243  0  0  1   0  0\n",
       "244  1  1  0   1  2\n",
       "245  1  0  1   0  1\n",
       "246  1  1  1   0  2\n",
       "247  1  0  0   0  1\n",
       "248  0  1  1   1  2\n",
       "249  0  1  1   1  2\n",
       "\n",
       "[250 rows x 5 columns]"
      ]
     },
     "execution_count": 9,
     "metadata": {},
     "output_type": "execute_result"
    }
   ],
   "source": [
    "nsamps = 250\n",
    "samples_250 = simulate_from_DAG(murder_model, nsamps = nsamps, set_seed = 5678)\n",
    "samples_250"
   ]
  },
  {
   "cell_type": "markdown",
   "metadata": {},
   "source": [
    "Now, compute the model parameters using the 250 sample dataset and the **maximum likelihood estimator**."
   ]
  },
  {
   "cell_type": "code",
   "execution_count": 10,
   "metadata": {},
   "outputs": [
    {
     "name": "stderr",
     "output_type": "stream",
     "text": [
      "WARNING:root:Replacing existing CPD for B\n",
      "WARNING:root:Replacing existing CPD for C\n",
      "WARNING:root:Replacing existing CPD for M\n",
      "WARNING:root:Replacing existing CPD for MO\n",
      "WARNING:root:Replacing existing CPD for W\n"
     ]
    },
    {
     "name": "stdout",
     "output_type": "stream",
     "text": [
      "CPD of B:\n",
      "+------+-------+\n",
      "| B(0) | 0.444 |\n",
      "+------+-------+\n",
      "| B(1) | 0.556 |\n",
      "+------+-------+\n",
      "CPD of C:\n",
      "+------+-----+\n",
      "| C(0) | 0.7 |\n",
      "+------+-----+\n",
      "| C(1) | 0.3 |\n",
      "+------+-----+\n",
      "CPD of M:\n",
      "+------+-------+-------+--------------------+--------------------+-------+-------+-------+-------+-------+-------+-------+-------+-------+-------+---------------------+-------+\n",
      "| B    | B(0)  | B(0)  | B(0)               | B(0)               | B(0)  | B(0)  | B(0)  | B(0)  | B(1)  | B(1)  | B(1)  | B(1)  | B(1)  | B(1)  | B(1)                | B(1)  |\n",
      "+------+-------+-------+--------------------+--------------------+-------+-------+-------+-------+-------+-------+-------+-------+-------+-------+---------------------+-------+\n",
      "| C    | C(0)  | C(0)  | C(0)               | C(0)               | C(1)  | C(1)  | C(1)  | C(1)  | C(0)  | C(0)  | C(0)  | C(0)  | C(1)  | C(1)  | C(1)                | C(1)  |\n",
      "+------+-------+-------+--------------------+--------------------+-------+-------+-------+-------+-------+-------+-------+-------+-------+-------+---------------------+-------+\n",
      "| MO   | MO(0) | MO(0) | MO(1)              | MO(1)              | MO(0) | MO(0) | MO(1) | MO(1) | MO(0) | MO(0) | MO(1) | MO(1) | MO(0) | MO(0) | MO(1)               | MO(1) |\n",
      "+------+-------+-------+--------------------+--------------------+-------+-------+-------+-------+-------+-------+-------+-------+-------+-------+---------------------+-------+\n",
      "| W    | W(0)  | W(1)  | W(0)               | W(1)               | W(0)  | W(1)  | W(0)  | W(1)  | W(0)  | W(1)  | W(0)  | W(1)  | W(0)  | W(1)  | W(0)                | W(1)  |\n",
      "+------+-------+-------+--------------------+--------------------+-------+-------+-------+-------+-------+-------+-------+-------+-------+-------+---------------------+-------+\n",
      "| M(0) | 1.0   | 1.0   | 0.3333333333333333 | 0.3333333333333333 | 0.0   | 0.0   | 0.0   | 0.0   | 0.0   | 0.0   | 0.0   | 0.0   | 0.0   | 0.0   | 0.0                 | 0.0   |\n",
      "+------+-------+-------+--------------------+--------------------+-------+-------+-------+-------+-------+-------+-------+-------+-------+-------+---------------------+-------+\n",
      "| M(1) | 0.0   | 0.0   | 0.3333333333333333 | 0.3333333333333333 | 1.0   | 1.0   | 1.0   | 1.0   | 0.0   | 0.0   | 0.0   | 0.0   | 0.375 | 0.4   | 0.43478260869565216 | 0.4   |\n",
      "+------+-------+-------+--------------------+--------------------+-------+-------+-------+-------+-------+-------+-------+-------+-------+-------+---------------------+-------+\n",
      "| M(2) | 0.0   | 0.0   | 0.3333333333333333 | 0.3333333333333333 | 0.0   | 0.0   | 0.0   | 0.0   | 1.0   | 1.0   | 1.0   | 1.0   | 0.625 | 0.6   | 0.5652173913043478  | 0.6   |\n",
      "+------+-------+-------+--------------------+--------------------+-------+-------+-------+-------+-------+-------+-------+-------+-------+-------+---------------------+-------+\n",
      "CPD of MO:\n",
      "+-------+------+--------------------+---------------------+--------------------+\n",
      "| B     | B(0) | B(0)               | B(1)                | B(1)               |\n",
      "+-------+------+--------------------+---------------------+--------------------+\n",
      "| C     | C(0) | C(1)               | C(0)                | C(1)               |\n",
      "+-------+------+--------------------+---------------------+--------------------+\n",
      "| MO(0) | 1.0  | 0.6896551724137931 | 0.11827956989247312 | 0.2826086956521739 |\n",
      "+-------+------+--------------------+---------------------+--------------------+\n",
      "| MO(1) | 0.0  | 0.3103448275862069 | 0.8817204301075269  | 0.717391304347826  |\n",
      "+-------+------+--------------------+---------------------+--------------------+\n",
      "CPD of W:\n",
      "+------+---------------------+--------------------+--------------------+---------------------+\n",
      "| B    | B(0)                | B(0)               | B(1)               | B(1)                |\n",
      "+------+---------------------+--------------------+--------------------+---------------------+\n",
      "| C    | C(0)                | C(1)               | C(0)               | C(1)                |\n",
      "+------+---------------------+--------------------+--------------------+---------------------+\n",
      "| W(0) | 0.12195121951219512 | 0.3793103448275862 | 0.3870967741935484 | 0.6739130434782609  |\n",
      "+------+---------------------+--------------------+--------------------+---------------------+\n",
      "| W(1) | 0.8780487804878049  | 0.6206896551724138 | 0.6129032258064516 | 0.32608695652173914 |\n",
      "+------+---------------------+--------------------+--------------------+---------------------+\n"
     ]
    }
   ],
   "source": [
    "m_model.fit(samples_250, estimator=MaximumLikelihoodEstimator)\n",
    "for cpd in m_model.get_cpds():\n",
    "    print(\"CPD of {variable}:\".format(variable=cpd.variable))\n",
    "    print(cpd)"
   ]
  },
  {
   "cell_type": "markdown",
   "metadata": {},
   "source": [
    "Compare these results to the MLE results you computed with 25 data cases. Are their fewer extreme values? But, does the presence of extreme values still indicate the model is under-fit despite an order of magnitude increase in the number of data cases? "
   ]
  },
  {
   "cell_type": "markdown",
   "metadata": {},
   "source": [
    "ANS 1: Yes, there are fewer extreme values in these CPDs.\n",
    "\n",
    "ANS 2: Yes, the presence of extreme values indicates that this model is still under-fit."
   ]
  },
  {
   "cell_type": "markdown",
   "metadata": {},
   "source": [
    "Next, you will compare the MLE values to those produced by the **Bayesian estimator** using the same uniform prior as the first Bayes estimate. "
   ]
  },
  {
   "cell_type": "code",
   "execution_count": 11,
   "metadata": {},
   "outputs": [
    {
     "name": "stderr",
     "output_type": "stream",
     "text": [
      "WARNING:root:Replacing existing CPD for B\n",
      "WARNING:root:Replacing existing CPD for MO\n",
      "WARNING:root:Replacing existing CPD for W\n",
      "WARNING:root:Replacing existing CPD for M\n",
      "WARNING:root:Replacing existing CPD for C\n"
     ]
    },
    {
     "name": "stdout",
     "output_type": "stream",
     "text": [
      "CPD of B:\n",
      "+------+----------+\n",
      "| B(0) | 0.445312 |\n",
      "+------+----------+\n",
      "| B(1) | 0.554688 |\n",
      "+------+----------+\n",
      "CPD of C:\n",
      "+------+----------+\n",
      "| C(0) | 0.695312 |\n",
      "+------+----------+\n",
      "| C(1) | 0.304688 |\n",
      "+------+----------+\n",
      "CPD of M:\n",
      "+------+-------+---------------------+--------------------+--------------------+---------------------+---------------------+-------+---------------------+--------------------+---------------------+---------------------+---------------------+---------------------+---------------------+---------------------+-------+\n",
      "| B    | B(0)  | B(0)                | B(0)               | B(0)               | B(0)                | B(0)                | B(0)  | B(0)                | B(1)               | B(1)                | B(1)                | B(1)                | B(1)                | B(1)                | B(1)                | B(1)  |\n",
      "+------+-------+---------------------+--------------------+--------------------+---------------------+---------------------+-------+---------------------+--------------------+---------------------+---------------------+---------------------+---------------------+---------------------+---------------------+-------+\n",
      "| C    | C(0)  | C(0)                | C(0)               | C(0)               | C(1)                | C(1)                | C(1)  | C(1)                | C(0)               | C(0)                | C(0)                | C(0)                | C(1)                | C(1)                | C(1)                | C(1)  |\n",
      "+------+-------+---------------------+--------------------+--------------------+---------------------+---------------------+-------+---------------------+--------------------+---------------------+---------------------+---------------------+---------------------+---------------------+---------------------+-------+\n",
      "| MO   | MO(0) | MO(0)               | MO(1)              | MO(1)              | MO(0)               | MO(0)               | MO(1) | MO(1)               | MO(0)              | MO(0)               | MO(1)               | MO(1)               | MO(0)               | MO(0)               | MO(1)               | MO(1) |\n",
      "+------+-------+---------------------+--------------------+--------------------+---------------------+---------------------+-------+---------------------+--------------------+---------------------+---------------------+---------------------+---------------------+---------------------+---------------------+-------+\n",
      "| W    | W(0)  | W(1)                | W(0)               | W(1)               | W(0)                | W(1)                | W(0)  | W(1)                | W(0)               | W(1)                | W(0)                | W(1)                | W(0)                | W(1)                | W(0)                | W(1)  |\n",
      "+------+-------+---------------------+--------------------+--------------------+---------------------+---------------------+-------+---------------------+--------------------+---------------------+---------------------+---------------------+---------------------+---------------------+---------------------+-------+\n",
      "| M(0) | 0.75  | 0.9487179487179487  | 0.3333333333333333 | 0.3333333333333333 | 0.15384615384615385 | 0.10526315789473684 | 0.2   | 0.18181818181818182 | 0.2222222222222222 | 0.14285714285714285 | 0.05128205128205128 | 0.03636363636363636 | 0.14285714285714285 | 0.18181818181818182 | 0.06896551724137931 | 0.125 |\n",
      "+------+-------+---------------------+--------------------+--------------------+---------------------+---------------------+-------+---------------------+--------------------+---------------------+---------------------+---------------------+---------------------+---------------------+---------------------+-------+\n",
      "| M(1) | 0.125 | 0.02564102564102564 | 0.3333333333333333 | 0.3333333333333333 | 0.6923076923076923  | 0.7894736842105263  | 0.6   | 0.6363636363636364  | 0.2222222222222222 | 0.14285714285714285 | 0.05128205128205128 | 0.03636363636363636 | 0.35714285714285715 | 0.36363636363636365 | 0.41379310344827586 | 0.375 |\n",
      "+------+-------+---------------------+--------------------+--------------------+---------------------+---------------------+-------+---------------------+--------------------+---------------------+---------------------+---------------------+---------------------+---------------------+---------------------+-------+\n",
      "| M(2) | 0.125 | 0.02564102564102564 | 0.3333333333333333 | 0.3333333333333333 | 0.15384615384615385 | 0.10526315789473684 | 0.2   | 0.18181818181818182 | 0.5555555555555556 | 0.7142857142857143  | 0.8974358974358975  | 0.9272727272727272  | 0.5                 | 0.45454545454545453 | 0.5172413793103449  | 0.5   |\n",
      "+------+-------+---------------------+--------------------+--------------------+---------------------+---------------------+-------+---------------------+--------------------+---------------------+---------------------+---------------------+---------------------+---------------------+---------------------+-------+\n",
      "CPD of MO:\n",
      "+-------+---------------------+---------------------+--------------------+--------------------+\n",
      "| B     | B(0)                | B(0)                | B(1)               | B(1)               |\n",
      "+-------+---------------------+---------------------+--------------------+--------------------+\n",
      "| C     | C(0)                | C(1)                | C(0)               | C(1)               |\n",
      "+-------+---------------------+---------------------+--------------------+--------------------+\n",
      "| MO(0) | 0.9659090909090909  | 0.6571428571428571  | 0.1414141414141414 | 0.3076923076923077 |\n",
      "+-------+---------------------+---------------------+--------------------+--------------------+\n",
      "| MO(1) | 0.03409090909090909 | 0.34285714285714286 | 0.8585858585858586 | 0.6923076923076923 |\n",
      "+-------+---------------------+---------------------+--------------------+--------------------+\n",
      "CPD of W:\n",
      "+------+---------------------+------+--------------------+---------------------+\n",
      "| B    | B(0)                | B(0) | B(1)               | B(1)                |\n",
      "+------+---------------------+------+--------------------+---------------------+\n",
      "| C    | C(0)                | C(1) | C(0)               | C(1)                |\n",
      "+------+---------------------+------+--------------------+---------------------+\n",
      "| W(0) | 0.14772727272727273 | 0.4  | 0.3939393939393939 | 0.6538461538461539  |\n",
      "+------+---------------------+------+--------------------+---------------------+\n",
      "| W(1) | 0.8522727272727273  | 0.6  | 0.6060606060606061 | 0.34615384615384615 |\n",
      "+------+---------------------+------+--------------------+---------------------+\n"
     ]
    }
   ],
   "source": [
    "pseudo_counts = {'C': [[3],[3]], 'B':[[3],[3]], 'W':[[3,3,3,3],[3,3,3,3]], 'MO':[[3,3,3,3],[3,3,3,3]], 'M':[[2,2,2,2,2,2,2,2,2,2,2,2,2,2,2,2], [2,2,2,2,2,2,2,2,2,2,2,2,2,2,2,2], [2,2,2,2,2,2,2,2,2,2,2,2,2,2,2,2]]}\n",
    "m_model.fit(samples_250, estimator=BayesianEstimator, prior_type='dirichlet', pseudo_counts=pseudo_counts)\n",
    "for cpd in m_model.get_cpds():\n",
    "    print(\"CPD of {variable}:\".format(variable=cpd.variable))\n",
    "    print(cpd)"
   ]
  },
  {
   "cell_type": "markdown",
   "metadata": {},
   "source": [
    "In terms of evidence of under-fitting, such as repeated parameter values, how does these estimates compare to the Bayes estimates using 25 cases? Also, are probability tables for the butler and the cook closer to the original values from DAG model used for the simulation, when compare to the parameters computed with the Bayes estimator from 25 cases? "
   ]
  },
  {
   "cell_type": "markdown",
   "metadata": {},
   "source": [
    "ANS 1: Yes the incidence of repeated values is lower for this case than for the 25 value case, indicating an improvement in the under-fitting.\n",
    "\n",
    "ANS 2: Yes, the probability tables for the cook and butler are now closer to their actual values."
   ]
  },
  {
   "cell_type": "markdown",
   "metadata": {},
   "source": [
    "### Bayesian Estimation of Parameters\n",
    "\n",
    "To gain a feel for how a prior distribution changes the parameter estimates you will perform random sampling of data from the DAG model and estimate a model parameter. As a first step, write a function(s) that random samples a dataset and then estimates the parameter, $\\theta$. Your function(s) should do the following:\n",
    "\n",
    "1. Use the DAG model you imported for the simulation creating each dataset realization. \n",
    "2. Arguments should include the $\\alpha$ and $\\beta$ prior pseudo counts.\n",
    "3. The parameter, $\\theta$ is estimated for the butler, B, table. \n",
    "4. The number of samples per realized dataset is 25. \n",
    "5. Compute 1,000 estimates of $\\theta$, using 1,000 independent sample datasets.\n",
    "6. Use an initial random seed of 345, and increase your seed value by 100 for each realization.\n",
    "7. Return an array-like data structure containing your 1,000 parameter estimates. \n",
    "\n",
    "Create the code in the cell below. Then execute your code for a **maximum likelihood estimate** of the 1,000 values of theta by setting $\\alpha$ and $\\beta$ both to 0, and save the results. "
   ]
  },
  {
   "cell_type": "code",
   "execution_count": 22,
   "metadata": {},
   "outputs": [],
   "source": [
    "def estimate_theta(model, alpha, beta, num_samples, num_estimates, random_seed):\n",
    "    estimates = []\n",
    "    for i in range(num_estimates):\n",
    "        curr_samples = simulate_from_DAG(model, num_samples, set_seed = random_seed)\n",
    "        numerator = sum(curr_samples['B']) + alpha\n",
    "        denominator = num_samples + alpha + beta\n",
    "        estimates.append(numerator/float(denominator))\n",
    "        random_seed = random_seed + 100\n",
    "    return estimates\n",
    "\n",
    "mle_thetas = estimate_theta(m_model, 0, 0, 25, 1000, 345)"
   ]
  },
  {
   "cell_type": "markdown",
   "metadata": {},
   "source": [
    "The next step is to visualize the results as a histogram. Create a function to plot a histogram with of your parameter estimates using 50 bins and with x-axis limits of (0.2,0.9). Make sure to label your axes. Then, plot the histogram and examine the results. \n",
    "\n",
    "> **Note:** Since the DAG has a limited number of discrete valued notes, expect the histogram to have a number of discrete values."
   ]
  },
  {
   "cell_type": "code",
   "execution_count": 23,
   "metadata": {},
   "outputs": [
    {
     "data": {
      "image/png": "[encoded data removed]",
      "text/plain": [
       "<Figure size 432x288 with 1 Axes>"
      ]
     },
     "metadata": {
      "needs_background": "light"
     },
     "output_type": "display_data"
    }
   ],
   "source": [
    "import matplotlib.pyplot as plt\n",
    "%matplotlib inline\n",
    "\n",
    "def plot_hist(data):\n",
    "    plt.hist(data, bins = 50)\n",
    "    plt.xlim((0.2,0.9))\n",
    "    \n",
    "plot_hist(mle_thetas)"
   ]
  },
  {
   "cell_type": "markdown",
   "metadata": {},
   "source": [
    "Examine the dispersion of the parameter estimates and the most likely value (mode). Given that the parameter, $\\theta$, must be in the range $0.0 \\le \\theta \\le 1.0$, would you say there is significant dispersion in these estimates, and why? "
   ]
  },
  {
   "cell_type": "markdown",
   "metadata": {},
   "source": [
    "ANS: Yes, there is quite a bit of dispersion since values are present along the entire x-axis. This is probably because there is no prior."
   ]
  },
  {
   "cell_type": "markdown",
   "metadata": {},
   "source": [
    "Next, simulate a new realization of the 1,000 datasets, estimating the parameters, $\\theta$ using a prior with pseudo counts, alpha = 6, beta = 4. Then, plot the histogram to compare with the previous results. "
   ]
  },
  {
   "cell_type": "code",
   "execution_count": 24,
   "metadata": {},
   "outputs": [
    {
     "data": {
      "image/png": "[encoded data removed]",
      "text/plain": [
       "<Figure size 432x288 with 1 Axes>"
      ]
     },
     "metadata": {
      "needs_background": "light"
     },
     "output_type": "display_data"
    }
   ],
   "source": [
    "prior_thetas = estimate_theta(m_model, 6, 4, 25, 1000, 345)\n",
    "plot_hist(prior_thetas)\n",
    "#prior_thetas"
   ]
  },
  {
   "cell_type": "markdown",
   "metadata": {},
   "source": [
    "How has adding this prior changed the characteristics of the distribution of the parameter, $\\theta$?"
   ]
  },
  {
   "cell_type": "markdown",
   "metadata": {},
   "source": [
    "ANS: The dispersion for this set of values is less than before with the mode remaining the same."
   ]
  },
  {
   "cell_type": "markdown",
   "metadata": {},
   "source": [
    "Now, you will explore the learning properties of the Bayes estimator when very little data is available. You will compute realizations of datasets with just 5 samples and plot the histogram of the parameter estimates. Continue using a prior with pseudo counts, alpha = 6, beta = 4. "
   ]
  },
  {
   "cell_type": "code",
   "execution_count": 25,
   "metadata": {},
   "outputs": [
    {
     "data": {
      "image/png": "[encoded data removed]",
      "text/plain": [
       "<Figure size 432x288 with 1 Axes>"
      ]
     },
     "metadata": {
      "needs_background": "light"
     },
     "output_type": "display_data"
    }
   ],
   "source": [
    "prior_thetas = estimate_theta(m_model, 6, 4, 5, 1000, 345)\n",
    "plot_hist(prior_thetas)"
   ]
  },
  {
   "cell_type": "markdown",
   "metadata": {},
   "source": [
    "Examine the resulting histogram. The result has fewer discrete values that the histogram computed using a sample size of 25. But, are the dispersion and mode of these two distributions nearly the same and why? "
   ]
  },
  {
   "cell_type": "markdown",
   "metadata": {},
   "source": [
    "ANS:The dispersion is the same since alpha and beta are the same, but there are fewer discrete values since the number of samples per run is much lower."
   ]
  },
  {
   "cell_type": "markdown",
   "metadata": {},
   "source": [
    "Finally, you will investigate the effect of a strong prior. A strong prior arises in cases where there is considerable experience with the problem. In such cases, the new observations only incrementally change the parameter estimates. \n",
    "\n",
    "Simulate a new realization of datasets with 25 samples each, estimating the parameters, $\\theta$ using a prior with pseudo counts, alpha = 16, beta = 24. Then, plot the histogram to compare with the previous results. "
   ]
  },
  {
   "cell_type": "code",
   "execution_count": 26,
   "metadata": {},
   "outputs": [
    {
     "data": {
      "image/png": "[encoded data removed]",
      "text/plain": [
       "<Figure size 432x288 with 1 Axes>"
      ]
     },
     "metadata": {
      "needs_background": "light"
     },
     "output_type": "display_data"
    }
   ],
   "source": [
    "prior_thetas = estimate_theta(m_model, 16, 24, 25, 1000, 345)\n",
    "plot_hist(prior_thetas)"
   ]
  },
  {
   "cell_type": "markdown",
   "metadata": {},
   "source": [
    "Compare these results to the those obtained using the same prior with 25 samples per realization. What are the key differences between these distributions of the parameters, and why? "
   ]
  },
  {
   "cell_type": "markdown",
   "metadata": {},
   "source": [
    "ANS:The dispersion for this case is much lower and the mode has shifted to the left because of the strong prior."
   ]
  },
  {
   "cell_type": "markdown",
   "metadata": {},
   "source": [
    "## Part 2, Learning Structure\n",
    "\n",
    "Now you will explore how well the structure of the graph can be estimated. **Keep in mind that the graph used for the simulation is not a tree**. Answer the questions based on the results you find. "
   ]
  },
  {
   "cell_type": "markdown",
   "metadata": {},
   "source": [
    "With the dataset simulated, you will now try estimating the model structure. Use the hill climb search algorithm with the BIC scoring function to estimate the model structure, using the dataset with 250 samples. Set a `numpy.random.seed` of 5566, before computing the model. Create and execute the code in the cell below to estimate the model structure and display the identified edges. "
   ]
  },
  {
   "cell_type": "code",
   "execution_count": 27,
   "metadata": {},
   "outputs": [
    {
     "data": {
      "text/plain": [
       "[('B', 'M'), ('M', 'C'), ('M', 'MO'), ('M', 'W')]"
      ]
     },
     "execution_count": 27,
     "metadata": {},
     "output_type": "execute_result"
    }
   ],
   "source": [
    "nr.seed(5566) \n",
    "from pgmpy.estimators import HillClimbSearch, BicScore, K2Score, StructureScore\n",
    "from pgmpy.models import BayesianModel\n",
    "est_bic = HillClimbSearch(samples_250, scoring_method=BicScore(samples_250))\n",
    "BIC_edges = est_bic.estimate(max_indegree=2).edges()\n",
    "BIC_edges"
   ]
  },
  {
   "cell_type": "markdown",
   "metadata": {},
   "source": [
    "Examine these edges. How does this model compare to the model used to simulate the data?"
   ]
  },
  {
   "cell_type": "markdown",
   "metadata": {},
   "source": [
    "ANS: This model differs quite a bit from the original model, only edges between M and other variables are present in this model. "
   ]
  },
  {
   "cell_type": "markdown",
   "metadata": {},
   "source": [
    "How good is this structure fit? To answer this question you will need to compare the BIC score of the graph used for the simulation with the BIC score of the estimated structure. You must create a baseline DAG structure and compare the BIC score to the score of the estimated model. \n",
    "\n",
    "Notice that in practice, you will never know the true graph structure. Else, why estimate it? In such cases, the best you can do is test several models and select the one with the lowest BIC that also honors any constraints known from expert opinion. \n",
    "\n",
    "In the cell below create the code to compute and display the BIC score of both the graph used for the simulation and the estimated structure, using the 250 sample dataset."
   ]
  },
  {
   "cell_type": "code",
   "execution_count": 28,
   "metadata": {},
   "outputs": [
    {
     "name": "stdout",
     "output_type": "stream",
     "text": [
      "-691.4378654542542\n",
      "-625.4589810490882\n"
     ]
    }
   ],
   "source": [
    "print(BicScore(samples_250).score(m_model))\n",
    "print(BicScore(samples_250).score(BayesianModel(BIC_edges)))"
   ]
  },
  {
   "cell_type": "markdown",
   "metadata": {},
   "source": [
    "Are these BIC scores different and what does this mean in terms of how good the estimated model is? "
   ]
  },
  {
   "cell_type": "markdown",
   "metadata": {},
   "source": [
    "ANS: Yes, the bic scores are different, the original model has a better score since it is lower.  "
   ]
  },
  {
   "cell_type": "markdown",
   "metadata": {},
   "source": [
    "Next, you will apply the K2 score method to the 250 case dataset. In the cell below, create the code to use the hill climbing search with the K2 score to estimate and display the model structure. Set a `numpy.random.seed` of 6565, before computing the model. "
   ]
  },
  {
   "cell_type": "code",
   "execution_count": 29,
   "metadata": {},
   "outputs": [
    {
     "data": {
      "text/plain": [
       "[('C', 'M'), ('C', 'W'), ('B', 'MO'), ('M', 'B'), ('M', 'MO'), ('M', 'W')]"
      ]
     },
     "execution_count": 29,
     "metadata": {},
     "output_type": "execute_result"
    }
   ],
   "source": [
    "nr.seed(6565)\n",
    "est_K2S = HillClimbSearch(samples_250, scoring_method=K2Score(samples_250))\n",
    "K2S_edges = est_K2S.estimate(max_indegree=2).edges()\n",
    "K2S_edges"
   ]
  },
  {
   "cell_type": "markdown",
   "metadata": {},
   "source": [
    "Is this graph structure any different from the one obtained with the BIC score and what does this mean in terms of the independency structure?"
   ]
  },
  {
   "cell_type": "markdown",
   "metadata": {},
   "source": [
    "ANS:This graph structure looks a little better than the one obtained from BIC score, it captures more of the edges from the original graph, but still differs significantly from the original graph."
   ]
  },
  {
   "cell_type": "markdown",
   "metadata": {},
   "source": [
    "Now, compare the K2 score for the baseline DAG model with the estimated model using the 250 case dataset. In the cell below create and execute the code to compute and display these scores. "
   ]
  },
  {
   "cell_type": "code",
   "execution_count": 30,
   "metadata": {},
   "outputs": [
    {
     "name": "stdout",
     "output_type": "stream",
     "text": [
      "-655.6480031340966\n",
      "-622.8204332522461\n"
     ]
    }
   ],
   "source": [
    "print(K2Score(samples_250).score(m_model))\n",
    "print(K2Score(samples_250).score(BayesianModel(K2S_edges)))"
   ]
  },
  {
   "cell_type": "markdown",
   "metadata": {},
   "source": [
    "Are these K2 scores different and what does this indicate about the estimated model? "
   ]
  },
  {
   "cell_type": "markdown",
   "metadata": {},
   "source": [
    "ANS:Yes, the K2 scores are different, the original model has a better score since it is lower. "
   ]
  },
  {
   "cell_type": "markdown",
   "metadata": {},
   "source": [
    "In the cell below create and execute the code to display the independencies of the graph structure you have found. "
   ]
  },
  {
   "cell_type": "code",
   "execution_count": 31,
   "metadata": {},
   "outputs": [
    {
     "data": {
      "text/plain": [
       "(B _|_ C | M)\n",
       "(W _|_ MO, M | C, B)\n",
       "(MO _|_ W, M | C, B)"
      ]
     },
     "execution_count": 31,
     "metadata": {},
     "output_type": "execute_result"
    }
   ],
   "source": [
    "est_K2S.estimate().local_independencies(['B', 'C', 'W', 'MO', 'M'])"
   ]
  },
  {
   "cell_type": "markdown",
   "metadata": {},
   "source": [
    "Notice that these local independencies have some problematic characteristics. What statement can you make about these problems for the murderer variable, M?"
   ]
  },
  {
   "cell_type": "markdown",
   "metadata": {},
   "source": [
    "ANS: It doesn't make sense for weapon and motive to be independent of the murderer, since the different values for murderers have different probabilities for each of the values of weapon and motive."
   ]
  },
  {
   "cell_type": "markdown",
   "metadata": {},
   "source": [
    "Perhaps, a larger dataset will yield better DAGs? In the cell below, compute a dataset with 25,000 samples using the DAG model. Use a random seed of 9898. "
   ]
  },
  {
   "cell_type": "code",
   "execution_count": 32,
   "metadata": {},
   "outputs": [],
   "source": [
    "samples_25000 = simulate_from_DAG(m_model, nsamps = 25000, set_seed = 9898)"
   ]
  },
  {
   "cell_type": "markdown",
   "metadata": {},
   "source": [
    "With the larger dataset available, you can now determine if using 2 orders of magnitude more data improves the model structure estimates. In the cell below, use the hill climb search algorithm with the BIC scoring function to estimate the model structure. Set a `numpy.random.seed` of 4567, before computing the model. Make sure you give you model a unique name so you can make comparisons latter."
   ]
  },
  {
   "cell_type": "code",
   "execution_count": 33,
   "metadata": {},
   "outputs": [
    {
     "data": {
      "text/plain": [
       "[('C', 'MO'),\n",
       " ('C', 'B'),\n",
       " ('B', 'MO'),\n",
       " ('W', 'M'),\n",
       " ('W', 'C'),\n",
       " ('M', 'B'),\n",
       " ('M', 'C')]"
      ]
     },
     "execution_count": 33,
     "metadata": {},
     "output_type": "execute_result"
    }
   ],
   "source": [
    "nr.seed(4567)\n",
    "est_bic_big = HillClimbSearch(samples_25000, scoring_method=BicScore(samples_25000))\n",
    "BIC_edges_big = est_bic_big.estimate(max_indegree=2).edges()\n",
    "BIC_edges_big"
   ]
  },
  {
   "cell_type": "markdown",
   "metadata": {},
   "source": [
    "Next, use the 25,000 sample data set with the hill climb search algorithm using the K2 scoring function to estimate the model structure. Set a `numpy.random.seed` of 765, before computing the model. Make sure you give you model a unique name so you can make comparisons latter."
   ]
  },
  {
   "cell_type": "code",
   "execution_count": 34,
   "metadata": {},
   "outputs": [
    {
     "data": {
      "text/plain": [
       "[('C', 'M'), ('C', 'MO'), ('C', 'W'), ('B', 'M'), ('B', 'MO'), ('M', 'W')]"
      ]
     },
     "execution_count": 34,
     "metadata": {},
     "output_type": "execute_result"
    }
   ],
   "source": [
    "nr.seed(765)\n",
    "est_K2S_big = HillClimbSearch(samples_25000, scoring_method=K2Score(samples_25000))\n",
    "K2S_edges_big = est_K2S_big.estimate(max_indegree=2).edges()\n",
    "K2S_edges_big"
   ]
  },
  {
   "cell_type": "markdown",
   "metadata": {},
   "source": [
    "The two scoring methods have arrived at different models, even when a larger dataset is used.  What are some key differences in these models and with the original models? **Hint:** Look at the numbers of directed edges."
   ]
  },
  {
   "cell_type": "markdown",
   "metadata": {},
   "source": [
    "ANS: With the larger sample, the BIC scoring method yields 3 more edges in the graph, whereas the number of edges from the K2 score remain the same. The graph from the K2 score method still appears more reasonable as compared to the original graph."
   ]
  },
  {
   "cell_type": "markdown",
   "metadata": {},
   "source": [
    "The K2 score models have been created using a Dirichlet uniform prior, starting with a completely unconnected model. See the [pgmpy documentation for more details](http://pgmpy.org/estimators.html).   \n",
    "\n",
    "The addition of a prior in the form of an initial DAG model might make a difference. In the cell below a simple initial model is defined. You can specify an initial model using the `start` argument to the `estimate` method. \n",
    "\n",
    "Using the 25,000 case dataset and the initial model, use the K2 score to find a model structure. Set a `numpy.random.seed` of 543, before computing the model. Make sure you give you model a unique name so you can make comparisons latter."
   ]
  },
  {
   "cell_type": "code",
   "execution_count": 35,
   "metadata": {},
   "outputs": [
    {
     "data": {
      "text/plain": [
       "[('W', 'M'),\n",
       " ('MO', 'M'),\n",
       " ('B', 'M'),\n",
       " ('B', 'MO'),\n",
       " ('B', 'W'),\n",
       " ('C', 'M'),\n",
       " ('C', 'MO'),\n",
       " ('C', 'W')]"
      ]
     },
     "execution_count": 35,
     "metadata": {},
     "output_type": "execute_result"
    }
   ],
   "source": [
    "## Define the initial network structure.\n",
    "start = BayesianModel([('W','M'), ('MO','M'), ('B',\"M\"), ('C',\"M\")])\n",
    "\n",
    "## Define code and find model structure\n",
    "est_K2S_prior = HillClimbSearch(samples_25000, scoring_method=K2Score(samples_25000))\n",
    "K2S_edges_prior = est_K2S_prior.estimate(max_indegree=2, start=start).edges()\n",
    "K2S_edges_prior"
   ]
  },
  {
   "cell_type": "markdown",
   "metadata": {},
   "source": [
    "Has the use of the prior or initial model changed the result? "
   ]
  },
  {
   "cell_type": "markdown",
   "metadata": {},
   "source": [
    "ANS: Yes, using the prior gives us the a model that matches the original model exactly."
   ]
  },
  {
   "cell_type": "markdown",
   "metadata": {},
   "source": [
    "Finally, compare the BIC and K2 scores of the three models you created with the K2 and BIC score methods on the 25,000 case dataset. In the cell below create and execute the code to compute and display these 6 scores.  "
   ]
  },
  {
   "cell_type": "code",
   "execution_count": 36,
   "metadata": {},
   "outputs": [
    {
     "name": "stdout",
     "output_type": "stream",
     "text": [
      "-634.9618377603881\n",
      "-629.4229755578021\n",
      "-632.9192682113727\n",
      "-628.4516134472877\n",
      "-691.4378654542542\n",
      "-655.6480031340967\n"
     ]
    }
   ],
   "source": [
    "print(BicScore(samples_250).score(BayesianModel(BIC_edges_big)))\n",
    "print(K2Score(samples_250).score(BayesianModel(BIC_edges_big)))\n",
    "print(BicScore(samples_250).score(BayesianModel(K2S_edges_big)))\n",
    "print(K2Score(samples_250).score(BayesianModel(K2S_edges_big)))\n",
    "print(BicScore(samples_250).score(BayesianModel(K2S_edges_prior)))\n",
    "print(K2Score(samples_250).score(BayesianModel(K2S_edges_prior)))"
   ]
  },
  {
   "cell_type": "markdown",
   "metadata": {},
   "source": [
    "Examine these results. Do the results indicate any one model is substantially better than the others? Does this outcome help explain the ambiguity you have seen in estimating model structure, and why? "
   ]
  },
  {
   "cell_type": "markdown",
   "metadata": {},
   "source": [
    "ANS 1: Yes, the model with the prior using K2 score is substantially better than the others.\n",
    "ANS 2: Yes, these results show that if the search for the model structure is constrained, such as with a prior, the search can derive much better results."
   ]
  },
  {
   "cell_type": "markdown",
   "metadata": {},
   "source": [
    "Finally, create and execute the code in the cell below, to print the local independencies of the models estimated using the K2 and BIC score methods on the 25,000 case dataset."
   ]
  },
  {
   "cell_type": "code",
   "execution_count": 39,
   "metadata": {},
   "outputs": [
    {
     "name": "stdout",
     "output_type": "stream",
     "text": [
      "(MO _|_ W | C, M, B)\n",
      "\n",
      "\n",
      "(B _|_ C)\n",
      "(C _|_ B)\n",
      "(W _|_ MO | C, B)\n",
      "(MO _|_ W | C, B)\n",
      "\n",
      "\n",
      "(B _|_ C)\n",
      "(C _|_ B)\n",
      "(W _|_ MO | C, B)\n",
      "(MO _|_ W | C, B)\n"
     ]
    }
   ],
   "source": [
    "print(est_bic_big.estimate().local_independencies(['B', 'C', 'W', 'MO', 'M']))\n",
    "print('\\n')\n",
    "print(est_K2S_big.estimate().local_independencies(['B', 'C', 'W', 'MO', 'M']))\n",
    "print('\\n')\n",
    "print(est_K2S_prior.estimate().local_independencies(['B', 'C', 'W', 'MO', 'M']))"
   ]
  },
  {
   "cell_type": "markdown",
   "metadata": {},
   "source": [
    "How are the local indepenencies different? Which structure makes more sense when compared to the original DAG used for the simulation?"
   ]
  },
  {
   "cell_type": "markdown",
   "metadata": {},
   "source": [
    "ANS 1: The models using the K2 score and K2 score with prior reveal 4 local independencies while the model using the BIC score shows only one local independency.\n",
    "ANS 2: The models using the K2 score make more sense since they capture the actual independencies from the original DAG."
   ]
  },
  {
   "cell_type": "code",
   "execution_count": null,
   "metadata": {},
   "outputs": [],
   "source": []
  }
 ],
 "metadata": {
  "kernelspec": {
   "display_name": "Python 3",
   "language": "python",
   "name": "python3"
  },
  "language_info": {
   "codemirror_mode": {
    "name": "ipython",
    "version": 3
   },
   "file_extension": ".py",
   "mimetype": "text/x-python",
   "name": "python",
   "nbconvert_exporter": "python",
   "pygments_lexer": "ipython3",
   "version": "3.7.3"
  }
 },
 "nbformat": 4,
 "nbformat_minor": 2
}
