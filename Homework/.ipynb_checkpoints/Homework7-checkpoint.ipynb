{
 "cells": [
  {
   "cell_type": "markdown",
   "metadata": {},
   "source": [
    "# Homework 7\n",
    "\n",
    "## CSCI E-82A  \n",
    "\n",
    "[**Value at Risk (VaR)**](https://en.wikipedia.org/wiki/Value_at_risk) is a commonly used measure of financial risk. VaR is as an **order statistic**, being defined at a probability quantile $p$. For example, for the 1% var is there is a probability of $0.01$ that the loss will be at the lower 1% quantile of the returns or greater.      \n",
    "\n",
    "Returns of financial assets are well know to be non-Gaussian. This presents significant problems for analysis, including risk analysis. Many approaches have been used to create probability models which better represent the returns of financial assets.   \n",
    "\n",
    "One possibility is to use Gaussian mixture models to model the distribution of financial returns. In this assignment, you will model returns of the [S&P 500 Index](https://en.wikipedia.org/wiki/S%26P_500_Index) using Gaussian mixture models and then compute the VaR.    \n",
    "\n",
    "> **Note:** In this exercise you will work with daily returns and therefore daily VaR. You may not be familiar with the concept of returns. The return is the difference between the value from one period (day) to the next (day). A **positive return** means the asset has increased in value. Whereas, a **negative return** means the asset has decreased in value, and represent losses. It is these losses the VaR model seeks to quantify.     \n",
    "\n",
    "> More specifically, in this assignment you will work with log returns. Here the log returns are the returns of the log values of the series.         "
   ]
  },
  {
   "cell_type": "markdown",
   "metadata": {},
   "source": [
    "## Load and Examine the Dataset\n",
    "\n",
    "As a first step you will load a dataset containing approximately 5 years of daily index value data for the S&P 500 index (benchmark indicies do no have prices). \n",
    "\n",
    "Execute the code in the cell below to load the packages you will need for this assignment. "
   ]
  },
  {
   "cell_type": "code",
   "execution_count": 1,
   "metadata": {},
   "outputs": [],
   "source": [
    "import pandas as pd\n",
    "import numpy as np\n",
    "import numpy.random as nr\n",
    "from sklearn.linear_model import LinearRegression\n",
    "from sklearn.preprocessing import scale\n",
    "from sklearn.mixture import GaussianMixture, BayesianGaussianMixture\n",
    "from scipy.stats import norm\n",
    "import matplotlib.pyplot as plt\n",
    "%matplotlib inline"
   ]
  },
  {
   "cell_type": "markdown",
   "metadata": {},
   "source": [
    "Execute the code in the cell below to load the S&P 500 daily values, downloaded from Yahoo finance on October 8, 2019. "
   ]
  },
  {
   "cell_type": "code",
   "execution_count": 2,
   "metadata": {},
   "outputs": [],
   "source": [
    "SP_Raw = pd.read_csv('GSPC_Yahoo_Oct_8_19.csv')"
   ]
  },
  {
   "cell_type": "markdown",
   "metadata": {},
   "source": [
    "Execute the code in the cell below and examine the column names."
   ]
  },
  {
   "cell_type": "code",
   "execution_count": 3,
   "metadata": {},
   "outputs": [
    {
     "data": {
      "text/plain": [
       "Index(['Date', 'Open', 'High', 'Low', 'Close', 'Adj Close', 'Volume'], dtype='object')"
      ]
     },
     "execution_count": 3,
     "metadata": {},
     "output_type": "execute_result"
    }
   ],
   "source": [
    "SP_Raw.columns"
   ]
  },
  {
   "cell_type": "markdown",
   "metadata": {},
   "source": [
    "There are a number of columns in this dataset. You will be working with the `Adj Close` column. The **adjusted close** is a final price of the day, adjusted for stock splits and dividend payments. \n",
    "\n",
    "Execute the code in the cell below to add a count of days from the start of the series and plot the time series of adjusted returns."
   ]
  },
  {
   "cell_type": "code",
   "execution_count": 4,
   "metadata": {},
   "outputs": [
    {
     "data": {
      "text/plain": [
       "[<matplotlib.lines.Line2D at 0x23c3b138898>]"
      ]
     },
     "execution_count": 4,
     "metadata": {},
     "output_type": "execute_result"
    },
    {
     "data": {
      "image/png": "[encoded data removed]",
      "text/plain": [
       "<Figure size 432x288 with 1 Axes>"
      ]
     },
     "metadata": {
      "needs_background": "light"
     },
     "output_type": "display_data"
    }
   ],
   "source": [
    "SP_Raw['Day_Count'] = [float(i) for i in range(SP_Raw.shape[0])]\n",
    "plt.plot(SP_Raw['Day_Count'],SP_Raw['Adj Close'])"
   ]
  },
  {
   "cell_type": "markdown",
   "metadata": {},
   "source": [
    "There are several points to notice in this time series:   \n",
    "\n",
    "1. There is a long-term trend of the daily values. We will remove this effect so we can examine the day-to-day returns (changes) without being influenced by the overall trend.\n",
    "2. There is considerable volatility (variance) in this time series. We want to calculated the VaR of this time series, and in detail this variability will affect the results. We will ignore this problem for this assignment."
   ]
  },
  {
   "cell_type": "markdown",
   "metadata": {},
   "source": [
    "## Remove the Trend\n",
    "\n",
    "To compute returns the trend must be removed from the time series. In this case, we will simply compute the remove the linear trend.   \n",
    " \n",
    " As a first step you must compute two numpy arrays:\n",
    " - The feature (independent variable) is the 'Day_Count' column.\n",
    " - The label (dependent variable) is the log of the 'Adj Close' column.     \n",
    " \n",
    "Make sure to apply the [numpy ravel](https://docs.scipy.org/doc/numpy/reference/generated/numpy.ravel.html) method to each array to ensure the dimensionality is correct.  \n",
    " \n",
    "> **Note:** It is standard practice in capital markets analytics to work with log returns. The intuition for this is that the price of capital market assets cannot drop below 0, so taking the logarithm transforms the return distribution to be closer to Gaussian. Often the word *return* actually means *log return*. In the rest of this document, we will mostly just use the term *return*, but will mean *log return* unless otherwise noted. "
   ]
  },
  {
   "cell_type": "code",
   "execution_count": 5,
   "metadata": {},
   "outputs": [],
   "source": [
    "feature_arr = SP_Raw['Day_Count']\n",
    "label_arr = np.log(SP_Raw['Adj Close'])\n",
    "feature_arr = feature_arr.ravel()\n",
    "label_arr = label_arr.ravel()\n"
   ]
  },
  {
   "cell_type": "markdown",
   "metadata": {},
   "source": [
    "In the cell below do the following:  \n",
    "- Scale the feature column with the scale function from sklearn.preprocessing. \n",
    "- Define and fit the model using the LinearRegression model and fit method from sklearn.linear_model. you will need to reshape the feature column as, [`.reshape(-1,1)`](https://docs.scipy.org/doc/numpy/reference/generated/numpy.reshape.html), since there is only one column in the feature array. \n",
    "- Subtract the predicted value from the model (use the `predict` method) to find a single column array. You will need to apply `.reshape(number_of_days, 1)` to this result to get the dimensions correct. \n",
    "- [Concatenate ](https://docs.scipy.org/doc/numpy/reference/generated/numpy.concatenate.html)the following as columns of a numpy array; \n",
    "  - The unscaled label values. \n",
    "  - The scaled label values.\n",
    "  - The difference between the log values and predicted values from the regression. \n",
    "  \n",
    "You will need to ensure the dimensions of all these columns are correct before applying the `concatenate` method. "
   ]
  },
  {
   "cell_type": "code",
   "execution_count": 6,
   "metadata": {},
   "outputs": [
    {
     "data": {
      "text/plain": [
       "array([0.000e+00, 1.000e+00, 2.000e+00, ..., 1.255e+03, 1.256e+03,\n",
       "       1.257e+03])"
      ]
     },
     "execution_count": 6,
     "metadata": {},
     "output_type": "execute_result"
    }
   ],
   "source": [
    "feature_arr_scaled = scale(feature_arr).reshape(-1,1)\n",
    "reg = LinearRegression().fit(feature_arr_scaled, label_arr)\n",
    "predicted_vals = reg.predict(feature_arr_scaled)\n",
    "adjusted_label_arr = np.array(label_arr - predicted_vals)\n",
    "adjusted_label_arr = adjusted_label_arr.reshape(feature_arr.size, 1)\n",
    "full_data = np.concatenate((feature_arr.reshape(-1,1), feature_arr_scaled, adjusted_label_arr), axis = 1)\n",
    "full_data[:,0]"
   ]
  },
  {
   "cell_type": "markdown",
   "metadata": {},
   "source": [
    "Now, make a plot of the difference between the log values and predicted values. Ensure that the trend removal process has produced a reasonable result."
   ]
  },
  {
   "cell_type": "code",
   "execution_count": 7,
   "metadata": {},
   "outputs": [
    {
     "data": {
      "text/plain": [
       "[<matplotlib.lines.Line2D at 0x23c3ab67cf8>]"
      ]
     },
     "execution_count": 7,
     "metadata": {},
     "output_type": "execute_result"
    },
    {
     "data": {
      "image/png": "[encoded data removed]",
      "text/plain": [
       "<Figure size 432x288 with 1 Axes>"
      ]
     },
     "metadata": {
      "needs_background": "light"
     },
     "output_type": "display_data"
    }
   ],
   "source": [
    "plt.plot(feature_arr, full_data[:,2])"
   ]
  },
  {
   "cell_type": "markdown",
   "metadata": {},
   "source": [
    "## Compute the Returns\n",
    "\n",
    "With the trend removed from the daily values, its time to compute the returns. In the cell below do the following:\n",
    "\n",
    "- Compute the returns using the numpy [`diff`](https://docs.scipy.org/doc/numpy/reference/generated/numpy.diff.html) method. \n",
    "- The length of the difference (return) series will be 1 less than the original series. You will need to add a value of 0.0 to the start of the series, using the numpy `concatenate` method. \n",
    "- Concatenate the difference value column to the numpy array you created previously. Remember to apply `ravel` and `reshape` to the difference array. "
   ]
  },
  {
   "cell_type": "code",
   "execution_count": 8,
   "metadata": {},
   "outputs": [
    {
     "data": {
      "text/plain": [
       "array([[ 0.00000000e+00, -1.73067453e+00,  3.97897516e-02,\n",
       "         0.00000000e+00],\n",
       "       [ 1.00000000e+00, -1.72792087e+00,  1.85480154e-02,\n",
       "        -2.12417362e-02],\n",
       "       [ 2.00000000e+00, -1.72516721e+00,  6.66704777e-03,\n",
       "        -1.18809676e-02],\n",
       "       ...,\n",
       "       [ 1.25500000e+03,  1.72516721e+00, -2.59896354e-02,\n",
       "         7.57641737e-03],\n",
       "       [ 1.25600000e+03,  1.72792087e+00, -1.22367378e-02,\n",
       "         1.37528976e-02],\n",
       "       [ 1.25700000e+03,  1.73067453e+00, -1.70889778e-02,\n",
       "        -4.85223999e-03]])"
      ]
     },
     "execution_count": 8,
     "metadata": {},
     "output_type": "execute_result"
    }
   ],
   "source": [
    "diff_arr = np.diff(full_data[:,2])\n",
    "diff_arr = np.concatenate(([0.0], diff_arr))\n",
    "diff_arr = diff_arr.ravel().reshape(-1,1)\n",
    "full_data = np.concatenate((full_data, diff_arr), axis = 1)\n",
    "full_data"
   ]
  },
  {
   "cell_type": "markdown",
   "metadata": {},
   "source": [
    "In the cell below, plot the time series of the returns."
   ]
  },
  {
   "cell_type": "code",
   "execution_count": 9,
   "metadata": {},
   "outputs": [
    {
     "data": {
      "text/plain": [
       "[<matplotlib.lines.Line2D at 0x23c3a91d160>]"
      ]
     },
     "execution_count": 9,
     "metadata": {},
     "output_type": "execute_result"
    },
    {
     "data": {
      "image/png": "[encoded data removed]",
      "text/plain": [
       "<Figure size 432x288 with 1 Axes>"
      ]
     },
     "metadata": {
      "needs_background": "light"
     },
     "output_type": "display_data"
    }
   ],
   "source": [
    "plt.plot(feature_arr, full_data[:,3])"
   ]
  },
  {
   "cell_type": "markdown",
   "metadata": {},
   "source": [
    "Examine this series. Notice that the volatility (local variance) of these returns change with time. Volatility remains relatively constant for a period, and then changes. This is known as the [clustering of volatility effect](https://en.wikipedia.org/wiki/Volatility_clustering).  To model volatility clustering, Prof Robert Engel to develop the [ARCH model](http://www.econ.uiuc.edu/~econ508/Papers/engle82.pdf) which won him the Nobel prize in economics. \n",
    "\n",
    "In this exercise we will ignore the non-stationarity (clustering of volatility) nature of the return series. This may lead to some less than idea results.  "
   ]
  },
  {
   "cell_type": "markdown",
   "metadata": {},
   "source": [
    "## Exploration of the Return Series\n",
    "\n",
    "Now you will explore the probability properties of the return series and compute the empirical VaR. You will then compare this to the VaR computed using a single Gaussian distribution. \n",
    "\n",
    "In the cell below, use the scale function from sklearn.preprocessing to scale the return series. "
   ]
  },
  {
   "cell_type": "code",
   "execution_count": 10,
   "metadata": {},
   "outputs": [],
   "source": [
    "scaled_return_arr = scale(full_data[:,3]).reshape(-1,1)"
   ]
  },
  {
   "cell_type": "markdown",
   "metadata": {},
   "source": [
    "Now, plot a histogram of the return values, using 50 bins. "
   ]
  },
  {
   "cell_type": "code",
   "execution_count": 11,
   "metadata": {},
   "outputs": [
    {
     "data": {
      "text/plain": [
       "(array([  2.,   1.,   1.,   0.,   2.,   2.,   3.,   1.,   2.,   6.,   3.,\n",
       "          9.,   7.,  12.,  11.,  19.,  17.,  20.,  37.,  54.,  57., 107.,\n",
       "        178., 179., 140.,  98.,  72.,  59.,  35.,  41.,  29.,  18.,  11.,\n",
       "          8.,   6.,   2.,   5.,   0.,   1.,   0.,   0.,   1.,   0.,   0.,\n",
       "          1.,   0.,   0.,   0.,   0.,   1.]),\n",
       " array([-4.90241771, -4.69254605, -4.48267439, -4.27280273, -4.06293108,\n",
       "        -3.85305942, -3.64318776, -3.4333161 , -3.22344444, -3.01357278,\n",
       "        -2.80370112, -2.59382946, -2.3839578 , -2.17408614, -1.96421448,\n",
       "        -1.75434282, -1.54447116, -1.3345995 , -1.12472784, -0.91485618,\n",
       "        -0.70498452, -0.49511287, -0.28524121, -0.07536955,  0.13450211,\n",
       "         0.34437377,  0.55424543,  0.76411709,  0.97398875,  1.18386041,\n",
       "         1.39373207,  1.60360373,  1.81347539,  2.02334705,  2.23321871,\n",
       "         2.44309037,  2.65296203,  2.86283369,  3.07270535,  3.282577  ,\n",
       "         3.49244866,  3.70232032,  3.91219198,  4.12206364,  4.3319353 ,\n",
       "         4.54180696,  4.75167862,  4.96155028,  5.17142194,  5.3812936 ,\n",
       "         5.59116526]),\n",
       " <a list of 50 Patch objects>)"
      ]
     },
     "execution_count": 11,
     "metadata": {},
     "output_type": "execute_result"
    },
    {
     "data": {
      "image/png": "[encoded data removed]",
      "text/plain": [
       "<Figure size 432x288 with 1 Axes>"
      ]
     },
     "metadata": {
      "needs_background": "light"
     },
     "output_type": "display_data"
    }
   ],
   "source": [
    "plt.hist(scaled_return_arr, bins = 50)"
   ]
  },
  {
   "cell_type": "markdown",
   "metadata": {},
   "source": [
    "**Question:** Carefully examine this histogram. In particular, look for signs of asymmetry and the 'weight' of the tails. What do you observe in terms of differences of this empirical distribution compared to a textbook Gaussian (Normal) distribution. \n",
    "\n",
    "> **Hint:**: There are two well know reasons that Gaussian (Normal) distributions do not model the (log) returns of financial assets. The actual returns are asymmetric and have greater 'weight' in the tails than would be modeled with a Gaussian distribution. "
   ]
  },
  {
   "cell_type": "markdown",
   "metadata": {},
   "source": [
    "ANS: This histogram deviates from a standard normal in that the tail on the left side of the mean is longer and thinner than the right. "
   ]
  },
  {
   "cell_type": "markdown",
   "metadata": {},
   "source": [
    "Now, you will compute the 1% (p = 0.01) **empirical VaR** using the values of the return series. Write a function following this recommended process:\n",
    "1. Sort the values with the numpy sort method.\n",
    "2. Find the index of the at the 0.01 quantile.\n",
    "3. Print the value for the index.\n",
    "\n",
    "Execute your function and examine the results.\n",
    "\n",
    "> **Note:** *Emperical VaR* is the VaR computed using the log return series. The computation is simply a matter of counting the ordered returns from the lowest value to the $p * series\\ length$ value. "
   ]
  },
  {
   "cell_type": "code",
   "execution_count": 12,
   "metadata": {},
   "outputs": [
    {
     "data": {
      "text/plain": [
       "-3.0938707407670143"
      ]
     },
     "execution_count": 12,
     "metadata": {},
     "output_type": "execute_result"
    }
   ],
   "source": [
    "def calculateEmpiricalVar(valuesArray, cutOff = 0.01):\n",
    "    sortedValues = np.sort(valuesArray)\n",
    "    return sortedValues[int(len(valuesArray) * cutOff)]\n",
    "\n",
    "calculateEmpiricalVar(scaled_return_arr.reshape(-1))\n"
   ]
  },
  {
   "cell_type": "markdown",
   "metadata": {},
   "source": [
    "Compare the empirical VaR you computed above to the **Normal VaR**. Since the return series has already been standardized you can compute the Normal 1% VaR using the [norm.ppf](https://docs.scipy.org/doc/scipy/reference/generated/scipy.stats.norm.html) function from scipy.stats, with $q = 1.0$.  \n",
    "\n",
    "> **Note:** The Normal or Gaussian VaR is simply the pth quantile of the Normal distribution, given the estimated variance of the 0 mean return series. In this case, the return series is standardized so, the variance is just $\\sigma^2 = 0.01$."
   ]
  },
  {
   "cell_type": "code",
   "execution_count": 13,
   "metadata": {},
   "outputs": [
    {
     "data": {
      "text/plain": [
       "-2.3263478740408408"
      ]
     },
     "execution_count": 13,
     "metadata": {},
     "output_type": "execute_result"
    }
   ],
   "source": [
    "norm.ppf(0.01)"
   ]
  },
  {
   "cell_type": "markdown",
   "metadata": {},
   "source": [
    "Compare the empirical 1% VaR with the Normal 1% VaR. Which VaR measure estimates higher losses for the worst 1% of trading days? Which VaR measure do you think is more realistic and trustworthy?  "
   ]
  },
  {
   "cell_type": "markdown",
   "metadata": {},
   "source": [
    "ANS: The empirical VaR measure estimates higher losses than the Normal VaR measure. I think the empirical VaR measure is more trustworthy in this case since our histogram does not seem to be well modeled by a normal gaussian."
   ]
  },
  {
   "cell_type": "markdown",
   "metadata": {},
   "source": [
    "## The Gaussian MIxture Model   \n",
    "\n",
    "Now you are ready to model the return series as a GMM and then examine the properties of the of returns simulated from this model. In this case you will compute the GMM model using maximum likelihood Estimation (MLE) EM algorithm with the [GaussianMixture](https://scikit-learn.org/stable/modules/generated/sklearn.mixture.GaussianMixture.html) method from the sklearn.mixture package. \n",
    "\n",
    "In the cell below do the following:\n",
    "1. (Optionally) Create a function to print attributes of you GMM model; .weights_, .means_, .covariances_. Such a function will help you understand the components of your model. \n",
    "2. Set a numpy.random seed of 654.\n",
    "3. Define a GaussianMixture model with the following arguments:\n",
    "  - n_components = 3, to fit 3 Gaussian distributions in your mixture,\n",
    "  - verbose = 2, to see some information on the progress of the EM algorithm,\n",
    "  - covariance_type = 'spherical', since there is only a variance for each univariate distribution,\n",
    "  - reg_covar = 0.1, to ensure proper regularization. \n",
    "4. Fit the log return series with the .fit method. You will need to apply `.reshape(-1, 1)` so that the dimensionality of the array is correct. \n",
    "5. Print the results of your model using the function you have defined. "
   ]
  },
  {
   "cell_type": "code",
   "execution_count": 14,
   "metadata": {},
   "outputs": [
    {
     "name": "stdout",
     "output_type": "stream",
     "text": [
      "Initialization 0\n",
      "Initialization converged: True\t time lapse 0.00798s\t ll -1.33739\n",
      "GM model weight: [0.72513043 0.19122189 0.08364769]\n",
      "GM model means: [[-0.0269319 ]\n",
      " [ 0.93769301]\n",
      " [-1.91013399]]\n",
      "GM model covariances: [0.44327844 1.00315601 1.34947802]\n"
     ]
    }
   ],
   "source": [
    "def printGMMattributes(gm_Model):\n",
    "    print ('GM model weight: ' + str(gm_Model.weights_))\n",
    "    print ('GM model means: ' + str(gm_Model.means_))\n",
    "    print ('GM model covariances: ' + str(gm_Model.covariances_))\n",
    "np.random.seed(654)\n",
    "gm_Model = GaussianMixture(n_components=3, verbose=2, covariance_type='spherical', reg_covar=0.1)\n",
    "gm_Model.fit(scaled_return_arr)\n",
    "printGMMattributes(gm_Model)"
   ]
  },
  {
   "cell_type": "markdown",
   "metadata": {},
   "source": [
    "Examine the weights, means and covariances (actually the univariate variance) for the model you have created. Given these parameters, what does this tell you about the major (dominant) Gaussian vs. the other components of this model? "
   ]
  },
  {
   "cell_type": "markdown",
   "metadata": {},
   "source": [
    "ANS: These values tells us that the dominant Gaussian, with about 72.5% weight, has close to 0 mean and .44 variance. Thus the dominant Gaussian is close to a standard normal but with less than half the variance."
   ]
  },
  {
   "cell_type": "markdown",
   "metadata": {},
   "source": [
    "With your GMM model computed, you will now simulate returns from the mixture distribution and compute the 1% VaR from the simulated values. In the cell below create code to perform the following operations for 10,000 samples: \n",
    "1. Create a function to perform the simulation with the following steps:\n",
    "  - Start with an [empty](https://docs.scipy.org/doc/numpy/reference/generated/numpy.empty.html) numpy array of dimension (0). \n",
    "  - For each model weight, compute the fraction of the total realizations which use the parameters for that component of the mixture. It may help you when debugging to print this faction. \n",
    "  - For the fraction of realizations use the [normal](https://docs.scipy.org/doc/numpy-1.14.0/reference/generated/numpy.random.normal.html) to compute realizations of a univariate Normal (Gaussian) for each component. \n",
    "  - Concatenate the realizations computed from each component. \n",
    "2. Execute your function to compute the simulated return values. \n",
    "3. Compute and print the 1% VaR. "
   ]
  },
  {
   "cell_type": "code",
   "execution_count": 15,
   "metadata": {},
   "outputs": [
    {
     "data": {
      "text/plain": [
       "-3.4729342074111638"
      ]
     },
     "execution_count": 15,
     "metadata": {},
     "output_type": "execute_result"
    }
   ],
   "source": [
    "def simulate_GMM(gm_Model, n_samples=10000):\n",
    "    samples0 = np.random.normal(gm_Model.means_[0], gm_Model.covariances_[0], \n",
    "                                       int(gm_Model.weights_[0] * n_samples))\n",
    "    #print(samples0)\n",
    "    samples1 = np.random.normal(gm_Model.means_[1, 0], gm_Model.covariances_[1], \n",
    "                                       int(gm_Model.weights_[1] * n_samples))\n",
    "    #print(samples1)\n",
    "    samples2 = np.random.normal(gm_Model.means_[2, 0], gm_Model.covariances_[2], \n",
    "                                       int(gm_Model.weights_[2] * n_samples))\n",
    "    #print(samples2)\n",
    "    return np.concatenate((samples0, samples1, samples2))\n",
    "sim_values = simulate_GMM(gm_Model)\n",
    "calculateEmpiricalVar(sim_values)\n"
   ]
  },
  {
   "cell_type": "markdown",
   "metadata": {},
   "source": [
    "Next, plot the histogram of your simulated returns with 200 bins. "
   ]
  },
  {
   "cell_type": "code",
   "execution_count": 16,
   "metadata": {},
   "outputs": [
    {
     "data": {
      "text/plain": [
       "(array([  1.,   0.,   1.,   0.,   0.,   1.,   1.,   1.,   1.,   0.,   0.,\n",
       "          0.,   0.,   1.,   2.,   0.,   0.,   1.,   3.,   0.,   1.,   1.,\n",
       "          0.,   2.,   1.,   3.,   4.,   5.,   6.,   3.,   4.,   2.,   3.,\n",
       "          0.,   1.,   3.,   7.,   7.,   2.,   9.,   4.,   4.,   7.,   8.,\n",
       "          2.,   6.,  12.,  11.,  12.,   5.,   9.,   6.,   8.,   8.,  11.,\n",
       "         10.,   6.,   7.,   9.,   8.,  16.,   8.,  13.,  14.,  20.,  11.,\n",
       "         11.,  11.,  11.,   9.,  10.,  15.,  12.,  12.,  12.,  16.,  13.,\n",
       "         12.,  17.,  14.,  14.,  14.,  17.,  22.,  16.,  21.,  23.,  21.,\n",
       "         28.,  31.,  30.,  40.,  38.,  49.,  67.,  94.,  84., 109., 127.,\n",
       "        143., 172., 209., 211., 268., 283., 296., 299., 353., 358., 341.,\n",
       "        335., 380., 329., 384., 356., 368., 285., 283., 275., 230., 211.,\n",
       "        229., 178., 174., 135., 149., 113.,  91.,  77.,  87.,  52.,  60.,\n",
       "         58.,  55.,  60.,  52.,  43.,  30.,  23.,  37.,  36.,  31.,  27.,\n",
       "         34.,  22.,  28.,  31.,  25.,  31.,  31.,  20.,  23.,  14.,  18.,\n",
       "         20.,  15.,  15.,  19.,  22.,  10.,   7.,  15.,   8.,  17.,   7.,\n",
       "          5.,   4.,  12.,   9.,   2.,   2.,   3.,   6.,   5.,   1.,   3.,\n",
       "          2.,   3.,   2.,   2.,   2.,   0.,   2.,   0.,   1.,   0.,   0.,\n",
       "          0.,   0.,   0.,   1.,   0.,   0.,   0.,   1.,   0.,   0.,   0.,\n",
       "          0.,   1.]),\n",
       " array([-5.70654821e+00, -5.65557361e+00, -5.60459901e+00, -5.55362440e+00,\n",
       "        -5.50264980e+00, -5.45167519e+00, -5.40070059e+00, -5.34972599e+00,\n",
       "        -5.29875138e+00, -5.24777678e+00, -5.19680218e+00, -5.14582757e+00,\n",
       "        -5.09485297e+00, -5.04387836e+00, -4.99290376e+00, -4.94192916e+00,\n",
       "        -4.89095455e+00, -4.83997995e+00, -4.78900535e+00, -4.73803074e+00,\n",
       "        -4.68705614e+00, -4.63608154e+00, -4.58510693e+00, -4.53413233e+00,\n",
       "        -4.48315772e+00, -4.43218312e+00, -4.38120852e+00, -4.33023391e+00,\n",
       "        -4.27925931e+00, -4.22828471e+00, -4.17731010e+00, -4.12633550e+00,\n",
       "        -4.07536089e+00, -4.02438629e+00, -3.97341169e+00, -3.92243708e+00,\n",
       "        -3.87146248e+00, -3.82048788e+00, -3.76951327e+00, -3.71853867e+00,\n",
       "        -3.66756407e+00, -3.61658946e+00, -3.56561486e+00, -3.51464025e+00,\n",
       "        -3.46366565e+00, -3.41269105e+00, -3.36171644e+00, -3.31074184e+00,\n",
       "        -3.25976724e+00, -3.20879263e+00, -3.15781803e+00, -3.10684342e+00,\n",
       "        -3.05586882e+00, -3.00489422e+00, -2.95391961e+00, -2.90294501e+00,\n",
       "        -2.85197041e+00, -2.80099580e+00, -2.75002120e+00, -2.69904660e+00,\n",
       "        -2.64807199e+00, -2.59709739e+00, -2.54612278e+00, -2.49514818e+00,\n",
       "        -2.44417358e+00, -2.39319897e+00, -2.34222437e+00, -2.29124977e+00,\n",
       "        -2.24027516e+00, -2.18930056e+00, -2.13832595e+00, -2.08735135e+00,\n",
       "        -2.03637675e+00, -1.98540214e+00, -1.93442754e+00, -1.88345294e+00,\n",
       "        -1.83247833e+00, -1.78150373e+00, -1.73052912e+00, -1.67955452e+00,\n",
       "        -1.62857992e+00, -1.57760531e+00, -1.52663071e+00, -1.47565611e+00,\n",
       "        -1.42468150e+00, -1.37370690e+00, -1.32273230e+00, -1.27175769e+00,\n",
       "        -1.22078309e+00, -1.16980848e+00, -1.11883388e+00, -1.06785928e+00,\n",
       "        -1.01688467e+00, -9.65910070e-01, -9.14935466e-01, -8.63960862e-01,\n",
       "        -8.12986258e-01, -7.62011655e-01, -7.11037051e-01, -6.60062447e-01,\n",
       "        -6.09087844e-01, -5.58113240e-01, -5.07138636e-01, -4.56164033e-01,\n",
       "        -4.05189429e-01, -3.54214825e-01, -3.03240222e-01, -2.52265618e-01,\n",
       "        -2.01291014e-01, -1.50316411e-01, -9.93418068e-02, -4.83672031e-02,\n",
       "         2.60740057e-03,  5.35820043e-02,  1.04556608e-01,  1.55531212e-01,\n",
       "         2.06505815e-01,  2.57480419e-01,  3.08455023e-01,  3.59429626e-01,\n",
       "         4.10404230e-01,  4.61378834e-01,  5.12353437e-01,  5.63328041e-01,\n",
       "         6.14302645e-01,  6.65277249e-01,  7.16251852e-01,  7.67226456e-01,\n",
       "         8.18201060e-01,  8.69175663e-01,  9.20150267e-01,  9.71124871e-01,\n",
       "         1.02209947e+00,  1.07307408e+00,  1.12404868e+00,  1.17502329e+00,\n",
       "         1.22599789e+00,  1.27697249e+00,  1.32794710e+00,  1.37892170e+00,\n",
       "         1.42989630e+00,  1.48087091e+00,  1.53184551e+00,  1.58282011e+00,\n",
       "         1.63379472e+00,  1.68476932e+00,  1.73574393e+00,  1.78671853e+00,\n",
       "         1.83769313e+00,  1.88866774e+00,  1.93964234e+00,  1.99061694e+00,\n",
       "         2.04159155e+00,  2.09256615e+00,  2.14354076e+00,  2.19451536e+00,\n",
       "         2.24548996e+00,  2.29646457e+00,  2.34743917e+00,  2.39841377e+00,\n",
       "         2.44938838e+00,  2.50036298e+00,  2.55133759e+00,  2.60231219e+00,\n",
       "         2.65328679e+00,  2.70426140e+00,  2.75523600e+00,  2.80621060e+00,\n",
       "         2.85718521e+00,  2.90815981e+00,  2.95913441e+00,  3.01010902e+00,\n",
       "         3.06108362e+00,  3.11205823e+00,  3.16303283e+00,  3.21400743e+00,\n",
       "         3.26498204e+00,  3.31595664e+00,  3.36693124e+00,  3.41790585e+00,\n",
       "         3.46888045e+00,  3.51985506e+00,  3.57082966e+00,  3.62180426e+00,\n",
       "         3.67277887e+00,  3.72375347e+00,  3.77472807e+00,  3.82570268e+00,\n",
       "         3.87667728e+00,  3.92765188e+00,  3.97862649e+00,  4.02960109e+00,\n",
       "         4.08057570e+00,  4.13155030e+00,  4.18252490e+00,  4.23349951e+00,\n",
       "         4.28447411e+00,  4.33544871e+00,  4.38642332e+00,  4.43739792e+00,\n",
       "         4.48837253e+00]),\n",
       " <a list of 200 Patch objects>)"
      ]
     },
     "execution_count": 16,
     "metadata": {},
     "output_type": "execute_result"
    },
    {
     "data": {
      "image/png": "[encoded data removed]",
      "text/plain": [
       "<Figure size 432x288 with 1 Axes>"
      ]
     },
     "metadata": {
      "needs_background": "light"
     },
     "output_type": "display_data"
    }
   ],
   "source": [
    "plt.hist(sim_values, bins = 200)"
   ]
  },
  {
   "cell_type": "markdown",
   "metadata": {},
   "source": [
    "Compare this histogram to the histogram of the empirical returns. Paying attention to the downside tail (the left hand tail of the distribution), and keeping in mind that loss events can occur that did not actually occur in the history (empirical data), what is the key difference and do you think this difference might matter?"
   ]
  },
  {
   "cell_type": "markdown",
   "metadata": {},
   "source": [
    "ANS: This histogram and the empirical histogram match up pretty closely but the left tail is longer and thinner in this histogram than the one for the empirical data. I believe this matters because it means this model might predict slightly higher losses than the empirical data."
   ]
  },
  {
   "cell_type": "markdown",
   "metadata": {},
   "source": [
    "Keeping the differences of the two histogrames in mind, compare the 1% VaR you have computed from your GMM with the 1% empirical VaR you computed earlier. How big is this difference, and do you think it might matter and why?"
   ]
  },
  {
   "cell_type": "markdown",
   "metadata": {},
   "source": [
    "ANS: The VaR computed by this model is about 12% lower than the VaR from the empirical data. In other words, this model tells us that losses will 0.379 % more losses than the empirical data."
   ]
  },
  {
   "cell_type": "markdown",
   "metadata": {},
   "source": [
    "## Bayesian Gaussian Mixture Model\n",
    "\n",
    "As a final step you will model the return series as a Bayesian GMM and then examine the properties of the of returns simulated from this model. This model uses the Bayesian variational EM algorithm. In this case you will compute the Bayesian GMM model using maximum likelihood Estimation (MLE) EM algorithm with the [BayesianGaussianMixture](https://scikit-learn.org/stable/modules/generated/sklearn.mixture.BayesianGaussianMixture.html#sklearn.mixture.BayesianGaussianMixture) method from the sklearn.mixture package. \n",
    "\n",
    "In the cell below do the following:\n",
    "1. Set a numpy.random seed of 345.\n",
    "3. Define a BayesianGaussianMixture model with the following arguments:\n",
    "  - n_components = 3, to fit 3 Gaussian distributions in your mixture,\n",
    "  - verbose = 2, to see some information on the progress of the EM algorithm,\n",
    "  - covariance_type = 'spherical', since there is only a variance for each univariate distribution,\n",
    "  - weight_concentration_prior = 0.1, as a prior on the component weights, which puts less mass on the center component of the mixture,\n",
    "  - mean_prior = [0.0], as a prior on the component means, consistent with expected returns typically being close to 0,\n",
    "  - covariance_prior = 1.0, as the variance prior for the standardized data,\n",
    "  - max_iter = 500, since convergence seems to be a problem with this model. \n",
    "4. Fit the log return series with the .fit method. You will need to apply `.reshape(-1, 1)` so that the dimensionality of the array is correct. \n",
    "5. Print the results of your model using the function you have defined previously. "
   ]
  },
  {
   "cell_type": "code",
   "execution_count": 17,
   "metadata": {},
   "outputs": [
    {
     "name": "stdout",
     "output_type": "stream",
     "text": [
      "Initialization 0\n",
      "  Iteration 10\t time lapse 0.01797s\t ll change 0.52215\n",
      "  Iteration 20\t time lapse 0.00896s\t ll change 0.22221\n",
      "  Iteration 30\t time lapse 0.00698s\t ll change 0.40788\n",
      "  Iteration 40\t time lapse 0.00798s\t ll change 0.38940\n",
      "  Iteration 50\t time lapse 0.00798s\t ll change 0.19472\n",
      "  Iteration 60\t time lapse 0.00798s\t ll change 0.11779\n",
      "  Iteration 70\t time lapse 0.00698s\t ll change 0.07765\n",
      "  Iteration 80\t time lapse 0.00698s\t ll change 0.05247\n",
      "  Iteration 90\t time lapse 0.00698s\t ll change 0.03437\n",
      "  Iteration 100\t time lapse 0.00898s\t ll change 0.02131\n",
      "  Iteration 110\t time lapse 0.00698s\t ll change 0.01252\n",
      "  Iteration 120\t time lapse 0.00898s\t ll change 0.00707\n",
      "  Iteration 130\t time lapse 0.00997s\t ll change 0.00391\n",
      "  Iteration 140\t time lapse 0.00898s\t ll change 0.00215\n",
      "  Iteration 150\t time lapse 0.00997s\t ll change 0.00118\n",
      "Initialization converged: True\t time lapse 0.13663s\t ll -510.12578\n",
      "GM model weight: [0.30490445 0.20270919 0.49238636]\n",
      "GM model means: [[-0.03525803]\n",
      " [-0.47547481]\n",
      " [ 0.2172052 ]]\n",
      "GM model covariances: [0.07714112 2.78686238 0.6945871 ]\n"
     ]
    }
   ],
   "source": [
    "np.random.seed(345)\n",
    "gm_Model = BayesianGaussianMixture(n_components=3, weight_concentration_prior = 0.1, \n",
    "                                   verbose=2, covariance_type='spherical', mean_prior=[0.0],\n",
    "                                   covariance_prior=1.0, max_iter=500)\n",
    "gm_Model.fit(scaled_return_arr)\n",
    "printGMMattributes(gm_Model)"
   ]
  },
  {
   "cell_type": "markdown",
   "metadata": {},
   "source": [
    "Notice that convergence is slow and that one of the components has both small weight and unrealistically small variance. These facts seem to point to the model being over parameterized. \n",
    "\n",
    "Perhaps a model with 2 components, and fewer parameters, will work better? In the cell below, compute a Bayesian GMM with 2 mixture components, starting with a numpy.random.seed of 567. "
   ]
  },
  {
   "cell_type": "code",
   "execution_count": 18,
   "metadata": {},
   "outputs": [
    {
     "name": "stdout",
     "output_type": "stream",
     "text": [
      "Initialization 0\n",
      "  Iteration 10\t time lapse 0.02393s\t ll change 0.78391\n",
      "  Iteration 20\t time lapse 0.00798s\t ll change 0.34223\n",
      "  Iteration 30\t time lapse 0.01197s\t ll change 0.18411\n",
      "  Iteration 40\t time lapse 0.00997s\t ll change 0.11056\n",
      "  Iteration 50\t time lapse 0.01097s\t ll change 0.06909\n",
      "  Iteration 60\t time lapse 0.00798s\t ll change 0.04316\n",
      "  Iteration 70\t time lapse 0.00898s\t ll change 0.02647\n",
      "  Iteration 80\t time lapse 0.00798s\t ll change 0.01586\n",
      "  Iteration 90\t time lapse 0.00997s\t ll change 0.00929\n",
      "  Iteration 100\t time lapse 0.00798s\t ll change 0.00534\n",
      "  Iteration 110\t time lapse 0.00897s\t ll change 0.00303\n",
      "  Iteration 120\t time lapse 0.00798s\t ll change 0.00170\n",
      "Initialization converged: True\t time lapse 0.13364s\t ll -522.54550\n",
      "GM model weight: [0.46214154 0.53785846]\n",
      "GM model means: [[-0.04316018]\n",
      " [ 0.03702964]]\n",
      "GM model covariances: [1.94698094 0.18456221]\n"
     ]
    }
   ],
   "source": [
    "np.random.seed(567)\n",
    "gm_Model = BayesianGaussianMixture(n_components=2, weight_concentration_prior = 0.1, \n",
    "                                   verbose=2, covariance_type='spherical', mean_prior=[0.0],\n",
    "                                   covariance_prior=1.0, max_iter=500)\n",
    "gm_Model.fit(scaled_return_arr)\n",
    "printGMMattributes(gm_Model)"
   ]
  },
  {
   "cell_type": "markdown",
   "metadata": {},
   "source": [
    "Notice that the weights of the 2 components are nearly equal and the means are both close to 0. However, the variances of the two components are quite different. \n",
    "\n",
    "To investigate this model further, in the cell below create and execute code to do the following:\n",
    "- Simulate 10,000 realizations of returns from the 2 component Gaussian GMM. \n",
    "- Plot the histogram of these realizations using 200 bins. \n",
    "- Compute and print the 1% VaR using these realizations. "
   ]
  },
  {
   "cell_type": "code",
   "execution_count": 19,
   "metadata": {
    "scrolled": false
   },
   "outputs": [
    {
     "data": {
      "text/plain": [
       "-3.9380762218693057"
      ]
     },
     "execution_count": 19,
     "metadata": {},
     "output_type": "execute_result"
    },
    {
     "data": {
      "image/png": "[encoded data removed]",
      "text/plain": [
       "<Figure size 432x288 with 1 Axes>"
      ]
     },
     "metadata": {
      "needs_background": "light"
     },
     "output_type": "display_data"
    }
   ],
   "source": [
    "def simulate_GMM(gm_Model, n_samples=10000):\n",
    "    samples0 = np.random.normal(gm_Model.means_[0], gm_Model.covariances_[0], \n",
    "                                       int(gm_Model.weights_[0] * n_samples))\n",
    "    #print(samples0)\n",
    "    samples1 = np.random.normal(gm_Model.means_[1, 0], gm_Model.covariances_[1], \n",
    "                                       int(gm_Model.weights_[1] * n_samples))\n",
    "    #print(samples1)\n",
    "    return np.concatenate((samples0, samples1))\n",
    "sim_values = simulate_GMM(gm_Model)\n",
    "plt.hist(sim_values, bins = 200)\n",
    "calculateEmpiricalVar(sim_values)"
   ]
  },
  {
   "cell_type": "markdown",
   "metadata": {},
   "source": [
    "Compare this histogram to the histogram of the empirical returns. Do you think this histogram represents a realistic model and why? "
   ]
  },
  {
   "cell_type": "markdown",
   "metadata": {},
   "source": [
    "ANS: No this model does not seem to be a realistic model since the histogram for this model has a much higher peak and the middle is much thinner than for the empirical returns."
   ]
  },
  {
   "cell_type": "markdown",
   "metadata": {},
   "source": [
    "Given your observations above, do you think the 1% VaR for this model is likely to be a reasonable representation of risk and why?"
   ]
  },
  {
   "cell_type": "markdown",
   "metadata": {},
   "source": [
    "ANS: No, the 1% VaR for this model is probably not a reasonable representation, since the left side tail is heavier than the left. The VaR for this model predicts worse outcomes than the empirical returns."
   ]
  },
  {
   "cell_type": "code",
   "execution_count": null,
   "metadata": {},
   "outputs": [],
   "source": [
    " "
   ]
  }
 ],
 "metadata": {
  "kernelspec": {
   "display_name": "Python 3",
   "language": "python",
   "name": "python3"
  },
  "language_info": {
   "codemirror_mode": {
    "name": "ipython",
    "version": 3
   },
   "file_extension": ".py",
   "mimetype": "text/x-python",
   "name": "python",
   "nbconvert_exporter": "python",
   "pygments_lexer": "ipython3",
   "version": "3.7.3"
  }
 },
 "nbformat": 4,
 "nbformat_minor": 2
}
