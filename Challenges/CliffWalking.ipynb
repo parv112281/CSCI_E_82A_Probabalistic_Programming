{
 "cells": [
  {
   "cell_type": "markdown",
   "metadata": {},
   "source": [
    "# Challenge Assignment\n",
    "## Cliff Walking with Reinforcement Learning\n",
    "\n",
    "## CSCI E-82A\n",
    "\n",
    ">**Make sure** you include your name along with the name of your team and team members in the notebook you submit."
   ]
  },
  {
   "cell_type": "markdown",
   "metadata": {},
   "source": [
    "**Your name and team name here:** *Horse* Parvinderjit Singh, Noah Peart, Lei Yue"
   ]
  },
  {
   "cell_type": "markdown",
   "metadata": {},
   "source": [
    "## Introduction\n",
    "\n",
    "In this challenge you will apply Monte Carlo reinforcement learning algorithms to a classic problem in reinforcement learning, known as the **cliff walking problem**. The cliff walking problem is a type of game. The goal is for the agent to find the highest reward (lowest cost) path from a starting state to the goal.   \n",
    "\n",
    "There are a number of versions of the cliff walking problems which have been used as research benchmarks over the years. You can find a short discussion of the cliff walking problem on page 132 of Sutton and Barto, second edition.    \n",
    "\n",
    "In the general cliff walking problem the agent starts in one corner of the state-space and must travel to goal, or terminal state, in another corner of the state-space. Between the starting state and goal state there is an area with a **cliff**. If the agent falls off a cliff it is sent back to the starting state. A schematic diagram of the state-space is shown in the diagram below.      \n",
    "\n",
    "<img src=\"CliffWalkingDiagram.JPG\" alt=\"Drawing\" style=\"width:500px; height:400px\"/>\n",
    "<center> State-space of cliff-walking problem </center>\n",
    "\n"
   ]
  },
  {
   "cell_type": "markdown",
   "metadata": {},
   "source": [
    "### Problem Description\n",
    "\n",
    "The agent must learn a policy to navigate from the starting state to the terminal state. The properties this problem are as follows:\n",
    "\n",
    "1. The state-space has two **continuous variables**, x and y.\n",
    "2. The starting state is at $x = 0.0$, $y = 0.0$. \n",
    "3. The terminal state has two segments:\n",
    "  - At $y = 0.0$ is in the range $9.0 \\le x \\le 10.0$. \n",
    "  - At $x = 10.0$ is in the range $0.0 \\le y \\le 1.0$.  \n",
    "4. The cliff zone is bounded by:\n",
    "  - $0.0 \\le y \\le 1.0$ and \n",
    "  - $1.0 \\le x \\le 9.0$. \n",
    "5. An agent entering the cliff zone is returned to the starting state.\n",
    "6. The agent moves 1.0 units per time step. \n",
    "7. The 8 possible **discrete actions** are moves in the following directions:  \n",
    "  - +x, \n",
    "  - +x, +y,\n",
    "  - +y\n",
    "  - -x, +y,\n",
    "  - -y,\n",
    "  - -x, -y,\n",
    "  - -y, and\n",
    "  - +x, -y. \n",
    "8. The rewards are:\n",
    "  - -1 for a time step in the state-space,\n",
    "  - -10 for colliding with an edge (barrier) of the state-space,\n",
    "  - -100 for falling off the cliff and returning to the starting state, and \n",
    "  - +1000 for reaching the terminal or goal state. \n",
    "  \n"
   ]
  },
  {
   "cell_type": "markdown",
   "metadata": {},
   "source": [
    "## Instructions\n",
    "\n",
    "In this challenge you and your team will do the following. Include commentary on each component of your algorithms. Make sure you answer the questions.  "
   ]
  },
  {
   "cell_type": "markdown",
   "metadata": {},
   "source": [
    "### Environment Simulator   \n",
    "\n",
    "Your reinforcement learning agent cannot contain any information about the environment other that the starting state and the possible actions. Therefore, you must create an environment simulator, with the following input and output:\n",
    "- Input: Arguments of state, the $(x,y)$ tuple, and discrete action\n",
    "- Output: the new state (s'), reward, and if the new state meets the terminal or goal criteria.\n",
    "\n",
    "Make sure you test your simulator functions carefully. The test cases must include, steps with each of the actions, falling off the cliff from each edge, hitting the barriers, and reaching the goal (terminal) edges. Errors in the simulator will make the rest of this challenge difficult.   \n",
    "\n",
    "> **Note**: For this problem, coordinate state is represented by a tuple of continuous variables. Make sure that you maintain coordinate state as continuous variables for this problem. "
   ]
  },
  {
   "cell_type": "markdown",
   "metadata": {},
   "source": [
    "### Initial Policy\n",
    "\n",
    "Start with a uniform initial policy. A uniform policy has an equal probability of taking any of the 8 possible actions for each cell in the grid representation.     \n",
    "\n",
    "> **Note:** As has already been stated, the coordinate state representation for this problem is a tuple of coordinate values. However, policy, state-values and action-values are represented with a grid approximation. \n",
    "\n",
    "> **Hint:** You may wish to use a 3-dimensional numpy array to code the policy for this problem. With 8 possible actions, this approach will be easier to work with. \n",
    "\n"
   ]
  },
  {
   "cell_type": "markdown",
   "metadata": {},
   "source": [
    "### Monte Carlo State Value Estimation   \n",
    "\n",
    "For the initial uniform policy, compute the state values using the Monte Carlo RL algorithm:\n",
    "1. Compute and print the state values for each grid in the representation. Use at least 1,000 episodes. This will take some time to execute.      \n",
    "2. Plot the grid of state values, as an image (e.g. matplotlib [imshow](https://matplotlib.org/3.1.1/api/_as_gen/matplotlib.pyplot.imshow.html)). \n",
    "3. Compute the Forbenious norm (Euclidean norm) of the state value array with [numpy.linalg.norm](https://docs.scipy.org/doc/numpy/reference/generated/numpy.linalg.norm.html). You will use this figure as a basis to compare your improved policy. \n",
    "\n",
    "Study your plot to ensure your state values seem correct. Do these state values seem reasonable given the uniform policy and why? Make sure you pay attention to the state values of the cliff zone.    \n",
    "\n",
    "> **Hint:** Careful testing at each stage of your algorithm development will potentially save you considerable time. Test your function(s) to for a single episode to make sure your algorithm converges. Then test for say 10 episodes to ensure the state values update in a reasonable manner at each episode.    \n",
    "\n",
    "> **Note:** The Monte Carlo episodes can be executed in parallel for production systems. The Markov chain of each episode is statistically independent. "
   ]
  },
  {
   "cell_type": "markdown",
   "metadata": {},
   "source": [
    "ANS: The state values for the cliff states are all 0 as expected, and the state values surronding the goal state seem somewhat reasonable but the other state values seem somewhat random."
   ]
  },
  {
   "cell_type": "markdown",
   "metadata": {},
   "source": [
    "### Monte Carlo State Policy Improvement   \n",
    "\n",
    "Finally, you will perform Monte Carlo RL policy improvement:\n",
    "1. Starting with the uniform policy, compute action-values for each grid in the representation. Use at least 1,000 episodes.      \n",
    "2. Use these action values to find an improved policy.\n",
    "3. To evaluate your updated policy compute the state-values for this policy.  \n",
    "4. Plot the grid of state values for the improved policy, as an image. \n",
    "5. Compute the Forbenious norm (Euclidean norm) of the state value array. \n",
    "\n",
    "Compare the state value plot for the improved policy to the one for the initial uniform policy. Does the improved state values increase generally as distance to the terminal states decreases?  Is this what you expect and why?    \n",
    "\n",
    "Compare the norm of the state values with your improved policy to the norm for the uniform policy. Is the increase significant?  \n",
    "\n",
    "> **Hint:** Careful testing at each stage of your algorithm development will potentially save you considerable time. Test your function(s) to for a single episode to make sure your algorithm converges. Then test for say 10 episodes to ensure the state values update in a reasonable manner at each episode.   \n",
    "\n",
    "> **Note:** You could continue to improve policy using the general policy improvement algorithm (GPI). In the interest of time, you are not required to do so here. "
   ]
  },
  {
   "cell_type": "markdown",
   "metadata": {},
   "source": [
    "ANS: Yes, the highest value of 1000 is at the goal state, and the values decrease as we move away from the goal state.\n",
    "\n",
    "ANS: Yes, this is expected, since the goal state directly leads to the reward and other state's values are discounted as they move away from the goal state.\n",
    "\n",
    "ANS: Yes, the initial norm was 92 while the improved norm was 1271, which is more than an order of magnitude better."
   ]
  },
  {
   "cell_type": "markdown",
   "metadata": {},
   "source": [
    "## Solution\n",
    "\n",
    "Create cells below for your solution to the stated problem. Be sure to include some Markdown text and code comments to explain each component of your algorithm. "
   ]
  },
  {
   "cell_type": "markdown",
   "metadata": {},
   "source": [
    "We begin below by creating a few utility methods and a method to simulate the environment within which the agent functions."
   ]
  },
  {
   "cell_type": "code",
   "execution_count": 2,
   "metadata": {},
   "outputs": [],
   "source": [
    "from math import cos\n",
    "import numpy as np\n",
    "import numpy.random as nr\n",
    "import matplotlib.pyplot as plt\n",
    "%matplotlib inline\n",
    "\n",
    "def sim_environment(x, y, action):\n",
    "    fell = False # boolean to denote if the agent has fallen into the cliff area\n",
    "    hit_wall = False # boolean to denote if the agent has hit a wall\n",
    "    # calculate new location\n",
    "    x_prime = x\n",
    "    y_prime = y\n",
    "    ##################################################################\n",
    "    # first index of action is movement across horizontal axis, \n",
    "    # second component is for vertical axis\n",
    "    #\n",
    "    # 0 value means no movement, 1 is forward movement to the \n",
    "    # right or up, -1 value is backward movement to the left or down\n",
    "    ##################################################################\n",
    "    if (action[0] == 1):\n",
    "        if (action[1] == 1):\n",
    "            x_prime = x + .707\n",
    "            y_prime = y + .707\n",
    "        elif(action[1] == -1):\n",
    "            x_prime = x + .707\n",
    "            y_prime = y - .707\n",
    "        else:\n",
    "            x_prime = x + 1\n",
    "    elif (action[0] == -1):\n",
    "        if (action[1] == 1):\n",
    "            x_prime = x - .707\n",
    "            y_prime = y + .707\n",
    "        elif(action[1] == -1):\n",
    "            x_prime = x - .707\n",
    "            y_prime = y - .707\n",
    "        else:\n",
    "            x_prime = x - 1\n",
    "    else:\n",
    "        if (action[1] == 1):\n",
    "            y_prime = y + 1\n",
    "        elif (action[1] == -1):\n",
    "            y_prime = y - 1\n",
    "             \n",
    "    #ensure new location is in bounds\n",
    "    if (x_prime > 10.0):\n",
    "        x_prime = 10.0\n",
    "        hit_wall = True\n",
    "    elif (x_prime < 0.0):\n",
    "        x_prime = 0.0\n",
    "        hit_wall = True\n",
    "    if (y_prime > 10.0):\n",
    "        y_prime = 10.0\n",
    "        hit_wall = True\n",
    "    elif (y_prime < 0.0):\n",
    "        y_prime = 0.0\n",
    "        hit_wall = True\n",
    "             \n",
    "    #ensure new location is not off cliff\n",
    "    if (x_prime >= 1.0 and x_prime <= 9.0):\n",
    "        if (y_prime >= 0.0 and y_prime <= 1.0):\n",
    "             x_prime = 0.0\n",
    "             y_prime = 0.0\n",
    "             fell = True\n",
    "    \n",
    "    ## check if we are at the terminal state or not and set reward\n",
    "    if (in_terminal(x_prime, y_prime)):\n",
    "        done = True\n",
    "        reward = 1000\n",
    "    elif (fell):\n",
    "        done = False\n",
    "        reward = -100\n",
    "    elif (hit_wall):\n",
    "        done = False\n",
    "        reward = -10\n",
    "        x_prime = x\n",
    "        y_prime = y\n",
    "    else:\n",
    "        done = False\n",
    "        reward = -1.0\n",
    "    # output new state (x', y'), reward, and if the new state meets the terminal or goal criteria\n",
    "    return(x_prime, y_prime, done, reward)\n",
    "\n",
    "def in_terminal(x, y):\n",
    "    if (y <= 0.0 and x >= 9.0):\n",
    "        return True\n",
    "    elif (x >= 10.0 and y <= 1.0):\n",
    "        return True\n",
    "    return False"
   ]
  },
  {
   "cell_type": "markdown",
   "metadata": {},
   "source": [
    "The ``state`` function takes in a single coordinate, either x or y, and converts it into a discrete state value represented by a integer from 0 to 9. The ``get_grid_state function`` takes as input x, y coordinates and converts them to a single state value between 0 and 99. "
   ]
  },
  {
   "cell_type": "code",
   "execution_count": 3,
   "metadata": {},
   "outputs": [],
   "source": [
    "def state(x, x_lims = (0.0,10.0), n_tiles = 10):\n",
    "    \"\"\"Function to compute tile state given positon\"\"\"\n",
    "    state = int((x - x_lims[0])/(x_lims[1] - x_lims[0]) * float(n_tiles))\n",
    "    if(state > n_tiles - 1): state = n_tiles - 1\n",
    "    return(state)\n",
    "\n",
    "def get_grid_state(x, y):\n",
    "    assert x >= 0 and x <= 10\n",
    "    assert y >= 0 and y <= 10\n",
    "    return (state(x) + 10 * state(y))"
   ]
  },
  {
   "cell_type": "markdown",
   "metadata": {},
   "source": [
    "We start off with a random initial policy, as defined below. We also define all possible actions in an ``actions`` array. Actions are encoded in a tuple with the first value denoting movement in the horizontal axis and the second value denoting movement in the vertical axis. A value of one means that movement occurs in the forward direction, either to the right or upward. A value of negative one means that movement occurs in the backward direction, either down or to the left."
   ]
  },
  {
   "cell_type": "code",
   "execution_count": 4,
   "metadata": {},
   "outputs": [],
   "source": [
    "initial_policy = [[[0.125 for k in range(8)] for j in range(10)] for i in range(10)]\n",
    "actions = [(0,1), (0,-1), (1,0), (1,1), (1,-1), (-1,0), (-1,1), (-1,-1)]"
   ]
  },
  {
   "cell_type": "markdown",
   "metadata": {},
   "source": [
    "The ``take_action`` functions takes the x and y coordinate of the agent's current position and a policy and then computes an action. This action is then passed into the ``sim_environment`` function to compute the new x', y' position, the reward and whether the agent is in the terminal state."
   ]
  },
  {
   "cell_type": "code",
   "execution_count": 5,
   "metadata": {},
   "outputs": [],
   "source": [
    "def take_action(x, y, policy):\n",
    "    '''Function takes action given state using the transition probabilities \n",
    "    of the policy'''\n",
    "    ## Find the action given the transistion probabilities defined by the policy.\n",
    "    x_grid = state(x)\n",
    "    y_grid = state(y)\n",
    "    action = actions[nr.choice(8, p = policy[x_grid][y_grid])]\n",
    "    x_prime, y_prime, is_terminal, reward = sim_environment(x,y, action)\n",
    "    return (action, x_prime, y_prime, is_terminal, reward)"
   ]
  },
  {
   "cell_type": "markdown",
   "metadata": {},
   "source": [
    "The ``MC_episode`` function takes as input the policy, an array to hold rewards for all the states and another array to track the number of times a state has been visited. "
   ]
  },
  {
   "cell_type": "code",
   "execution_count": 6,
   "metadata": {},
   "outputs": [],
   "source": [
    "def MC_episode(policy, G, n_visits): \n",
    "    '''Function creates the Monte Carlo samples of one episode.\n",
    "    This function does most of the real work'''\n",
    "    ## For each episode we use a list to keep track of states we have visited.\n",
    "    ## Once we visit a state we need to accumulate values to get the returns\n",
    "    states_visited = np.zeros(100)\n",
    "    states_visted_list = []\n",
    "        \n",
    "    ## Find the starting state\n",
    "    x_current = 0.0\n",
    "    y_current = 0.0\n",
    "    current_state = get_grid_state(x_current, y_current)\n",
    "    terminal = False\n",
    "    while(not terminal):\n",
    "        ## Find the next action and reward\n",
    "        action, x_prime, y_prime, terminal, reward = take_action(x_current, y_current, policy)\n",
    "\n",
    "        ## Add the reward to the states visited if this is a first visit  \n",
    "        if(states_visited[current_state] == 0):\n",
    "            ## Mark that the current state has been visited \n",
    "            states_visited[current_state] = 1\n",
    "            states_visted_list.append(current_state)\n",
    "            ## Add the reward to states visited \n",
    "            for state in states_visted_list:\n",
    "                n_visits[state] = n_visits[state] + 1.0\n",
    "                G[state] = G[state] + (reward - G[state])/n_visits[state]\n",
    "        \n",
    "        ## Update the current state for next transition\n",
    "        current_state = get_grid_state(x_prime, y_prime) \n",
    "        x_current = x_prime\n",
    "        y_current = y_prime\n",
    "    return (G, n_visits) \n"
   ]
  },
  {
   "cell_type": "markdown",
   "metadata": {},
   "source": [
    "The ``MC_state_values`` function takes as input the policy, and the number of episodes to execute, it then repeatedly calls the ``MC_episode`` function repeatedly updating the rewards array and the number of visits array. At the end, this function returns the rewards array as the state values."
   ]
  },
  {
   "cell_type": "code",
   "execution_count": 7,
   "metadata": {},
   "outputs": [],
   "source": [
    "def MC_state_values(policy, n_episodes):\n",
    "    '''Function that evaluates the state value of \n",
    "    a policy using the Monte Carlo method.'''\n",
    "    ## Create list of states \n",
    "    n_states = 100\n",
    "    \n",
    "    ## An array to hold the accumulated returns as we visit states\n",
    "    G = np.zeros((n_states))\n",
    "    \n",
    "    ## An array to keep track of how many times we visit each state so we can \n",
    "    ## compute the mean\n",
    "    n_visits = np.zeros((n_states))\n",
    "    #print(n_visits)\n",
    "    \n",
    "    ## Iterate over the episodes\n",
    "    for i in range(n_episodes):\n",
    "        G, n_visits = MC_episode(policy, G, n_visits) # neighbors, i, n_states)\n",
    "        #print (\"running episode: \" + str(i))\n",
    "    return(G) \n",
    "\n",
    "value_grid = MC_state_values(initial_policy, 1000).reshape((10,10))"
   ]
  },
  {
   "cell_type": "markdown",
   "metadata": {},
   "source": [
    "The below code generates a plot which shows the state values as color coded values. The darker values define lower state values whereas lighter colors show areas with higher values."
   ]
  },
  {
   "cell_type": "code",
   "execution_count": 8,
   "metadata": {},
   "outputs": [
    {
     "data": {
      "image/png": "[encoded data removed]",
      "text/plain": [
       "<Figure size 432x288 with 1 Axes>"
      ]
     },
     "metadata": {
      "needs_background": "light"
     },
     "output_type": "display_data"
    },
    {
     "name": "stdout",
     "output_type": "stream",
     "text": [
      "[[-6.85434783e-01  0.00000000e+00  0.00000000e+00  0.00000000e+00\n",
      "   0.00000000e+00  0.00000000e+00  0.00000000e+00  0.00000000e+00\n",
      "   0.00000000e+00  7.92866385e+01]\n",
      " [-4.14867655e-01  4.05026441e-02  8.90526351e-01  1.98301167e+00\n",
      "   3.34930654e+00  4.86899404e+00  6.93641031e+00  8.00970384e+00\n",
      "   1.23232808e+01  2.48012361e+01]\n",
      " [-5.08009266e-02  1.16464611e-01  5.47770608e-01  1.22849496e+00\n",
      "   2.11394052e+00  3.46891534e+00  4.66685175e+00  6.03682708e+00\n",
      "   8.71746743e+00  1.26895655e+01]\n",
      " [ 3.51407102e-01  4.80497495e-01  6.46192923e-01  1.07029739e+00\n",
      "   1.91298818e+00  2.60409304e+00  3.80550837e+00  4.73951122e+00\n",
      "   6.39809165e+00  9.31571465e+00]\n",
      " [ 9.12429035e-01  8.68003231e-01  8.77100006e-01  1.37568207e+00\n",
      "   1.83364850e+00  2.49368312e+00  3.23243503e+00  4.45681825e+00\n",
      "   5.62452652e+00  6.81276342e+00]\n",
      " [ 1.34912860e+00  1.25727334e+00  1.18343980e+00  1.45229193e+00\n",
      "   1.90014008e+00  2.46792119e+00  2.95974653e+00  3.72047593e+00\n",
      "   4.59105603e+00  6.10635883e+00]\n",
      " [ 1.93208659e+00  1.61604263e+00  1.54031696e+00  1.68657542e+00\n",
      "   2.19533458e+00  2.68054376e+00  3.03612741e+00  3.88603166e+00\n",
      "   4.80201097e+00  5.81245876e+00]\n",
      " [ 2.73507942e+00  2.25736469e+00  2.08596023e+00  2.20974742e+00\n",
      "   2.41728997e+00  2.82827889e+00  3.34212407e+00  4.09327518e+00\n",
      "   4.69606309e+00  5.44927030e+00]\n",
      " [ 3.33045917e+00  2.92423317e+00  2.55246982e+00  2.76191568e+00\n",
      "   3.08370692e+00  3.25289356e+00  3.66301497e+00  4.29971341e+00\n",
      "   5.02649168e+00  6.20462388e+00]\n",
      " [ 4.51023719e+00  3.76210750e+00  3.55833047e+00  3.70065413e+00\n",
      "   3.93246322e+00  4.29138912e+00  4.69572718e+00  5.21282882e+00\n",
      "   6.19268803e+00  7.77674957e+00]]\n"
     ]
    },
    {
     "data": {
      "text/plain": [
       "92.35064427057117"
      ]
     },
     "execution_count": 8,
     "metadata": {},
     "output_type": "execute_result"
    }
   ],
   "source": [
    "from numpy import linalg as LA\n",
    "\n",
    "value_grid1 = np.flip(value_grid)\n",
    "plt.imshow(value_grid1)\n",
    "plt.show()\n",
    "print(value_grid)\n",
    "LA.norm(value_grid1)"
   ]
  },
  {
   "cell_type": "markdown",
   "metadata": {},
   "source": [
    "The ``get_action_index`` function returns a single action index for each action. The ``print_Q`` function prints the state action values dataframe with appropriate headers."
   ]
  },
  {
   "cell_type": "code",
   "execution_count": 13,
   "metadata": {},
   "outputs": [],
   "source": [
    "import itertools\n",
    "import pandas as pd\n",
    "def get_action_index(action):\n",
    "    if (action == (0,1)): return 0\n",
    "    elif (action == (0,-1)): return 1\n",
    "    elif (action == (1,0)): return 2\n",
    "    elif (action == (1,1)): return 3\n",
    "    elif (action == (1,-1)): return 4\n",
    "    elif (action == (-1,0)): return 5\n",
    "    elif (action == (-1,1)): return 6\n",
    "    elif (action == (-1,-1)): return 7\n",
    "def print_Q(Q):\n",
    "    Q = pd.DataFrame(Q, columns = ['N', 'S', 'E', 'NE', 'SE', 'W', 'NW', 'SW'])\n",
    "    print(Q)"
   ]
  },
  {
   "cell_type": "markdown",
   "metadata": {},
   "source": [
    "The ``MC_action_value_episode`` method runs one monte carlo episode, aggregating the rewards accrued at each state/action pair encountered and storing these values in a grid. The actions are chosen at each state based on a policy."
   ]
  },
  {
   "cell_type": "code",
   "execution_count": 14,
   "metadata": {},
   "outputs": [],
   "source": [
    "def MC_action_value_episode(policy, Q, n_visits, inital_state, n_states, n_actions):\n",
    "    '''Function creates the Monte Carlo samples of action values for one episode.\n",
    "    This function does most of the real work'''\n",
    "    ## For each episode we use a list to keep track of states we have visited.\n",
    "    ## Once we visit a state we need to accumulate values to get the returns\n",
    "    state_actions_visited = np.zeros((n_states, n_actions))\n",
    "    x_current = 0.0\n",
    "    y_current = 0.0\n",
    "    current_state = get_grid_state(x_current, y_current)\n",
    "    terminal = False  \n",
    "    while(not terminal):\n",
    "        ## Find the next action and reward\n",
    "        #action, s_prime, reward, terminal = take_action(current_state, policy)\n",
    "        action, x_prime, y_prime, terminal, reward = take_action(x_current, y_current, policy)\n",
    "        action_idx = get_action_index(action)         \n",
    "        \n",
    "        ## Check if this state-action has been visited.\n",
    "        if(state_actions_visited[current_state, action_idx] != 1.0):\n",
    "            ## Mark that the current state-action has been visited \n",
    "            state_actions_visited[current_state, action_idx] = 1.0  \n",
    "            ## This is first vist MS, so must loop over all state-action pairs and \n",
    "            ## add the reward and increment the count for the ones visited.\n",
    "            for s,a in list(itertools.product(range(n_states), range(n_actions))):\n",
    "                ## Add reward to if these has been a visit to the state\n",
    "                if(state_actions_visited[s,a] == 1.0):\n",
    "                    n_visits[s,a] = n_visits[s,a] + 1.0\n",
    "                    Q[s,a] = Q[s,a] + (reward - Q[s,a])/n_visits[s,a]    \n",
    "        ## Update the current state for next transition\n",
    "        current_state = get_grid_state(x_prime, y_prime)\n",
    "        x_current = x_prime\n",
    "        y_current = y_prime\n",
    "    return (Q, n_visits) "
   ]
  },
  {
   "cell_type": "markdown",
   "metadata": {},
   "source": [
    "The ``MC_action_values`` method performs the specified number of monte carlo episodes and returns accrued grid with the state-action values over all the episodes."
   ]
  },
  {
   "cell_type": "code",
   "execution_count": 15,
   "metadata": {},
   "outputs": [],
   "source": [
    "def MC_action_values(policy, Q, n_episodes, inital_state):\n",
    "    '''Function evaluates the action-values given a policy for the specified number of episodes and \n",
    "    initial state'''\n",
    "    n_states = 100\n",
    "    n_actions = 8\n",
    "    ## Array to count visits to action-value pairs\n",
    "    n_visits = np.zeros((n_states, n_actions))\n",
    "    ## Dictionary to hold neighbor states\n",
    "    neighbors = {}\n",
    "    \n",
    "    ## Loop over number of episodes\n",
    "    for i in range(n_episodes):\n",
    "        ## One episode of MC\n",
    "        Q, n_visits = MC_action_value_episode(policy, Q, n_visits, initial_state, n_states, n_actions)\n",
    "    return(Q)"
   ]
  },
  {
   "cell_type": "markdown",
   "metadata": {},
   "source": [
    "The below codes runs the above function for passing in one thousand episodes and prints the resulting action-values matrix."
   ]
  },
  {
   "cell_type": "code",
   "execution_count": 12,
   "metadata": {},
   "outputs": [
    {
     "name": "stdout",
     "output_type": "stream",
     "text": [
      "           N         S         E        NE        SE         W        NW  \\\n",
      "0  -2.637509 -2.594931 -2.660623 -2.624123 -2.610197 -2.600197 -2.603324   \n",
      "1   0.000000  0.000000  0.000000  0.000000  0.000000  0.000000  0.000000   \n",
      "2   0.000000  0.000000  0.000000  0.000000  0.000000  0.000000  0.000000   \n",
      "3   0.000000  0.000000  0.000000  0.000000  0.000000  0.000000  0.000000   \n",
      "4   0.000000  0.000000  0.000000  0.000000  0.000000  0.000000  0.000000   \n",
      "..       ...       ...       ...       ...       ...       ...       ...   \n",
      "95 -1.490559 -1.576734 -1.543290 -1.472750 -1.578667 -1.587305 -1.503414   \n",
      "96 -1.479222 -1.491361 -1.460528 -1.391486 -1.510817 -1.567698 -1.483204   \n",
      "97 -1.279637 -1.373357 -1.423235 -1.354451 -1.325305 -1.452735 -1.314287   \n",
      "98 -1.253726 -1.300131 -1.235168 -1.248668 -1.333533 -1.305973 -1.201886   \n",
      "99 -1.105422 -1.181831 -1.141347 -1.149575 -1.082613 -1.184543 -1.171239   \n",
      "\n",
      "          SW  \n",
      "0  -2.587411  \n",
      "1   0.000000  \n",
      "2   0.000000  \n",
      "3   0.000000  \n",
      "4   0.000000  \n",
      "..       ...  \n",
      "95 -1.583125  \n",
      "96 -1.550995  \n",
      "97 -1.409763  \n",
      "98 -1.376128  \n",
      "99 -1.227852  \n",
      "\n",
      "[100 rows x 8 columns]\n"
     ]
    }
   ],
   "source": [
    "n_episodes = 1000\n",
    "initial_state = 0\n",
    "Q = np.zeros((100, 8))\n",
    "Q = MC_action_values(initial_policy, Q, n_episodes, initial_state)\n",
    "print_Q(Q)"
   ]
  },
  {
   "cell_type": "markdown",
   "metadata": {},
   "source": [
    "The ``update_policy`` function computes a new policy using the state-action values and an $\\epsilon$, which represents the probability of random exploration. The algorithm below assigns the max actions the probability (1 - $\\epsilon$(# non-max actions))/(# max actions). To all the non-maximal actions, this algorithm simply assigns the $\\epsilon$ as the probability."
   ]
  },
  {
   "cell_type": "code",
   "execution_count": 20,
   "metadata": {},
   "outputs": [
    {
     "data": {
      "text/plain": [
       "[[[0.01, 0.01, 0.01, 0.01, 0.01, 0.01, 0.01, 0.9299999999999999],\n",
       "  [0.01, 0.01, 0.01, 0.01, 0.01, 0.01, 0.9299999999999999, 0.01],\n",
       "  [0.01, 0.01, 0.01, 0.01, 0.01, 0.01, 0.01, 0.9299999999999999],\n",
       "  [0.01, 0.01, 0.01, 0.01, 0.01, 0.9299999999999999, 0.01, 0.01],\n",
       "  [0.01, 0.01, 0.01, 0.01, 0.01, 0.01, 0.01, 0.9299999999999999],\n",
       "  [0.01, 0.01, 0.01, 0.01, 0.01, 0.01, 0.01, 0.9299999999999999],\n",
       "  [0.01, 0.01, 0.01, 0.9299999999999999, 0.01, 0.01, 0.01, 0.01],\n",
       "  [0.01, 0.01, 0.01, 0.01, 0.01, 0.9299999999999999, 0.01, 0.01],\n",
       "  [0.01, 0.01, 0.01, 0.01, 0.01, 0.01, 0.01, 0.9299999999999999],\n",
       "  [0.9299999999999999, 0.01, 0.01, 0.01, 0.01, 0.01, 0.01, 0.01]],\n",
       " [[0.125, 0.125, 0.125, 0.125, 0.125, 0.125, 0.125, 0.125],\n",
       "  [0.01, 0.01, 0.01, 0.01, 0.01, 0.01, 0.01, 0.9299999999999999],\n",
       "  [0.9299999999999999, 0.01, 0.01, 0.01, 0.01, 0.01, 0.01, 0.01],\n",
       "  [0.01, 0.01, 0.01, 0.9299999999999999, 0.01, 0.01, 0.01, 0.01],\n",
       "  [0.01, 0.01, 0.01, 0.01, 0.01, 0.9299999999999999, 0.01, 0.01],\n",
       "  [0.01, 0.01, 0.01, 0.9299999999999999, 0.01, 0.01, 0.01, 0.01],\n",
       "  [0.01, 0.01, 0.9299999999999999, 0.01, 0.01, 0.01, 0.01, 0.01],\n",
       "  [0.9299999999999999, 0.01, 0.01, 0.01, 0.01, 0.01, 0.01, 0.01],\n",
       "  [0.01, 0.01, 0.01, 0.01, 0.01, 0.01, 0.9299999999999999, 0.01],\n",
       "  [0.9299999999999999, 0.01, 0.01, 0.01, 0.01, 0.01, 0.01, 0.01]],\n",
       " [[0.125, 0.125, 0.125, 0.125, 0.125, 0.125, 0.125, 0.125],\n",
       "  [0.01, 0.01, 0.01, 0.01, 0.01, 0.01, 0.9299999999999999, 0.01],\n",
       "  [0.9299999999999999, 0.01, 0.01, 0.01, 0.01, 0.01, 0.01, 0.01],\n",
       "  [0.01, 0.01, 0.01, 0.01, 0.01, 0.01, 0.9299999999999999, 0.01],\n",
       "  [0.01, 0.01, 0.9299999999999999, 0.01, 0.01, 0.01, 0.01, 0.01],\n",
       "  [0.01, 0.01, 0.01, 0.01, 0.01, 0.01, 0.9299999999999999, 0.01],\n",
       "  [0.01, 0.01, 0.01, 0.01, 0.01, 0.9299999999999999, 0.01, 0.01],\n",
       "  [0.01, 0.01, 0.01, 0.01, 0.01, 0.01, 0.01, 0.9299999999999999],\n",
       "  [0.01, 0.01, 0.01, 0.01, 0.01, 0.01, 0.01, 0.9299999999999999],\n",
       "  [0.9299999999999999, 0.01, 0.01, 0.01, 0.01, 0.01, 0.01, 0.01]],\n",
       " [[0.125, 0.125, 0.125, 0.125, 0.125, 0.125, 0.125, 0.125],\n",
       "  [0.01, 0.01, 0.01, 0.01, 0.01, 0.01, 0.9299999999999999, 0.01],\n",
       "  [0.01, 0.01, 0.01, 0.9299999999999999, 0.01, 0.01, 0.01, 0.01],\n",
       "  [0.9299999999999999, 0.01, 0.01, 0.01, 0.01, 0.01, 0.01, 0.01],\n",
       "  [0.01, 0.01, 0.01, 0.01, 0.01, 0.01, 0.9299999999999999, 0.01],\n",
       "  [0.9299999999999999, 0.01, 0.01, 0.01, 0.01, 0.01, 0.01, 0.01],\n",
       "  [0.01, 0.01, 0.01, 0.01, 0.01, 0.01, 0.9299999999999999, 0.01],\n",
       "  [0.01, 0.01, 0.01, 0.01, 0.01, 0.01, 0.9299999999999999, 0.01],\n",
       "  [0.01, 0.01, 0.01, 0.01, 0.01, 0.01, 0.01, 0.9299999999999999],\n",
       "  [0.01, 0.01, 0.01, 0.01, 0.01, 0.01, 0.9299999999999999, 0.01]],\n",
       " [[0.125, 0.125, 0.125, 0.125, 0.125, 0.125, 0.125, 0.125],\n",
       "  [0.9299999999999999, 0.01, 0.01, 0.01, 0.01, 0.01, 0.01, 0.01],\n",
       "  [0.9299999999999999, 0.01, 0.01, 0.01, 0.01, 0.01, 0.01, 0.01],\n",
       "  [0.01, 0.01, 0.9299999999999999, 0.01, 0.01, 0.01, 0.01, 0.01],\n",
       "  [0.01, 0.01, 0.01, 0.01, 0.9299999999999999, 0.01, 0.01, 0.01],\n",
       "  [0.01, 0.01, 0.9299999999999999, 0.01, 0.01, 0.01, 0.01, 0.01],\n",
       "  [0.01, 0.01, 0.01, 0.9299999999999999, 0.01, 0.01, 0.01, 0.01],\n",
       "  [0.01, 0.01, 0.01, 0.01, 0.9299999999999999, 0.01, 0.01, 0.01],\n",
       "  [0.01, 0.01, 0.01, 0.01, 0.01, 0.01, 0.01, 0.9299999999999999],\n",
       "  [0.01, 0.01, 0.01, 0.01, 0.01, 0.9299999999999999, 0.01, 0.01]],\n",
       " [[0.125, 0.125, 0.125, 0.125, 0.125, 0.125, 0.125, 0.125],\n",
       "  [0.01, 0.01, 0.9299999999999999, 0.01, 0.01, 0.01, 0.01, 0.01],\n",
       "  [0.01, 0.01, 0.9299999999999999, 0.01, 0.01, 0.01, 0.01, 0.01],\n",
       "  [0.9299999999999999, 0.01, 0.01, 0.01, 0.01, 0.01, 0.01, 0.01],\n",
       "  [0.9299999999999999, 0.01, 0.01, 0.01, 0.01, 0.01, 0.01, 0.01],\n",
       "  [0.01, 0.01, 0.9299999999999999, 0.01, 0.01, 0.01, 0.01, 0.01],\n",
       "  [0.01, 0.01, 0.01, 0.9299999999999999, 0.01, 0.01, 0.01, 0.01],\n",
       "  [0.01, 0.9299999999999999, 0.01, 0.01, 0.01, 0.01, 0.01, 0.01],\n",
       "  [0.9299999999999999, 0.01, 0.01, 0.01, 0.01, 0.01, 0.01, 0.01],\n",
       "  [0.01, 0.01, 0.01, 0.9299999999999999, 0.01, 0.01, 0.01, 0.01]],\n",
       " [[0.125, 0.125, 0.125, 0.125, 0.125, 0.125, 0.125, 0.125],\n",
       "  [0.01, 0.01, 0.01, 0.01, 0.01, 0.01, 0.9299999999999999, 0.01],\n",
       "  [0.01, 0.01, 0.01, 0.9299999999999999, 0.01, 0.01, 0.01, 0.01],\n",
       "  [0.01, 0.01, 0.9299999999999999, 0.01, 0.01, 0.01, 0.01, 0.01],\n",
       "  [0.01, 0.01, 0.01, 0.9299999999999999, 0.01, 0.01, 0.01, 0.01],\n",
       "  [0.01, 0.01, 0.01, 0.9299999999999999, 0.01, 0.01, 0.01, 0.01],\n",
       "  [0.01, 0.01, 0.01, 0.01, 0.01, 0.01, 0.9299999999999999, 0.01],\n",
       "  [0.01, 0.01, 0.9299999999999999, 0.01, 0.01, 0.01, 0.01, 0.01],\n",
       "  [0.01, 0.01, 0.01, 0.01, 0.01, 0.01, 0.9299999999999999, 0.01],\n",
       "  [0.01, 0.01, 0.01, 0.9299999999999999, 0.01, 0.01, 0.01, 0.01]],\n",
       " [[0.125, 0.125, 0.125, 0.125, 0.125, 0.125, 0.125, 0.125],\n",
       "  [0.01, 0.01, 0.01, 0.9299999999999999, 0.01, 0.01, 0.01, 0.01],\n",
       "  [0.01, 0.01, 0.9299999999999999, 0.01, 0.01, 0.01, 0.01, 0.01],\n",
       "  [0.01, 0.01, 0.01, 0.9299999999999999, 0.01, 0.01, 0.01, 0.01],\n",
       "  [0.01, 0.01, 0.9299999999999999, 0.01, 0.01, 0.01, 0.01, 0.01],\n",
       "  [0.01, 0.01, 0.9299999999999999, 0.01, 0.01, 0.01, 0.01, 0.01],\n",
       "  [0.01, 0.01, 0.01, 0.01, 0.9299999999999999, 0.01, 0.01, 0.01],\n",
       "  [0.01, 0.01, 0.01, 0.9299999999999999, 0.01, 0.01, 0.01, 0.01],\n",
       "  [0.01, 0.01, 0.01, 0.9299999999999999, 0.01, 0.01, 0.01, 0.01],\n",
       "  [0.9299999999999999, 0.01, 0.01, 0.01, 0.01, 0.01, 0.01, 0.01]],\n",
       " [[0.125, 0.125, 0.125, 0.125, 0.125, 0.125, 0.125, 0.125],\n",
       "  [0.01, 0.01, 0.9299999999999999, 0.01, 0.01, 0.01, 0.01, 0.01],\n",
       "  [0.01, 0.01, 0.9299999999999999, 0.01, 0.01, 0.01, 0.01, 0.01],\n",
       "  [0.01, 0.01, 0.9299999999999999, 0.01, 0.01, 0.01, 0.01, 0.01],\n",
       "  [0.01, 0.01, 0.01, 0.01, 0.9299999999999999, 0.01, 0.01, 0.01],\n",
       "  [0.01, 0.01, 0.01, 0.01, 0.01, 0.01, 0.9299999999999999, 0.01],\n",
       "  [0.01, 0.01, 0.01, 0.9299999999999999, 0.01, 0.01, 0.01, 0.01],\n",
       "  [0.01, 0.01, 0.01, 0.01, 0.9299999999999999, 0.01, 0.01, 0.01],\n",
       "  [0.01, 0.01, 0.01, 0.9299999999999999, 0.01, 0.01, 0.01, 0.01],\n",
       "  [0.01, 0.01, 0.01, 0.01, 0.01, 0.01, 0.9299999999999999, 0.01]],\n",
       " [[0.01, 0.47, 0.47, 0.01, 0.01, 0.01, 0.01, 0.01],\n",
       "  [0.01, 0.01, 0.01, 0.01, 0.9299999999999999, 0.01, 0.01, 0.01],\n",
       "  [0.01, 0.9299999999999999, 0.01, 0.01, 0.01, 0.01, 0.01, 0.01],\n",
       "  [0.01, 0.9299999999999999, 0.01, 0.01, 0.01, 0.01, 0.01, 0.01],\n",
       "  [0.01, 0.9299999999999999, 0.01, 0.01, 0.01, 0.01, 0.01, 0.01],\n",
       "  [0.01, 0.01, 0.9299999999999999, 0.01, 0.01, 0.01, 0.01, 0.01],\n",
       "  [0.01, 0.01, 0.01, 0.9299999999999999, 0.01, 0.01, 0.01, 0.01],\n",
       "  [0.01, 0.01, 0.01, 0.01, 0.01, 0.01, 0.01, 0.9299999999999999],\n",
       "  [0.01, 0.01, 0.01, 0.9299999999999999, 0.01, 0.01, 0.01, 0.01],\n",
       "  [0.01, 0.01, 0.01, 0.01, 0.9299999999999999, 0.01, 0.01, 0.01]]]"
      ]
     },
     "execution_count": 20,
     "metadata": {},
     "output_type": "execute_result"
    }
   ],
   "source": [
    "from copy import deepcopy\n",
    "def update_policy(policy, Q, epsilon):\n",
    "    '''Updates the policy based on estiamtes of Q using \n",
    "    an epslion greedy algorithm. The action with the highest\n",
    "    action value is used.'''\n",
    "    \n",
    "    ## Find the keys for the actions in the policy\n",
    "    keys = actions\n",
    "    \n",
    "    ## Iterate over the states and find the maximm action value.\n",
    "    for state in range(100):\n",
    "        ## First find the index of the max Q values  \n",
    "        q = Q[state,:]\n",
    "        max_action_index = np.where(q == max(q))[0]\n",
    "\n",
    "        ## Find the probabilities for the transitions\n",
    "        n_transitions = float(len(q))\n",
    "        n_max_transitions = float(len(max_action_index))\n",
    "        p_max_transitions = (1.0 - epsilon *(n_transitions - n_max_transitions))/(n_max_transitions)\n",
    "        x_idx = state % 10\n",
    "        y_idx = state // 10\n",
    "        ## Now assign the probabilities to the policy as epsilon greedy.\n",
    "        for key in keys:\n",
    "            index = get_action_index(key)\n",
    "            #print (\"x: \" + str(x_idx) + \", y: \" + str(y_idx) + \", index: \" + str(index))\n",
    "            if(index in max_action_index): policy[x_idx][y_idx][index] = p_max_transitions\n",
    "            else: policy[x_idx][y_idx][index] = epsilon\n",
    "    return(policy)                \n",
    "new_policy = deepcopy(initial_policy)\n",
    "update_policy(new_policy, Q, 0.01)   "
   ]
  },
  {
   "cell_type": "markdown",
   "metadata": {},
   "source": [
    "The below two function plot the passed in policy."
   ]
  },
  {
   "cell_type": "code",
   "execution_count": 21,
   "metadata": {},
   "outputs": [
    {
     "data": {
      "image/png": "[encoded data removed]",
      "text/plain": [
       "<Figure size 576x576 with 1 Axes>"
      ]
     },
     "metadata": {
      "needs_background": "light"
     },
     "output_type": "display_data"
    }
   ],
   "source": [
    "import numpy as np\n",
    "import matplotlib.pyplot as plt\n",
    "from itertools import product\n",
    "%matplotlib inline  \n",
    "    \n",
    "def arrow_xy(action, prob):\n",
    "    ## Position change given action:\n",
    "    if(action == 0): # move right\n",
    "        a_out = [0, 1]\n",
    "    elif(action == 1): # move right-up\n",
    "        a_out = [0, -1]\n",
    "    elif(action == 2): # move up\n",
    "        a_out = [1, 0]\n",
    "    elif(action == 3): # move left-up\n",
    "        a_out = [1, 1]\n",
    "    elif(action == 4): # move left\n",
    "        a_out = [1, -1]\n",
    "    elif(action == 5): # move left-down\n",
    "        a_out = [-1, 0]\n",
    "    elif(action == 6): # move down\n",
    "        a_out = [-1, 1]\n",
    "    elif(action == 7): # move right-down\n",
    "        a_out = [-1, -1]\n",
    "    return [prob*z for z in a_out]\n",
    "\n",
    "def display_policy(policy, num_cells = 10, lims = 10.0):\n",
    "    '''\n",
    "    Function plots arrows in the direction of actions with length \n",
    "    of arrows proportional to probability\n",
    "\n",
    "    Policy argument must be a numpy array with dimensions:\n",
    "    grid x-dimension cell index\n",
    "    grid y-dimension cell index\n",
    "    acton index\n",
    "    '''\n",
    "    ## Find max arrow length \n",
    "    cell_width = lims/float(num_cells)\n",
    "    arrow_length = 0.5 * cell_width\n",
    "\n",
    "    ## Set up the figure area\n",
    "    fig = plt.figure(figsize=(8, 8)) # define plot area\n",
    "    ax = fig.gca() # define axis \n",
    "\n",
    "    ## Iterate over the grid and plot\n",
    "    for x_indx, y_indx, action in product(range(num_cells),range(num_cells),range(8)):\n",
    "        ## Find endpoints of the line segment\n",
    "        move = arrow_xy(action, policy[x_indx][y_indx][action])\n",
    "        x0 = x_indx * cell_width + arrow_length\n",
    "        x1 = x0 + move[0]\n",
    "        y0 = y_indx * cell_width + arrow_length\n",
    "        y1 = y0 + move[1]\n",
    "        ## now plot \n",
    "        # ax.plot([x0,x1],[y0,y1])\n",
    "        ax.annotate(' ', xytext =(x0,y0), xy = (x1,y1), arrowprops = ({'arrowstyle':'->'}))\n",
    "\n",
    "    ## Now plot the grid\n",
    "    ## first the vertical lines\n",
    "    for indx in range(num_cells-1):\n",
    "        x = cell_width *(indx+1)\n",
    "        ax.plot([x,x],[0.0,lims], linestyle='dashed', color='green')\n",
    "    ## now the horrizontal lines\n",
    "    for indx in range(num_cells-1):\n",
    "        y = cell_width *(indx+1)\n",
    "        ax.plot([0.0,lims],[y,y], linestyle='dashed', color='green') \n",
    "    ## and boundaries\n",
    "    ax.plot([0.0,0.0], [0.0,lims], color = 'black')\n",
    "    ax.plot([0.0,lims], [0.0,0.0], color = 'black')\n",
    "    ax.plot([lims,0.0], [lims,lims], color = 'black')\n",
    "    ax.plot([lims,lims], [0.0,lims], color = 'black')\n",
    "    \n",
    "display_policy(np.array(new_policy))"
   ]
  },
  {
   "cell_type": "markdown",
   "metadata": {},
   "source": [
    "The below code recomputes the new state values based on the action-values computed above."
   ]
  },
  {
   "cell_type": "code",
   "execution_count": 23,
   "metadata": {},
   "outputs": [],
   "source": [
    "value_grid = MC_state_values(new_policy, 1).reshape((10,10))\n"
   ]
  },
  {
   "cell_type": "markdown",
   "metadata": {},
   "source": [
    "The below code generates a plot which shows the updated state values as color coded values. The darker values define lower state values whereas lighter colors show areas with higher values."
   ]
  },
  {
   "cell_type": "code",
   "execution_count": 25,
   "metadata": {},
   "outputs": [
    {
     "data": {
      "text/plain": [
       "array([[  12.109375  ,    0.        ,    0.        ,    0.        ,\n",
       "           0.        ,    0.        ,    0.        ,    0.        ,\n",
       "           0.        ,    0.        ],\n",
       "       [  12.31746032,   89.18181818,    0.        ,    0.        ,\n",
       "           0.        ,    0.        ,    0.        ,    0.        ,\n",
       "           0.        , 1000.        ],\n",
       "       [  12.67741935,   13.04918033,    0.        ,    0.        ,\n",
       "           0.        ,    0.        ,    0.        ,    0.        ,\n",
       "           0.        ,  499.5       ],\n",
       "       [  26.32352941,   13.28333333,   27.42424242,    0.        ,\n",
       "           0.        ,    0.        ,    0.        ,    0.        ,\n",
       "           0.        ,  332.66666667],\n",
       "       [  24.55555556,   25.54285714,   13.52542373,   13.77586207,\n",
       "           0.        ,    0.        ,    0.        ,    0.        ,\n",
       "         199.2       ,  249.25      ],\n",
       "       [  23.62162162,   19.5       ,   14.03508772,   22.97368421,\n",
       "           0.        ,    0.        ,    0.        ,  124.125     ,\n",
       "          44.52380952,   38.45833333],\n",
       "       [  19.04444444,   14.30357143,   14.58181818,   14.87037037,\n",
       "          28.3125    ,   30.26666667,   31.34482759,  142.        ,\n",
       "          40.56521739,   36.52      ],\n",
       "       [  18.41304348,   15.16981132,   20.47619048,   19.97674419,\n",
       "          98.2       ,   29.25806452,   32.5       ,   33.74074074,\n",
       "          35.07692308,   42.45454545],\n",
       "       [  16.32      ,   15.48076923,   18.        ,   21.        ,\n",
       "          81.66666667,   69.85714286,   75.30769231,  165.83333333,\n",
       "          46.8       ,  109.22222222],\n",
       "       [  15.80392157,   16.85714286,   17.41666667,   21.55      ,\n",
       "          22.12820513,   64.53333333,   59.875     ,   55.76470588,\n",
       "          52.61111111,   49.31578947]])"
      ]
     },
     "execution_count": 25,
     "metadata": {},
     "output_type": "execute_result"
    }
   ],
   "source": [
    "value_grid"
   ]
  },
  {
   "cell_type": "code",
   "execution_count": 24,
   "metadata": {},
   "outputs": [
    {
     "data": {
      "image/png": "[encoded data removed]",
      "text/plain": [
       "<Figure size 432x288 with 1 Axes>"
      ]
     },
     "metadata": {
      "needs_background": "light"
     },
     "output_type": "display_data"
    },
    {
     "data": {
      "text/plain": [
       "1271.3216554807525"
      ]
     },
     "execution_count": 24,
     "metadata": {},
     "output_type": "execute_result"
    }
   ],
   "source": [
    "value_grid1 = np.flip(value_grid)\n",
    "plt.imshow(value_grid1)\n",
    "plt.show()\n",
    "\n",
    "LA.norm(value_grid1)"
   ]
  }
 ],
 "metadata": {
  "kernelspec": {
   "display_name": "Python 3",
   "language": "python",
   "name": "python3"
  },
  "language_info": {
   "codemirror_mode": {
    "name": "ipython",
    "version": 3
   },
   "file_extension": ".py",
   "mimetype": "text/x-python",
   "name": "python",
   "nbconvert_exporter": "python",
   "pygments_lexer": "ipython3",
   "version": "3.7.4"
  }
 },
 "nbformat": 4,
 "nbformat_minor": 2
}
