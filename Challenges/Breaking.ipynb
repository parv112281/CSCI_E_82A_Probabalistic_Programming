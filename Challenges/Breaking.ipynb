{
 "cells": [
  {
   "cell_type": "markdown",
   "metadata": {},
   "source": [
    "# Challenge Assignment\n",
    "## Autonomous Vehicle Breaking\n",
    "\n",
    "## CSCI E-82A\n",
    "\n",
    ">**Make sure** you include your name along with the name of your team and team members in the notebook you submit."
   ]
  },
  {
   "cell_type": "markdown",
   "metadata": {},
   "source": [
    "**Your name and team name here:** "
   ]
  },
  {
   "cell_type": "markdown",
   "metadata": {},
   "source": [
    "## Introduction\n",
    "\n",
    "As is typically the case with robots, autonomous vehicles use multiple sensors. Agent actions rely on integrating the precepts of these sensors. A number of methods are used to integrate uncertain information from sensors. Directed graphical models are a powerful and flexible approach to sensor integration. \n",
    "\n",
    "Another difficulty for autonomous vehicles, and many other robotics problems, is uncertainty about the environment. In the case of autonomous vehicles the uncertainty can include road conditions, visibility conditions, and the actions of human drivers and pedestrians.    \n",
    "\n",
    "Directed graphical models provide a powerful representation for reasoning with uncertain sensor data and uncertainty in the environment. In this challenge you will perform learning and inference on a directed graphical model of braking for an autonomous vehicle. The goal of the agent is to control the braking of the autonomous vehicle to avoid collisions.\n",
    "\n",
    "The control of an actual autonomous vehicle is extremely complicated. Autonomous vehicles use many task-specific sensors. Further, any useful model has a large number of variables, many with complex continuous distribution models (e.g. mixture models). For this challenge, the number of senors and variables has been limited. Further, all distributions have simple Binomial posterior distributions.\n",
    "\n",
    "A practical autonomous vehicle would have a very low probability of collision with an object in its path; e.g. $p(collision) < 10^{-7}$. Since such small probability values are hard to work with, for this challenge, the probabilities of sensor errors and collisions are unrealistically high. "
   ]
  },
  {
   "cell_type": "markdown",
   "metadata": {},
   "source": [
    "### Description of Problem\n",
    "\n",
    "A Directed Acyclic Graph (DAG) of the autonomous vehicle breaking decision model is show below. There are 11 variable, two utility function and one decision node.  "
   ]
  },
  {
   "cell_type": "markdown",
   "metadata": {},
   "source": [
    "<img src=\"BrakingDAG.JPG\" alt=\"Drawing\" style=\"width:600px; height:400px\"/>\n",
    "<center> DAG for autonomous vehicle breaking control problem </center>"
   ]
  },
  {
   "cell_type": "markdown",
   "metadata": {},
   "source": [
    "#### Variables  \n",
    "\n",
    "The variables for the joint probability distribution are:\n",
    "\n",
    "1. **Road Condition** is the condition of the road surface; 0 = good, 1 = slippery, eg. wet or icy.\n",
    "2. **Weather Visibility** is the optical (visual) visibility for the visual sensor; 0 = good, 1 = poor, eg. rain of fog. \n",
    "3. **Light Dark** is the lighting conditions for the road ahead; 0 = good, 1 = poor or dark.\n",
    "4. **Object** indicates an object in the vehicle's path; 0 = no object, 1 = object in path. \n",
    "5. **Road Condition Detection** is the conditional probability of the reading (precept) from a sensor that determines road condition, given the Road Condition variable; 0 = good, 1 = slippery, eg. wet or icy.\n",
    "6. **Weather Detection** is the conditional probability of the reading (precept) from a sensor that determines weather visibility, given the Weather Visibility Variable; 0 = good, 1 = poor, eg. rain of fog.\n",
    "7. **Visual Sensor Detection** is the conditional probability that the visual sensors see an object in the vehicle's path, or sense a non-existent object (false positive), give the Weather Visibility, Light Dark and Object variables; 0 = no object, 1 = object in path. \n",
    "8. **LIDAR Sensor Detection** is the conditional probability that the LIDAR sensor see an object in the vehicle's path, or sense a non-existent object (false positive), give the Object variable; 0 = no object, 1 = object in path. LIDAR uses infrared lasers for imaging and ranging. LIDAR is much less affected by rain and fog, but has lower resolution, when compared to a visual (optical) sensor. \n",
    "9. **Sensor Detection** is the integrated posterior distribution of an object being in the vehicle's path, or sensing a non-existent object (false positive), given the precepts of the Weather Detection, Dark Light, Visual Sensor Detection and LIDAR Sensor Detection variables; ; 0 = no object, 1 = object in path.\n",
    "10. **Early Breaking** is the conditional probability that the autonomous vehicle should apply breaks early to avoid a collision given the Road Condition Detection and Sensor Detection variables; 0 = normal breaking, 1 = apply early breaking. Early breaking should reduce the chances of collision but incurs a cost in terms of delay of the vehicle and other traffic. \n",
    "11. **Collision** is the conditional probability of the vehicle colliding with an object given the Object, Road Condition Detection and Sensor Detection variables; 0 = no collision, 1 = collision. "
   ]
  },
  {
   "cell_type": "markdown",
   "metadata": {},
   "source": [
    "#### Utility Functions\n",
    "\n",
    "The utility functions for this problem are:   \n",
    "\n",
    "- Utility of applying breaking early:\n",
    "\n",
    "|  | No Early Breaking | Early Breaking |\n",
    "|----|----|----|\n",
    "|Utility | 0 | -1 |\n",
    "\n",
    "\n",
    "- Utility of collision: \n",
    "\n",
    "|  | No Collision | Collision |\n",
    "|----|----|----|\n",
    "|Utility | 0 | -1000 |\n",
    "\n",
    "Total utility for this problem is the sum of Early Breaking utility and Collision utility. "
   ]
  },
  {
   "cell_type": "markdown",
   "metadata": {},
   "source": [
    "#### Decision Node\n",
    "\n",
    "There is one decision node in this problem, Early Breaking. This decision node is implemented as evidence for the Early Breaking variable; 0 = normal breaking, 1 = early breaking. "
   ]
  },
  {
   "cell_type": "markdown",
   "metadata": {},
   "source": [
    "## Instructions\n",
    "\n",
    "In this challenge you and your team will do the following:   \n",
    "\n",
    "### 1. Load Dataset     \n",
    "Load the required packages and the csv file of 5,000 cases into a Pandas data frame.   \n",
    "\n",
    "> **Hint:** Carefully examine the variable names. You will need to make sure that you use these names to construct your model. "
   ]
  },
  {
   "cell_type": "markdown",
   "metadata": {},
   "source": [
    "### 2. Define the Graphical Model     \n",
    "\n",
    "Using the tools in pgmpy define the BayesianModel class object for this problem. "
   ]
  },
  {
   "cell_type": "markdown",
   "metadata": {},
   "source": [
    "### 3. Factorization of Distribution\n",
    "\n",
    "Using Markdown write out the joint distribution and the factorization defined in the graphical model. You may use some abbreviations for the long variable names.  \n",
    "\n",
    "How many states are there in the joint distribution of 11 Binomially distributed variables. \n",
    "\n",
    "How many states are in the factorized distribution?"
   ]
  },
  {
   "cell_type": "markdown",
   "metadata": {},
   "source": [
    "**ANS**: \n",
    "\n",
    "**ANS**:\n",
    "\n",
    "**ANS**: "
   ]
  },
  {
   "cell_type": "markdown",
   "metadata": {},
   "source": [
    "### 4. Verify Independencies\n",
    "\n",
    "With the skeleton of your DAG defined, you can verify the indepenencies. To simplify this problem use the pgmpy local_independencies method. Recall that the local independencies are independencies within the Markov blanket of each variable. \n",
    "\n",
    "Are the independencies you find consistent with your factorization of the distribution and why?"
   ]
  },
  {
   "cell_type": "markdown",
   "metadata": {},
   "source": [
    "**ANS**:"
   ]
  },
  {
   "cell_type": "markdown",
   "metadata": {},
   "source": [
    "### 5. Maximum Likelihood Estimation of Model Parameters\n",
    "\n",
    "Next, use pgmy to perform maximum likelihood estimation of the model parameters using the dataset provided.  \n",
    "\n",
    "Print the CPDs and carefully examine the results. Notice that some of the probabilities for the Collision variable are either 0.0 or 1.0. Is this reasonable and why?"
   ]
  },
  {
   "cell_type": "markdown",
   "metadata": {},
   "source": [
    "**ANS**:"
   ]
  },
  {
   "cell_type": "markdown",
   "metadata": {},
   "source": [
    "### 6. Queries\n",
    "\n",
    "With parameters fit, you are ready to perform queries on your model. Using the pgmpy VariableElimination function, perform the queries specified in the table below, computing the total utility, examine the results, and answer the questions. \n",
    "\n",
    "| Query | Query Variables | Evidence |\n",
    "|:----|:----|:----|\n",
    "|1 | Collision, Early_Breaking | Road_Condition = 0 |\n",
    "|2 | Collision, Early_Breaking | Road_Condition = 1 |\n",
    "|3 | Collision, Early_Breaking | Light_Dark = 0, Weather_Visibility = 0 |\n",
    "|4 | Collision, Early_Breaking | Light_Dark = 1, Weather_Visibility = 1  |\n",
    "|5 | Collision | Early_Breaking = 0, Object = 1, Road_Condition = 1 |\n",
    "|6 | Collision | Early_Breaking = 1, Object = 1, Road_Condition = 1 |\n",
    "|7 | Collision | Early_Breaking = 0, Object = 1, Light_Dark = 1, Weather_Visibility = 1 |\n",
    "|8 | Collision | Early_Breaking = 1, Object = 1, Light_Dark = 1, Weather_Visibility = 1 |\n",
    "\n",
    "**Q 1:** Compare the probability of Collision, Early Breaking and total utility for the different values of evidence specified in queries 1 and 2. Are these values consistent with what you expect and why? \n",
    "\n",
    "**Q 2:** Compare the probability of Collision, Early Breaking and total utility for the different values of the evidence variables specified in queries 3 and 4. Are these values significantly different? Given how the sensor data is integrated, do these differences seem reasonable?\n",
    "\n",
    "**Q 3:** Compare the probability of Collision and total utility for the different values of the evidence variables specified in queries 5 and 6. Are these values consistent with what you expect and why? \n",
    "\n",
    "**Q 4** Compare the probability of Collision and total utility for the different values of the evidence variables specified in queries 7 and 8. Are these values consistent with what you expect and why? \n",
    "\n",
    "> **Note:** You cannot perform a query on an evidence variable. When Early_Breaking is evidence, make sure it is not a query variable. "
   ]
  },
  {
   "cell_type": "markdown",
   "metadata": {},
   "source": [
    "**ANS 1**:\n",
    "\n",
    "**ANS 2**:\n",
    "\n",
    "**ANS 3**:\n",
    "\n",
    "**ANS 4**:"
   ]
  },
  {
   "cell_type": "markdown",
   "metadata": {},
   "source": [
    "### 7. Bayesian Estimation of Model Parameters\n",
    "\n",
    "Next, use pgmy to perform Bayesian estimation of the model parameters using the dataset provided. The pseudo counts for the prior are given in a cell below.  \n",
    "\n",
    "**Q 1:** The prior is generally weak, with the exception of one variable. Which variable has a strong prior and do you think using this strong prior is reasonable in the interest of improving safety and why? \n",
    "\n",
    "**Q 2:** Print the CPDs and carefully examine the results. Pay particular attention to the Early_Breaking variable, comparing the values to the values obtained with maximum likelihood estimation. Is this difference reasonable given the prior and why?\n",
    "\n",
    "**Q 3:** Finally, compare the estimated values for the Collision variable with the ones found using Maximum likelihood estimation. Are these differences expected and why? "
   ]
  },
  {
   "cell_type": "markdown",
   "metadata": {},
   "source": [
    "**ANS 1:**\n",
    "\n",
    "**ANS 2:**\n",
    "\n",
    "**ANS 3:**"
   ]
  },
  {
   "cell_type": "code",
   "execution_count": 67,
   "metadata": {
    "collapsed": true
   },
   "outputs": [],
   "source": [
    "pseudo_counts = {'Road_Condition':[[5],[5]],\n",
    "                 'Weather_Visibility':[[5],[5]],\n",
    "                 'Light_Dark':[[5],[5]],\n",
    "                 'Object':[[5],[5]],\n",
    "                 'LIDAR_Sensor':[[5,5],[5,5]],\n",
    "                 'Weather_Detection':[[5,5],[5,5]],\n",
    "                 'Sensor_Detection':[[5,5,5,5,5,5,5,5,5,5,5,5,5,5,5,5],\n",
    "                                     [5,5,5,5,5,5,5,5,5,5,5,5,5,5,5,5]],\n",
    "                 'Road_Condition_Detection':[[5,5],[5,5]],\n",
    "                 'Visual_Sensor_Detection':[[5,5,5,5,5,5,5,5],\n",
    "                                            [5,5,5,5,5,5,5,5]],\n",
    "                 'Early_Breaking':[[500,500,500,500], \n",
    "                                   [5000,5000,5000,5000]],\n",
    "                 'Collision':[[100,100,100,100,5,5,5,5],[1,1,1,1,5,5,5,5]]}"
   ]
  },
  {
   "cell_type": "markdown",
   "metadata": {},
   "source": [
    "### 8. Queries\n",
    "\n",
    "With parameters fit, you are ready to perform queries on your model with Bayesian parameter estimates. Using the pgmpy VariableElimination function, perform the queries 1 and 2 from the table shown previously, computing the total utility, examine the results, and answer the questions. \n",
    "\n",
    "**Q 1:** Compare the probability of Collision and total utility for the different values of evidence specified in queries 1 and 2. Are these values consistent with what you expect and why? "
   ]
  },
  {
   "cell_type": "markdown",
   "metadata": {},
   "source": [
    "**ANS:**"
   ]
  },
  {
   "cell_type": "markdown",
   "metadata": {},
   "source": [
    "# Solution\n",
    "\n",
    "Create cells below for your solution to the stated problem. Be sure to include some Markdown text and code comments to explain each component of your algorithm. "
   ]
  },
  {
   "cell_type": "code",
   "execution_count": 68,
   "metadata": {
    "collapsed": true
   },
   "outputs": [],
   "source": [
    "from pgmpy.models import BayesianModel\n",
    "from pgmpy.factors.discrete import TabularCPD\n",
    "from pgmpy.inference import VariableElimination, BeliefPropagation\n",
    "from pgmpy.estimators.MLE import MaximumLikelihoodEstimator\n",
    "from pgmpy.estimators.BayesianEstimator import BayesianEstimator\n",
    "import numpy as np\n",
    "import numpy.random as nr\n",
    "import pandas as pd"
   ]
  },
  {
   "cell_type": "markdown",
   "metadata": {},
   "source": [
    "### Import Data File"
   ]
  },
  {
   "cell_type": "code",
   "execution_count": 69,
   "metadata": {
    "collapsed": true
   },
   "outputs": [],
   "source": [
    "samples = pd.read_csv('BreakingData.csv')"
   ]
  },
  {
   "cell_type": "code",
   "execution_count": 70,
   "metadata": {
    "collapsed": true
   },
   "outputs": [],
   "source": []
  }
 ],
 "metadata": {
  "kernelspec": {
   "display_name": "Python 3",
   "language": "python",
   "name": "python3"
  },
  "language_info": {
   "codemirror_mode": {
    "name": "ipython",
    "version": 3
   },
   "file_extension": ".py",
   "mimetype": "text/x-python",
   "name": "python",
   "nbconvert_exporter": "python",
   "pygments_lexer": "ipython3",
   "version": "3.7.3"
  }
 },
 "nbformat": 4,
 "nbformat_minor": 2
}
