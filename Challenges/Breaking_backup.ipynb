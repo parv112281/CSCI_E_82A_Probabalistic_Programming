{
 "cells": [
  {
   "cell_type": "markdown",
   "metadata": {},
   "source": [
    "# Challenge Assignment\n",
    "## Autonomous Vehicle Breaking\n",
    "\n",
    "## CSCI E-82A\n",
    "\n",
    ">**Make sure** you include your name along with the name of your team and team members in the notebook you submit."
   ]
  },
  {
   "cell_type": "markdown",
   "metadata": {},
   "source": [
    "**Your name and team name here:** "
   ]
  },
  {
   "cell_type": "markdown",
   "metadata": {},
   "source": [
    "## Introduction\n",
    "\n",
    "As is typically the case with robots, autonomous vehicles use multiple sensors. Agent actions rely on integrating the precepts of these sensors. A number of methods are used to integrate uncertain information from sensors. Directed graphical models are a powerful and flexible approach to sensor integration. \n",
    "\n",
    "Another difficulty for autonomous vehicles, and many other robotics problems, is uncertainty about the environment. In the case of autonomous vehicles the uncertainty can include road conditions, visibility conditions, and the actions of human drivers and pedestrians.    \n",
    "\n",
    "Directed graphical models provide a powerful representation for reasoning with uncertain sensor data and uncertainty in the environment. In this challenge you will perform learning and inference on a directed graphical model of braking for an autonomous vehicle. The goal of the agent is to control the braking of the autonomous vehicle to avoid collisions.\n",
    "\n",
    "The control of an actual autonomous vehicle is extremely complicated. Autonomous vehicles use many task-specific sensors. Further, any useful model has a large number of variables, many with complex continuous distribution models (e.g. mixture models). For this challenge, the number of senors and variables has been limited. Further, all distributions have simple Binomial posterior distributions.\n",
    "\n",
    "A practical autonomous vehicle would have a very low probability of collision with an object in its path; e.g. $p(collision) < 10^{-7}$. Since such small probability values are hard to work with, for this challenge, the probabilities of sensor errors and collisions are unrealistically high. "
   ]
  },
  {
   "cell_type": "markdown",
   "metadata": {},
   "source": [
    "### Description of Problem\n",
    "\n",
    "A Directed Acyclic Graph (DAG) of the autonomous vehicle breaking decision model is show below. There are 11 variable, two utility function and one decision node.  "
   ]
  },
  {
   "cell_type": "markdown",
   "metadata": {},
   "source": [
    "<img src=\"BrakingDAG.JPG\" alt=\"Drawing\" style=\"width:600px; height:400px\"/>\n",
    "<center> DAG for autonomous vehicle breaking control problem </center>"
   ]
  },
  {
   "cell_type": "markdown",
   "metadata": {},
   "source": [
    "#### Variables  \n",
    "\n",
    "The variables for the joint probability distribution are:\n",
    "\n",
    "1. **Road Condition** is the condition of the road surface; 0 = good, 1 = slippery, eg. wet or icy.\n",
    "2. **Weather Visibility** is the optical (visual) visibility for the visual sensor; 0 = good, 1 = poor, eg. rain of fog. \n",
    "3. **Light Dark** is the lighting conditions for the road ahead; 0 = good, 1 = poor or dark.\n",
    "4. **Object** indicates an object in the vehicle's path; 0 = no object, 1 = object in path. \n",
    "5. **Road Condition Detection** is the conditional probability of the reading (precept) from a sensor that determines road condition, given the Road Condition variable; 0 = good, 1 = slippery, eg. wet or icy.\n",
    "6. **Weather Detection** is the conditional probability of the reading (precept) from a sensor that determines weather visibility, given the Weather Visibility Variable; 0 = good, 1 = poor, eg. rain of fog.\n",
    "7. **Visual Sensor Detection** is the conditional probability that the visual sensors see an object in the vehicle's path, or sense a non-existent object (false positive), give the Weather Visibility, Light Dark and Object variables; 0 = no object, 1 = object in path. \n",
    "8. **LIDAR Sensor Detection** is the conditional probability that the LIDAR sensor see an object in the vehicle's path, or sense a non-existent object (false positive), give the Object variable; 0 = no object, 1 = object in path. LIDAR uses infrared lasers for imaging and ranging. LIDAR is much less affected by rain and fog, but has lower resolution, when compared to a visual (optical) sensor. \n",
    "9. **Sensor Detection** is the integrated posterior distribution of an object being in the vehicle's path, or sensing a non-existent object (false positive), given the precepts of the Weather Detection, Dark Light, Visual Sensor Detection and LIDAR Sensor Detection variables; ; 0 = no object, 1 = object in path.\n",
    "10. **Early Breaking** is the conditional probability that the autonomous vehicle should apply breaks early to avoid a collision given the Road Condition Detection and Sensor Detection variables; 0 = normal breaking, 1 = apply early breaking. Early breaking should reduce the chances of collision but incurs a cost in terms of delay of the vehicle and other traffic. \n",
    "11. **Collision** is the conditional probability of the vehicle colliding with an object given the Object, Road Condition Detection and Sensor Detection variables; 0 = no collision, 1 = collision. "
   ]
  },
  {
   "cell_type": "markdown",
   "metadata": {},
   "source": [
    "#### Utility Functions\n",
    "\n",
    "The utility functions for this problem are:   \n",
    "\n",
    "- Utility of applying breaking early:\n",
    "\n",
    "|  | No Early Breaking | Early Breaking |\n",
    "|----|----|----|\n",
    "|Utility | 0 | -1 |\n",
    "\n",
    "\n",
    "- Utility of collision: \n",
    "\n",
    "|  | No Collision | Collision |\n",
    "|----|----|----|\n",
    "|Utility | 0 | -1000 |\n",
    "\n",
    "Total utility for this problem is the sum of Early Breaking utility and Collision utility. "
   ]
  },
  {
   "cell_type": "markdown",
   "metadata": {},
   "source": [
    "#### Decision Node\n",
    "\n",
    "There is one decision node in this problem, Early Breaking. This decision node is implemented as evidence for the Early Breaking variable; 0 = normal breaking, 1 = early breaking. "
   ]
  },
  {
   "cell_type": "markdown",
   "metadata": {},
   "source": [
    "## Instructions\n",
    "\n",
    "In this challenge you and your team will do the following:   \n",
    "\n",
    "### 1. Load Dataset     \n",
    "Load the required packages and the csv file of 5,000 cases into a Pandas data frame.   \n",
    "\n",
    "> **Hint:** Carefully examine the variable names. You will need to make sure that you use these names to construct your model. "
   ]
  },
  {
   "cell_type": "code",
   "execution_count": 1,
   "metadata": {},
   "outputs": [
    {
     "data": {
      "text/html": [
       "<div>\n",
       "<style scoped>\n",
       "    .dataframe tbody tr th:only-of-type {\n",
       "        vertical-align: middle;\n",
       "    }\n",
       "\n",
       "    .dataframe tbody tr th {\n",
       "        vertical-align: top;\n",
       "    }\n",
       "\n",
       "    .dataframe thead th {\n",
       "        text-align: right;\n",
       "    }\n",
       "</style>\n",
       "<table border=\"1\" class=\"dataframe\">\n",
       "  <thead>\n",
       "    <tr style=\"text-align: right;\">\n",
       "      <th></th>\n",
       "      <th>Unnamed: 0</th>\n",
       "      <th>Object</th>\n",
       "      <th>LIDAR_Sensor</th>\n",
       "      <th>Light_Dark</th>\n",
       "      <th>Weather_Visibility</th>\n",
       "      <th>Weather_Detection</th>\n",
       "      <th>Visual_Sensor_Detection</th>\n",
       "      <th>Sensor_Detection</th>\n",
       "      <th>Road_Condition</th>\n",
       "      <th>Road_Condition_Detection</th>\n",
       "      <th>Early_Breaking</th>\n",
       "      <th>Collision</th>\n",
       "    </tr>\n",
       "  </thead>\n",
       "  <tbody>\n",
       "    <tr>\n",
       "      <td>0</td>\n",
       "      <td>0</td>\n",
       "      <td>0</td>\n",
       "      <td>0</td>\n",
       "      <td>0</td>\n",
       "      <td>1</td>\n",
       "      <td>1</td>\n",
       "      <td>0</td>\n",
       "      <td>0</td>\n",
       "      <td>0</td>\n",
       "      <td>0</td>\n",
       "      <td>0</td>\n",
       "      <td>0</td>\n",
       "    </tr>\n",
       "    <tr>\n",
       "      <td>1</td>\n",
       "      <td>1</td>\n",
       "      <td>0</td>\n",
       "      <td>0</td>\n",
       "      <td>0</td>\n",
       "      <td>0</td>\n",
       "      <td>0</td>\n",
       "      <td>0</td>\n",
       "      <td>0</td>\n",
       "      <td>0</td>\n",
       "      <td>0</td>\n",
       "      <td>0</td>\n",
       "      <td>0</td>\n",
       "    </tr>\n",
       "    <tr>\n",
       "      <td>2</td>\n",
       "      <td>2</td>\n",
       "      <td>1</td>\n",
       "      <td>1</td>\n",
       "      <td>1</td>\n",
       "      <td>0</td>\n",
       "      <td>0</td>\n",
       "      <td>1</td>\n",
       "      <td>1</td>\n",
       "      <td>0</td>\n",
       "      <td>0</td>\n",
       "      <td>1</td>\n",
       "      <td>0</td>\n",
       "    </tr>\n",
       "    <tr>\n",
       "      <td>3</td>\n",
       "      <td>3</td>\n",
       "      <td>1</td>\n",
       "      <td>1</td>\n",
       "      <td>1</td>\n",
       "      <td>0</td>\n",
       "      <td>0</td>\n",
       "      <td>1</td>\n",
       "      <td>1</td>\n",
       "      <td>0</td>\n",
       "      <td>0</td>\n",
       "      <td>1</td>\n",
       "      <td>0</td>\n",
       "    </tr>\n",
       "    <tr>\n",
       "      <td>4</td>\n",
       "      <td>4</td>\n",
       "      <td>0</td>\n",
       "      <td>0</td>\n",
       "      <td>0</td>\n",
       "      <td>0</td>\n",
       "      <td>0</td>\n",
       "      <td>0</td>\n",
       "      <td>0</td>\n",
       "      <td>1</td>\n",
       "      <td>0</td>\n",
       "      <td>0</td>\n",
       "      <td>0</td>\n",
       "    </tr>\n",
       "  </tbody>\n",
       "</table>\n",
       "</div>"
      ],
      "text/plain": [
       "   Unnamed: 0  Object  LIDAR_Sensor  Light_Dark  Weather_Visibility  \\\n",
       "0           0       0             0           0                   1   \n",
       "1           1       0             0           0                   0   \n",
       "2           2       1             1           1                   0   \n",
       "3           3       1             1           1                   0   \n",
       "4           4       0             0           0                   0   \n",
       "\n",
       "   Weather_Detection  Visual_Sensor_Detection  Sensor_Detection  \\\n",
       "0                  1                        0                 0   \n",
       "1                  0                        0                 0   \n",
       "2                  0                        1                 1   \n",
       "3                  0                        1                 1   \n",
       "4                  0                        0                 0   \n",
       "\n",
       "   Road_Condition  Road_Condition_Detection  Early_Breaking  Collision  \n",
       "0               0                         0               0          0  \n",
       "1               0                         0               0          0  \n",
       "2               0                         0               1          0  \n",
       "3               0                         0               1          0  \n",
       "4               1                         0               0          0  "
      ]
     },
     "execution_count": 1,
     "metadata": {},
     "output_type": "execute_result"
    }
   ],
   "source": [
    "import pandas as pd\n",
    "data = pd.read_csv(\"BreakingData.csv\")\n",
    "data.head()"
   ]
  },
  {
   "cell_type": "markdown",
   "metadata": {},
   "source": [
    "### 2. Define the Graphical Model     \n",
    "\n",
    "Using the tools in pgmpy define the BayesianModel class object for this problem. "
   ]
  },
  {
   "cell_type": "code",
   "execution_count": 2,
   "metadata": {},
   "outputs": [],
   "source": [
    "from pgmpy.models import BayesianModel\n",
    "from pgmpy.factors.discrete import TabularCPD\n",
    "from pgmpy.inference import VariableElimination\n",
    "import numpy as np\n",
    "import networkx as nx\n",
    "collision_model = BayesianModel([('Road_Condition', 'Collision'), ('Road_Condition',  'Road_Condition_Detection'), \n",
    "                                 ('Weather_Visibility', 'Weather_Detection'), ('Weather_Visibility', 'Visual_Sensor_Detection'),\n",
    "                                 ('Light_Dark', 'Sensor_Detection'), ('Light_Dark', 'Visual_Sensor_Detection'), \n",
    "                                 ('Object', 'Collision'), ('Object', 'Visual_Sensor_Detection'), ('Object', 'LIDAR_Sensor'),\n",
    "                                 ('Weather_Detection', 'Sensor_Detection'), ('Visual_Sensor_Detection', 'Sensor_Detection'),\n",
    "                                 ('LIDAR_Sensor', 'Sensor_Detection'), ('Road_Condition_Detection', 'Early_Breaking'),\n",
    "                                 ('Sensor_Detection', 'Early_Breaking'), ('Early_Breaking', 'Collision')])\n",
    "variables = ['Road_Condition', 'Weather_Visibility', 'Light_Dark', 'Object', 'Weather_Detection', 'Visual_Sensor_Detection',\n",
    "             'LIDAR_Sensor', 'Road_Condition_Detection', 'Sensor_Detection', 'Early_Breaking', 'Collision']"
   ]
  },
  {
   "cell_type": "markdown",
   "metadata": {},
   "source": [
    "### 3. Factorization of Distribution\n",
    "\n",
    "Using Markdown write out the joint distribution and the factorization defined in the graphical model. You may use some abbreviations for the long variable names.  \n",
    "\n",
    "How many states are there in the joint distribution of 11 Binomially distributed variables. \n",
    "\n",
    "How many states are in the factorized distribution?"
   ]
  },
  {
   "cell_type": "markdown",
   "metadata": {},
   "source": [
    "**ANS**: $P(RC) P(WV) P(LD) P(O)\n",
    "           P(RCD|RC) P(WD|WV) P(LS|O)\n",
    "           P(VSD|WV, LD, O) P(SD|WD, LD, SVD, LS)\n",
    "           P(EB|SD, RCD)\n",
    "           P(C|RC, O, EB)$\n",
    "\n",
    "**ANS**: 2048\n",
    "\n",
    "**ANS**: 92"
   ]
  },
  {
   "cell_type": "markdown",
   "metadata": {},
   "source": [
    "### 4. Verify Independencies\n",
    "\n",
    "With the skeleton of your DAG defined, you can verify the indepenencies. To simplify this problem use the pgmpy local_independencies method. Recall that the local independencies are independencies within the Markov blanket of each variable. \n",
    "\n",
    "Are the independencies you find consistent with your factorization of the distribution and why?"
   ]
  },
  {
   "cell_type": "code",
   "execution_count": 3,
   "metadata": {},
   "outputs": [
    {
     "data": {
      "text/plain": [
       "(Road_Condition _|_ Sensor_Detection, Visual_Sensor_Detection, Weather_Visibility, LIDAR_Sensor, Object, Light_Dark, Weather_Detection)\n",
       "(Weather_Visibility _|_ Road_Condition_Detection, LIDAR_Sensor, Road_Condition, Object, Light_Dark)\n",
       "(Light_Dark _|_ Road_Condition_Detection, Weather_Visibility, Road_Condition, Object, LIDAR_Sensor, Weather_Detection)\n",
       "(Object _|_ Road_Condition_Detection, Weather_Visibility, Road_Condition, Light_Dark, Weather_Detection)\n",
       "(Weather_Detection _|_ Road_Condition_Detection, Visual_Sensor_Detection, LIDAR_Sensor, Road_Condition, Object, Light_Dark | Weather_Visibility)\n",
       "(Visual_Sensor_Detection _|_ Road_Condition_Detection, Road_Condition, LIDAR_Sensor, Weather_Detection | Object, Weather_Visibility, Light_Dark)\n",
       "(LIDAR_Sensor _|_ Road_Condition_Detection, Visual_Sensor_Detection, Weather_Visibility, Road_Condition, Light_Dark, Weather_Detection | Object)\n",
       "(Road_Condition_Detection _|_ Sensor_Detection, Visual_Sensor_Detection, Weather_Visibility, LIDAR_Sensor, Object, Light_Dark, Weather_Detection | Road_Condition)\n",
       "(Sensor_Detection _|_ Road_Condition_Detection, Road_Condition, Object, Weather_Visibility | LIDAR_Sensor, Visual_Sensor_Detection, Light_Dark, Weather_Detection)\n",
       "(Early_Breaking _|_ Visual_Sensor_Detection, Weather_Visibility, LIDAR_Sensor, Road_Condition, Object, Light_Dark, Weather_Detection | Road_Condition_Detection, Sensor_Detection)\n",
       "(Collision _|_ Sensor_Detection, Visual_Sensor_Detection, Weather_Visibility, LIDAR_Sensor, Road_Condition_Detection, Light_Dark, Weather_Detection | Road_Condition, Object, Early_Breaking)"
      ]
     },
     "execution_count": 3,
     "metadata": {},
     "output_type": "execute_result"
    }
   ],
   "source": [
    "collision_model.local_independencies(variables)"
   ]
  },
  {
   "cell_type": "markdown",
   "metadata": {},
   "source": [
    "**ANS**: Yes, the independencies are consistent since conditioned variables match the edges in the graph."
   ]
  },
  {
   "cell_type": "markdown",
   "metadata": {},
   "source": [
    "### 5. Maximum Likelihood Estimation of Model Parameters\n",
    "\n",
    "Next, use pgmy to perform maximum likelihood estimation of the model parameters using the dataset provided.  \n",
    "\n",
    "Print the CPDs and carefully examine the results. Notice that some of the probabilities for the Collision variable are either 0.0 or 1.0. Is this reasonable and why?"
   ]
  },
  {
   "cell_type": "code",
   "execution_count": 4,
   "metadata": {},
   "outputs": [
    {
     "name": "stdout",
     "output_type": "stream",
     "text": [
      "+----------------+-------------------+-------------------+---------------------+---------------------+-------------------+-------------------+---------------------+----------------------+\n",
      "| Early_Breaking | Early_Breaking(0) | Early_Breaking(0) | Early_Breaking(0)   | Early_Breaking(0)   | Early_Breaking(1) | Early_Breaking(1) | Early_Breaking(1)   | Early_Breaking(1)    |\n",
      "+----------------+-------------------+-------------------+---------------------+---------------------+-------------------+-------------------+---------------------+----------------------+\n",
      "| Object         | Object(0)         | Object(0)         | Object(1)           | Object(1)           | Object(0)         | Object(0)         | Object(1)           | Object(1)            |\n",
      "+----------------+-------------------+-------------------+---------------------+---------------------+-------------------+-------------------+---------------------+----------------------+\n",
      "| Road_Condition | Road_Condition(0) | Road_Condition(1) | Road_Condition(0)   | Road_Condition(1)   | Road_Condition(0) | Road_Condition(1) | Road_Condition(0)   | Road_Condition(1)    |\n",
      "+----------------+-------------------+-------------------+---------------------+---------------------+-------------------+-------------------+---------------------+----------------------+\n",
      "| Collision(0)   | 1.0               | 1.0               | 0.9692307692307692  | 0.918918918918919   | 1.0               | 1.0               | 0.989159891598916   | 0.9764705882352941   |\n",
      "+----------------+-------------------+-------------------+---------------------+---------------------+-------------------+-------------------+---------------------+----------------------+\n",
      "| Collision(1)   | 0.0               | 0.0               | 0.03076923076923077 | 0.08108108108108109 | 0.0               | 0.0               | 0.01084010840108401 | 0.023529411764705882 |\n",
      "+----------------+-------------------+-------------------+---------------------+---------------------+-------------------+-------------------+---------------------+----------------------+\n"
     ]
    }
   ],
   "source": [
    "from pgmpy.estimators import MaximumLikelihoodEstimator, BayesianEstimator\n",
    "collision_model.fit(data, estimator=MaximumLikelihoodEstimator)\n",
    "print(collision_model.get_cpds('Collision'))"
   ]
  },
  {
   "cell_type": "markdown",
   "metadata": {},
   "source": [
    "**ANS**:"
   ]
  },
  {
   "cell_type": "markdown",
   "metadata": {},
   "source": [
    "### 6. Queries\n",
    "\n",
    "With parameters fit, you are ready to perform queries on your model. Using the pgmpy VariableElimination function, perform the queries specified in the table below, computing the total utility, examine the results, and answer the questions. \n",
    "\n",
    "| Query | Query Variables | Evidence |\n",
    "|:----|:----|:----|\n",
    "|1 | Collision, Early_Breaking | Road_Condition = 0 |\n",
    "|2 | Collision, Early_Breaking | Road_Condition = 1 |\n",
    "|3 | Collision, Early_Breaking | Light_Dark = 0, Weather_Visibility = 0 |\n",
    "|4 | Collision, Early_Breaking | Light_Dark = 1, Weather_Visibility = 1  |\n",
    "|5 | Collision | Early_Breaking = 0, Object = 1, Road_Condition = 1 |\n",
    "|6 | Collision | Early_Breaking = 1, Object = 1, Road_Condition = 1 |\n",
    "|7 | Collision | Early_Breaking = 0, Object = 1, Light_Dark = 1, Weather_Visibility = 1 |\n",
    "|8 | Collision | Early_Breaking = 1, Object = 1, Light_Dark = 1, Weather_Visibility = 1 |\n",
    "\n",
    "**Q 1:** Compare the probability of Collision, Early Breaking and total utility for the different values of evidence specified in queries 1 and 2. Are these values consistent with what you expect and why? \n",
    "\n",
    "**Q 2:** Compare the probability of Collision, Early Breaking and total utility for the different values of the evidence variables specified in queries 3 and 4. Are these values significantly different? Given how the sensor data is integrated, do these differences seem reasonable?\n",
    "\n",
    "**Q 3:** Compare the probability of Collision and total utility for the different values of the evidence variables specified in queries 5 and 6. Are these values consistent with what you expect and why? \n",
    "\n",
    "**Q 4** Compare the probability of Collision and total utility for the different values of the evidence variables specified in queries 7 and 8. Are these values consistent with what you expect and why? \n",
    "\n",
    "> **Note:** You cannot perform a query on an evidence variable. When Early_Breaking is evidence, make sure it is not a query variable. "
   ]
  },
  {
   "cell_type": "code",
   "execution_count": 5,
   "metadata": {},
   "outputs": [
    {
     "name": "stderr",
     "output_type": "stream",
     "text": [
      "Finding Elimination Order: : 100%|█████████████████████████████████████████████████████| 9/9 [00:00<00:00, 8968.58it/s]\n",
      "Eliminating: Weather_Detection: 100%|███████████████████████████████████████████████████| 9/9 [00:00<00:00, 256.52it/s]\n",
      "Finding Elimination Order: : 100%|█████████████████████████████████████████████████████| 9/9 [00:00<00:00, 8974.97it/s]\n",
      "Eliminating: Weather_Detection: 100%|███████████████████████████████████████████████████| 9/9 [00:00<00:00, 230.16it/s]\n",
      "Finding Elimination Order: : 100%|█████████████████████████████████████████████████████| 9/9 [00:00<00:00, 4486.95it/s]\n",
      "Eliminating: Weather_Detection: 100%|███████████████████████████████████████████████████| 9/9 [00:00<00:00, 249.25it/s]\n",
      "Finding Elimination Order: : 100%|█████████████████████████████████████████████████████| 9/9 [00:00<00:00, 9191.32it/s]\n",
      "Eliminating: Weather_Detection: 100%|███████████████████████████████████████████████████| 9/9 [00:00<00:00, 236.21it/s]\n",
      "Finding Elimination Order: : 100%|█████████████████████████████████████████████████████| 8/8 [00:00<00:00, 3988.40it/s]\n",
      "Eliminating: Weather_Detection: 100%|███████████████████████████████████████████████████| 8/8 [00:00<00:00, 443.29it/s]\n",
      "Finding Elimination Order: : 100%|█████████████████████████████████████████████████████| 8/8 [00:00<00:00, 3997.43it/s]\n",
      "Eliminating: Weather_Detection: 100%|███████████████████████████████████████████████████| 8/8 [00:00<00:00, 332.51it/s]\n",
      "Finding Elimination Order: : 100%|█████████████████████████████████████████████████████| 8/8 [00:00<00:00, 7979.65it/s]\n",
      "Eliminating: Weather_Detection: 100%|███████████████████████████████████████████████████| 8/8 [00:00<00:00, 419.93it/s]\n",
      "Finding Elimination Order: : 100%|█████████████████████████████████████████████████████| 8/8 [00:00<00:00, 7979.65it/s]\n",
      "Eliminating: Weather_Detection: 100%|███████████████████████████████████████████████████| 8/8 [00:00<00:00, 362.58it/s]\n",
      "Finding Elimination Order: : 100%|█████████████████████████████████████████████████████| 7/7 [00:00<00:00, 6980.53it/s]\n",
      "Eliminating: Weather_Detection: 100%|███████████████████████████████████████████████████| 7/7 [00:00<00:00, 410.67it/s]\n",
      "Finding Elimination Order: : 100%|█████████████████████████████████████████████████████| 7/7 [00:00<00:00, 6977.22it/s]\n",
      "Eliminating: Weather_Detection: 100%|███████████████████████████████████████████████████| 7/7 [00:00<00:00, 498.66it/s]\n",
      "Finding Elimination Order: : 100%|█████████████████████████████████████████████████████| 6/6 [00:00<00:00, 5986.16it/s]\n",
      "Eliminating: Weather_Detection: 100%|███████████████████████████████████████████████████| 6/6 [00:00<00:00, 352.01it/s]\n",
      "Finding Elimination Order: : 100%|█████████████████████████████████████████████████████| 6/6 [00:00<00:00, 2992.01it/s]\n",
      "Eliminating: Weather_Detection: 100%|███████████████████████████████████████████████████| 6/6 [00:00<00:00, 544.00it/s]\n"
     ]
    },
    {
     "name": "stdout",
     "output_type": "stream",
     "text": [
      "query_1: -2.796104442624267\n",
      "query_2: -6.793683901137204\n",
      "query_3: -3.3994842038669666\n",
      "query_4: -3.826792052841912\n",
      "query_5: -81.08108108108108\n",
      "query_6: -23.52941176470588\n",
      "query_7: -44.36906035143847\n",
      "query_8: -13.276267737923853\n"
     ]
    }
   ],
   "source": [
    "collision_inference = VariableElimination(collision_model)\n",
    "ube = np.array([0, -1])\n",
    "uc = np.array([0, -1000])\n",
    "def compute_utility(inference, variable, utility, evidence):\n",
    "    qur = inference.query(variables=[variable], evidence = evidence, joint=False)\n",
    "    return np.sum(np.multiply(qur[variable].values, utility))\n",
    "query_1 = compute_utility(collision_inference, 'Early_Breaking', ube, {'Road_Condition':0}) + compute_utility(collision_inference, 'Collision', uc, {'Road_Condition':0})\n",
    "query_2 = compute_utility(collision_inference, 'Early_Breaking', ube, {'Road_Condition':1}) + compute_utility(collision_inference, 'Collision', uc, {'Road_Condition':1})\n",
    "query_3 = compute_utility(collision_inference, 'Early_Breaking', ube, {'Light_Dark':0, 'Weather_Visibility':0}) + compute_utility(collision_inference, 'Collision', uc, {'Light_Dark':0, 'Weather_Visibility':0})\n",
    "query_4 = compute_utility(collision_inference, 'Early_Breaking', ube, {'Light_Dark':1, 'Weather_Visibility':1}) + compute_utility(collision_inference, 'Collision', uc, {'Light_Dark':1, 'Weather_Visibility':1})\n",
    "query_5 = compute_utility(collision_inference, 'Collision', uc, {'Early_Breaking':0, 'Road_Condition':1, 'Object':1})\n",
    "query_6 = compute_utility(collision_inference, 'Collision', uc, {'Early_Breaking':1, 'Road_Condition':1, 'Object':1})\n",
    "query_7 = compute_utility(collision_inference, 'Collision', uc, {'Early_Breaking':0, 'Light_Dark':1, 'Weather_Visibility':1, 'Object':1})\n",
    "query_8 = compute_utility(collision_inference, 'Collision', uc, {'Early_Breaking':1, 'Light_Dark':1, 'Weather_Visibility':1, 'Object':1})\n",
    "\n",
    "\n",
    "print ('query_1: ' + str(query_1))\n",
    "print ('query_2: ' + str(query_2))\n",
    "print ('query_3: ' + str(query_3))\n",
    "print ('query_4: ' + str(query_4))\n",
    "print ('query_5: ' + str(query_5))\n",
    "print ('query_6: ' + str(query_6))\n",
    "print ('query_7: ' + str(query_7))\n",
    "print ('query_8: ' + str(query_8))"
   ]
  },
  {
   "cell_type": "markdown",
   "metadata": {},
   "source": [
    "**ANS 1**: The utility for the second query decreases since the road conditions are worse.\n",
    "\n",
    "**ANS 2**: These values are not significantly different because the 'Early_Breaking' variable is not directly dependent on these variables.\n",
    "\n",
    "**ANS 3**: Yes, these values are consistent because 'Early_Breaking' directly effects the probability of a collision and thus whenever we brake early we are more likely to avoid a collision.\n",
    "\n",
    "**ANS 4**: Yes, these values are consistent because 'Early_Breaking' directly effects the probability of a collision and thus whenever we brake early we are more likely to avoid a collision."
   ]
  },
  {
   "cell_type": "markdown",
   "metadata": {},
   "source": [
    "### 7. Bayesian Estimation of Model Parameters\n",
    "\n",
    "Next, use pgmy to perform Bayesian estimation of the model parameters using the dataset provided. The pseudo counts for the prior are given in a cell below.  \n",
    "\n",
    "**Q 1:** The prior is generally weak, with the exception of one variable. Which variable has a strong prior and do you think using this strong prior is reasonable in the interest of improving safety and why? \n",
    "\n",
    "**Q 2:** Print the CPDs and carefully examine the results. Pay particular attention to the Early_Breaking variable, comparing the values to the values obtained with maximum likelihood estimation. Is this difference reasonable given the prior and why?\n",
    "\n",
    "**Q 3:** Finally, compare the estimated values for the Collision variable with the ones found using Maximum likelihood estimation. Are these differences expected and why? "
   ]
  },
  {
   "cell_type": "code",
   "execution_count": null,
   "metadata": {},
   "outputs": [],
   "source": []
  },
  {
   "cell_type": "markdown",
   "metadata": {},
   "source": [
    "**ANS 1:** Yes, because safety concerns outweigh other concerns, therefore using a strong prior for early braking makes sense.\n",
    "\n",
    "**ANS 2:** In general the prior causes the probabilties of the 'Early_Breaking' variable being true to increase.\n",
    "\n",
    "**ANS 3:** Yes, the extreme values of 1.0 and 0.0 are gone with the inclusion of the prior, but in general the probabilities are similar."
   ]
  },
  {
   "cell_type": "code",
   "execution_count": 6,
   "metadata": {},
   "outputs": [
    {
     "name": "stderr",
     "output_type": "stream",
     "text": [
      "WARNING:root:Replacing existing CPD for Road_Condition\n",
      "WARNING:root:Replacing existing CPD for Collision\n",
      "WARNING:root:Replacing existing CPD for Road_Condition_Detection\n",
      "WARNING:root:Replacing existing CPD for Weather_Visibility\n",
      "WARNING:root:Replacing existing CPD for Weather_Detection\n",
      "WARNING:root:Replacing existing CPD for Visual_Sensor_Detection\n",
      "WARNING:root:Replacing existing CPD for Light_Dark\n",
      "WARNING:root:Replacing existing CPD for Sensor_Detection\n",
      "WARNING:root:Replacing existing CPD for Object\n",
      "WARNING:root:Replacing existing CPD for LIDAR_Sensor\n",
      "WARNING:root:Replacing existing CPD for Early_Breaking\n"
     ]
    }
   ],
   "source": [
    "pseudo_counts = {'Road_Condition':[[5],[5]],\n",
    "                 'Weather_Visibility':[[5],[5]],\n",
    "                 'Light_Dark':[[5],[5]],\n",
    "                 'Object':[[5],[5]],\n",
    "                 'LIDAR_Sensor':[[5,5],[5,5]],\n",
    "                 'Weather_Detection':[[5,5],[5,5]],\n",
    "                 'Sensor_Detection':[[5,5,5,5,5,5,5,5,5,5,5,5,5,5,5,5],\n",
    "                                     [5,5,5,5,5,5,5,5,5,5,5,5,5,5,5,5]],\n",
    "                 'Road_Condition_Detection':[[5,5],[5,5]],\n",
    "                 'Visual_Sensor_Detection':[[5,5,5,5,5,5,5,5],\n",
    "                                            [5,5,5,5,5,5,5,5]],\n",
    "                 'Early_Breaking':[[500,500,500,500], \n",
    "                                   [5000,5000,5000,5000]],\n",
    "                 'Collision':[[100,100,100,100,5,5,5,5],[1,1,1,1,5,5,5,5]]}\n",
    "collision_model.fit(data, estimator=BayesianEstimator, prior_type='dirichlet', pseudo_counts=pseudo_counts)\n"
   ]
  },
  {
   "cell_type": "markdown",
   "metadata": {},
   "source": [
    "### 8. Queries\n",
    "\n",
    "With parameters fit, you are ready to perform queries on your model with Bayesian parameter estimates. Using the pgmpy VariableElimination function, perform the queries 1 and 2 from the table shown previously, computing the total utility, examine the results, and answer the questions. \n",
    "\n",
    "**Q 1:** Compare the probability of Collision and total utility for the different values of evidence specified in queries 1 and 2. Are these values consistent with what you expect and why? "
   ]
  },
  {
   "cell_type": "code",
   "execution_count": 7,
   "metadata": {},
   "outputs": [],
   "source": [
    "collision_inference = VariableElimination(collision_model)"
   ]
  },
  {
   "cell_type": "code",
   "execution_count": 8,
   "metadata": {},
   "outputs": [
    {
     "name": "stderr",
     "output_type": "stream",
     "text": [
      "Finding Elimination Order: : 100%|█████████████████████████████████████████████████████| 9/9 [00:00<00:00, 4414.02it/s]\n",
      "Eliminating: Weather_Detection: 100%|███████████████████████████████████████████████████| 9/9 [00:00<00:00, 100.85it/s]\n",
      "Finding Elimination Order: : 100%|█████████████████████████████████████████████████████| 9/9 [00:00<00:00, 4486.95it/s]\n",
      "Eliminating: Weather_Detection: 100%|████████████████████████████████████████████████████| 9/9 [00:00<00:00, 96.52it/s]\n",
      "Finding Elimination Order: : 100%|█████████████████████████████████████████████████████| 9/9 [00:00<00:00, 4485.89it/s]\n",
      "Eliminating: Weather_Detection: 100%|███████████████████████████████████████████████████| 9/9 [00:00<00:00, 103.14it/s]\n",
      "Finding Elimination Order: : 100%|█████████████████████████████████████████████████████| 9/9 [00:00<00:00, 4467.31it/s]\n",
      "Eliminating: Weather_Detection: 100%|████████████████████████████████████████████████████| 9/9 [00:00<00:00, 91.59it/s]\n"
     ]
    },
    {
     "name": "stdout",
     "output_type": "stream",
     "text": [
      "query_1: -14.339374850514004\n",
      "query_2: -33.79762699484495\n"
     ]
    }
   ],
   "source": [
    "query_1 = compute_utility(collision_inference, 'Early_Breaking', ube, {'Road_Condition':0}) + compute_utility(collision_inference, 'Collision', uc, {'Road_Condition':0})\n",
    "query_2 = compute_utility(collision_inference, 'Early_Breaking', ube, {'Road_Condition':1}) + compute_utility(collision_inference, 'Collision', uc, {'Road_Condition':1})\n",
    "print ('query_1: ' + str(query_1))\n",
    "print ('query_2: ' + str(query_2))"
   ]
  },
  {
   "cell_type": "markdown",
   "metadata": {},
   "source": [
    "**ANS:** Yes, these values are consistent because the utility decreases when road conditions worse, which is intuitively true. "
   ]
  },
  {
   "cell_type": "markdown",
   "metadata": {},
   "source": [
    "# Solution\n",
    "\n",
    "Create cells below for your solution to the stated problem. Be sure to include some Markdown text and code comments to explain each component of your algorithm. "
   ]
  },
  {
   "cell_type": "code",
   "execution_count": 9,
   "metadata": {},
   "outputs": [],
   "source": [
    "from pgmpy.models import BayesianModel\n",
    "from pgmpy.factors.discrete import TabularCPD\n",
    "from pgmpy.inference import VariableElimination, BeliefPropagation\n",
    "from pgmpy.estimators.MLE import MaximumLikelihoodEstimator\n",
    "from pgmpy.estimators.BayesianEstimator import BayesianEstimator\n",
    "import numpy as np\n",
    "import numpy.random as nr\n",
    "import pandas as pd"
   ]
  },
  {
   "cell_type": "markdown",
   "metadata": {},
   "source": [
    "### Import Data File"
   ]
  },
  {
   "cell_type": "code",
   "execution_count": 10,
   "metadata": {},
   "outputs": [],
   "source": [
    "samples = pd.read_csv('BreakingData.csv')"
   ]
  },
  {
   "cell_type": "code",
   "execution_count": null,
   "metadata": {},
   "outputs": [],
   "source": []
  }
 ],
 "metadata": {
  "kernelspec": {
   "display_name": "Python 3",
   "language": "python",
   "name": "python3"
  },
  "language_info": {
   "codemirror_mode": {
    "name": "ipython",
    "version": 3
   },
   "file_extension": ".py",
   "mimetype": "text/x-python",
   "name": "python",
   "nbconvert_exporter": "python",
   "pygments_lexer": "ipython3",
   "version": "3.7.4"
  }
 },
 "nbformat": 4,
 "nbformat_minor": 2
}
